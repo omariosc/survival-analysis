{
 "cells": [
  {
   "cell_type": "markdown",
   "metadata": {},
   "source": [
    "# Survival Analysis with Neural Networks\n",
    "\n",
    "The provided dataset [`MG.sav`](MG.sav) contains the survival data of `1,802` patients with chronic heart failure.\n",
    "\n",
    "## Data Dictionary\n",
    "\n",
    "|Variable|Description|\n",
    "|:--|:--|\n",
    "|PatientID|Unique ID for each patient.|\n",
    "|Cohort|There are three cohorts of patients in the dataset.|\n",
    "|MaleSex|“Male” if the patient is male, “Female” if the patient is female.|\n",
    "|Diabetes|Whether or not the patient has diabetes.|\n",
    "|Stroke|Whether or not the patient has had a stroke.|\n",
    "|COPD|Whether or not the patient has Chronic-Obstructive Pulmonary Disease (COPD).|\n",
    "|SHFIsch|Whether or not the patient has a Family History of Ischemic Heart Failure (IHF). IHF is a heart muscle disease caused by a reduced blood supply to the heart. Ischemia is pain due to decreased oxygen (less oxygen delivered to the heart) (reversible). Infarction is the part(s) of heart muscles that have died (irreversible).|\n",
    "|SHFValvular|Whether or not the patient has a Family History of valvular heart disease (VHD). The valve does not open or close (it does not function properly).|\n",
    "|SHFHyper|Whether or not the patient has a Family History of Hypertension (High Blood Pressure).|\n",
    "|SHFDCM|Whether or not the patient has a Family History of Dilated Cardiomyopathy (DCM). The heart becomes big and flaccid – does not contract properly (links to cardio-thoracic ratio).|\n",
    "|PPMorICD|Whether or not the patient has a pacemaker or an implantable cardioverter defibrillator (ICD). A pacemaker is a small device implanted in the chest to monitor the heart rhythm and deliver an electric shock to the heart if needed to restore a normal rhythm (Dane, 2023). An ICD is a small device implanted in the chest to monitor the heart rhythm.|\n",
    "|ICD|Whether or not the patient has an ICD.|\n",
    "|CRT|Whether or not the patient has undergone Cardiac Resynchronization Therapy (CRT). CRT is a treatment for heart failure that uses a pacemaker-like device to help the heart beat more efficiently.|\n",
    "|ClinicDate|Date of the clinic visit (the first date of follow-up).|\n",
    "|DeathDate|Date of death (if applicable).|\n",
    "|CensorDate|Date of censoring (the last date of follow-up).|\n",
    "|StatusDeath|Whether or not the patient died.|\n",
    "|TimeDeath|Time to death (in days).|\n",
    "|HFHospPrevYr|Whether or not the patient was hospitalised for heart failure in the previous year.|\n",
    "|AnyHospOneYr|Whether or not the patient was hospitalised for any reason in the previous year.|\n",
    "|CardHospOneYr|Whether or not the patient was hospitalised for cardiac reasons in the previous year.|\n",
    "|HFHospOneYr|Whether or not the patient was hospitalised for heart failure in the previous year.|\n",
    "|AnyHospNumbers|Number of hospitalisations in the previous year.|\n",
    "|AnyHospTotalDays|The total number of days spent in the hospital in the previous year.|\n",
    "|ClinicAge|Age of patient at clinic visit (in years).|\n",
    "|NYHAclass|New York Heart Association (NYHA) classification of heart failure.|\n",
    "|BP_Systolic|Systolic blood pressure (mmHg – millimetres of mercury).|\n",
    "|BP_Diastolic|Diastolic blood pressure (mmHg – millimetres of mercury).|\n",
    "|ECG_HeartRate|Heart rate (beats per minute).|\n",
    "|ECG_PRinterval|The PR interval between the ECG P wave's beginning and the QRS complex's beginning (in milliseconds). The atria contract and the blood flows into the ventricles.|\n",
    "|ECG_QRSinterval|QRS interval is the time between the ECG beginning of the QRS complex and the end of the QRS complex (in milliseconds). The right ventricle contracts, and the blood flows to the lung. The left ventricle contracts, and the blood flows to the rest of the body.|\n",
    "|ECG_QTcinterval|QTc interval is the time between the ECG beginning of the QRS complex and the end of the T wave (in milliseconds). Ventricles contract, and the blood flows to the rest of the body. Time from contraction of ventricles until relaxation of ventricles (whole heartbeat).|\n",
    "|Haemoglobin|Haemoglobin concentration (g/dL – grams per decilitre).|\n",
    "|WCC|White blood cell count (103/µL – thousands per cubic microlitre).|\n",
    "|Platelet|Platelet count (103/µL - thousands per cubic microlitre). More than 450,000 platelets result in a condition called thrombocytosis. Less than 150,000 is known as thrombocytopenia.|\n",
    "|Na|Sodium concentration (mEq/L – milliequivalents per litre).|\n",
    "|K|Potassium concentration (mEq/L – milliequivalents per litre).|\n",
    "|Creatinine|Creatinine concentration (mg/dL – milligram per decilitre).|\n",
    "|eGFR|Estimated glomerular filtration rate (eGFR) (mL/min – millilitres per minute).|\n",
    "|Urea|Urea concentration (mg/dL – milligram per decilitre).|\n",
    "|ALT|Alanine aminotransferase concentration (U/L – units per litre).|\n",
    "|Albumin|Albumin concentration (g/L – grams per litre).|\n",
    "|Urate|Urate concentration (g/L – grams per litre).|\n",
    "|Glucose|Glucose concentration (mmol/L – millimoles per litre).|\n",
    "|TSH|Thyroid stimulating hormone concentration.|\n",
    "|fT4|Free thyroxine 4 concentration (pmol/L – picomoles per litre).|\n",
    "|TotChol|Total cholesterol concentration (mmol/L – millimoles per litre).|\n",
    "|ech_LAenlarged|Whether or not the left atrium is enlarged.|\n",
    "|ech_IVSd|Interventricular septum diameter (mm – millimetres). Septal is the depth of the wall between ventricles.|\n",
    "|ech_PWd|Posterior wall diameter (mm – millimetres).|\n",
    "|ech_WallThMean|Mean wall thickness (mm – millimetres).|\n",
    "|ech_LVEDD|Left ventricular end-diastolic diameter (LVEDD) (mm – millimetres). End-diastolic diameter is the diameter of the left ventricle at the end of diastole (relaxation).|\n",
    "|ech_LVESD|Left ventricular end-systolic diameter (LVESD) (mm – millimetres). End-systolic diameter is the diameter of the left ventricle at the end of systole (contraction).|\n",
    "|ech_EjectionFraction|The ejection fraction is the percentage of blood pumped out of the left ventricle with each contraction.|\n",
    "|ech_LVHpresent|Whether or not left ventricular hypertrophy is present.|\n",
    "|ech_PAP|Pulmonary artery pressure (mmHg – millimetres of mercury).|\n",
    "|ech_RWMA|Whether or not there is right wall motion abnormality.|\n",
    "|ech_RHEnlarged|Whether or not the right heart is enlarged. The right heart is enlarged mainly if the right ventricle is enlarged.|\n",
    "|Holter_NSVT|Whether or not the patient has non-sustained ventricular tachycardia. Holter monitor test (continuous ECG usually over 24hr). A slow heart rate means bradycardia.|\n",
    "|Holter_AF|Whether or not the patient has atrial fibrillation. Atrial fibrillation is an irregular and often rapid heart rate. The heart does not contract completely – it flutters. Contraction is not enough to push blood.|\n",
    "|CardTHRatio|Cardiothoracic ratio. The ratio of the chest’s width to the chest’s height. A more significant percentage is worse.|\n",
    "|PulOed|Whether or not the patient has pulmonary oedema. Pulmonary oedema is fluid in the lungs. Fluid in the lungs makes it hard to breathe – swelling of the lungs.|\n",
    "|DietRx|Whether or not the patient is on diet treatment.|\n",
    "|Sulphonylurea|Whether or not the patient is on a Sulphonylurea treatment – used to treat type 2 diabetes. |\n",
    "|Insulin|Whether or not the patient is on insulin treatment. Externally given direct insulin (mutually exclusive with metformin). Insulin is a hormone that helps the body use glucose for energy.|\n",
    "|Metformin|Whether or not the patient is on metformin treatment – given to people with diabetes to increase insulin in the body (mutually exclusive with insulin treatment) - used to treat type 2 diabetes.|\n",
    "|Glitazone|Whether or not the patient is on a glitazone treatment – to treat type 2 diabetes. They may not need insulin or metformin.|\n",
    "|Ace|Whether or not the patient is on an angiotensin-converting enzyme inhibitor  (ACE) treatment – used to treat high blood pressure.|\n",
    "|AIIRB|Whether or not the patient is on an angiotensin II receptor blocker (AIIRB) treatment – used to treat high blood pressure.|\n",
    "|ACEiARB|Whether or not the patient is on an ACE AAIRB treatment.|\n",
    "|RamiprilEquiv|Whether or not the patient is on a ramipril equivalent treatment – used to treat high blood pressure.|\n",
    "|Aspirin|Whether or not the patient is on aspirin treatment – used to treat high blood pressure.|\n",
    "|BB|Whether or not the patient is on a beta-blocker treatment – used to treat high blood pressure.|\n",
    "|BisoprololEquiv|Whether or not the patient is on a bisoprolol equivalent treatment – used to treat high blood pressure.|\n",
    "|DiurLoop|Whether or not the patient is on a loop diuretic treatment. Loop diuretic (water pills) is to treat high blood pressure. Affects the loop part of the nephron in the kidney.|\n",
    "|MRA|Whether or not the patient is on a mineralocorticoid receptor antagonist treatment – used to treat high blood pressure.|\n",
    "|DiurLoopDose|Loop diuretic dose (mg – milligrams).|\n",
    "|DiurLoopAndThiazide|Whether or not the patient is on both loop diuretic and thiazide treatments.|\n",
    "|Statin|Whether or not the patient is on statin treatment – used to control cholesterol levels.|\n",
    "|Warfarin|Whether or not the patient is on warfarin treatment. Warfarin is a blood thinner used to treat blood clots.|\n",
    "|NYHADelta|Change in NYHA classification before and after treatment.\n",
    "|NYHAworsening|Whether or not the patient's NYHA classification worsened after treatment.|\n",
    "|NYHAimproving|Whether or not the patient's NYHA classification improved after treatment.|\n",
    "|eGFRDelta|Change in eGFR. The glomerular part of the kidney’s nephron filters blood to remove wasteful substances (e.g. urea and creatinine).|\n",
    "|LVEDDDelta|Change in LVEDD (mm – millimetres) before and after treatment.|\n",
    "|LVESDDelta|Change in LVESD (mm – millimetres) before and after treatment.|\n",
    "|LVESDremodel|Change in LVESD remodelling (mm – millimetres) before and after treatment.|\n",
    "|EFDelta|Change in ejection fraction before and after treatment.|\n",
    "\n",
    "## Introduction\n",
    "\n",
    "For an analysis done as part of his PhD thesis, John Mbotwa reduced the this dataset to `PatientID` with `6` covariates: `Diabetes`, `StatusDeath`, `TimeDeath`, `ClinicDeath`, `Haemoglobin`, `Sex`. The full dataset was presented in a `.sav` file called `\"MG HF cohorts 1 to 3 May 2016 censored.sav\"`, here renamed to `MG.sav` because of the white space in the title. `(de Kamps, 2023)`\n",
    "\n",
    "## Data preparation\n",
    "\n",
    "The first common sense check is see whether all covariates in John's `FinalData` spreadsheet are present and whether the units makes sense. This is a `10` year study and the time units report in the `FinalData` spreadsheet seem days since start of study. `(de Kamps, 2023)`"
   ]
  },
  {
   "cell_type": "code",
   "execution_count": 1,
   "metadata": {},
   "outputs": [],
   "source": [
    "# Define path to the dataset\n",
    "mg = 'MG.sav'"
   ]
  },
  {
   "cell_type": "code",
   "execution_count": 2,
   "metadata": {},
   "outputs": [
    {
     "name": "stdout",
     "output_type": "stream",
     "text": [
      "Requirement already satisfied: pyreadstat in c:\\users\\omarc\\onedrive - university of leeds\\year 3\\3931 individual project\\code\\.venv\\lib\\site-packages (1.1.8)\n",
      "Requirement already satisfied: pandas>=1.2.0 in c:\\users\\omarc\\onedrive - university of leeds\\year 3\\3931 individual project\\code\\.venv\\lib\\site-packages (from pyreadstat) (1.5.2)\n",
      "Requirement already satisfied: python-dateutil>=2.8.1 in c:\\users\\omarc\\onedrive - university of leeds\\year 3\\3931 individual project\\code\\.venv\\lib\\site-packages (from pandas>=1.2.0->pyreadstat) (2.8.2)\n",
      "Requirement already satisfied: pytz>=2020.1 in c:\\users\\omarc\\onedrive - university of leeds\\year 3\\3931 individual project\\code\\.venv\\lib\\site-packages (from pandas>=1.2.0->pyreadstat) (2023.3)\n",
      "Requirement already satisfied: numpy>=1.21.0 in c:\\users\\omarc\\onedrive - university of leeds\\year 3\\3931 individual project\\code\\.venv\\lib\\site-packages (from pandas>=1.2.0->pyreadstat) (1.23.5)\n",
      "Requirement already satisfied: six>=1.5 in c:\\users\\omarc\\onedrive - university of leeds\\year 3\\3931 individual project\\code\\.venv\\lib\\site-packages (from python-dateutil>=2.8.1->pandas>=1.2.0->pyreadstat) (1.16.0)\n",
      "Note: you may need to restart the kernel to use updated packages.\n"
     ]
    },
    {
     "data": {
      "text/html": [
       "<div>\n",
       "<style scoped>\n",
       "    .dataframe tbody tr th:only-of-type {\n",
       "        vertical-align: middle;\n",
       "    }\n",
       "\n",
       "    .dataframe tbody tr th {\n",
       "        vertical-align: top;\n",
       "    }\n",
       "\n",
       "    .dataframe thead th {\n",
       "        text-align: right;\n",
       "    }\n",
       "</style>\n",
       "<table border=\"1\" class=\"dataframe\">\n",
       "  <thead>\n",
       "    <tr style=\"text-align: right;\">\n",
       "      <th></th>\n",
       "      <th>PatientID</th>\n",
       "      <th>Cohort</th>\n",
       "      <th>MaleSex</th>\n",
       "      <th>Diabetes</th>\n",
       "      <th>Stroke</th>\n",
       "      <th>COPD</th>\n",
       "      <th>SHFIsch</th>\n",
       "      <th>SHFValvular</th>\n",
       "      <th>SHFHyper</th>\n",
       "      <th>SHFDCM</th>\n",
       "      <th>...</th>\n",
       "      <th>Statin</th>\n",
       "      <th>Warfarin</th>\n",
       "      <th>NYHADelta</th>\n",
       "      <th>NYHAworsening</th>\n",
       "      <th>NYHAimproving</th>\n",
       "      <th>eGFRDelta</th>\n",
       "      <th>LVEDDDelta</th>\n",
       "      <th>LVESDDelta</th>\n",
       "      <th>LVESDremodel</th>\n",
       "      <th>EFDelta</th>\n",
       "    </tr>\n",
       "  </thead>\n",
       "  <tbody>\n",
       "    <tr>\n",
       "      <th>0</th>\n",
       "      <td>3.0</td>\n",
       "      <td>1.0</td>\n",
       "      <td>Male</td>\n",
       "      <td>0.0</td>\n",
       "      <td>0.0</td>\n",
       "      <td>1.0</td>\n",
       "      <td>1.0</td>\n",
       "      <td>0.0</td>\n",
       "      <td>0.0</td>\n",
       "      <td>0.0</td>\n",
       "      <td>...</td>\n",
       "      <td>0.0</td>\n",
       "      <td>0.0</td>\n",
       "      <td>NaN</td>\n",
       "      <td>NaN</td>\n",
       "      <td>NaN</td>\n",
       "      <td>NaN</td>\n",
       "      <td>NaN</td>\n",
       "      <td>NaN</td>\n",
       "      <td>NaN</td>\n",
       "      <td>NaN</td>\n",
       "    </tr>\n",
       "    <tr>\n",
       "      <th>1</th>\n",
       "      <td>5.0</td>\n",
       "      <td>1.0</td>\n",
       "      <td>Female</td>\n",
       "      <td>0.0</td>\n",
       "      <td>1.0</td>\n",
       "      <td>0.0</td>\n",
       "      <td>1.0</td>\n",
       "      <td>0.0</td>\n",
       "      <td>0.0</td>\n",
       "      <td>0.0</td>\n",
       "      <td>...</td>\n",
       "      <td>1.0</td>\n",
       "      <td>0.0</td>\n",
       "      <td>0.0</td>\n",
       "      <td>0.0</td>\n",
       "      <td>0.0</td>\n",
       "      <td>2.449162</td>\n",
       "      <td>1.0</td>\n",
       "      <td>-2.0</td>\n",
       "      <td>95.652174</td>\n",
       "      <td>0.0</td>\n",
       "    </tr>\n",
       "    <tr>\n",
       "      <th>2</th>\n",
       "      <td>6.0</td>\n",
       "      <td>1.0</td>\n",
       "      <td>Male</td>\n",
       "      <td>0.0</td>\n",
       "      <td>0.0</td>\n",
       "      <td>0.0</td>\n",
       "      <td>1.0</td>\n",
       "      <td>0.0</td>\n",
       "      <td>0.0</td>\n",
       "      <td>0.0</td>\n",
       "      <td>...</td>\n",
       "      <td>0.0</td>\n",
       "      <td>0.0</td>\n",
       "      <td>0.0</td>\n",
       "      <td>0.0</td>\n",
       "      <td>0.0</td>\n",
       "      <td>2.386593</td>\n",
       "      <td>-2.0</td>\n",
       "      <td>-2.0</td>\n",
       "      <td>97.014925</td>\n",
       "      <td>2.0</td>\n",
       "    </tr>\n",
       "    <tr>\n",
       "      <th>3</th>\n",
       "      <td>7.0</td>\n",
       "      <td>1.0</td>\n",
       "      <td>Male</td>\n",
       "      <td>0.0</td>\n",
       "      <td>1.0</td>\n",
       "      <td>0.0</td>\n",
       "      <td>0.0</td>\n",
       "      <td>0.0</td>\n",
       "      <td>0.0</td>\n",
       "      <td>1.0</td>\n",
       "      <td>...</td>\n",
       "      <td>0.0</td>\n",
       "      <td>0.0</td>\n",
       "      <td>1.0</td>\n",
       "      <td>1.0</td>\n",
       "      <td>0.0</td>\n",
       "      <td>-4.662848</td>\n",
       "      <td>-8.0</td>\n",
       "      <td>-6.0</td>\n",
       "      <td>90.476190</td>\n",
       "      <td>0.0</td>\n",
       "    </tr>\n",
       "    <tr>\n",
       "      <th>4</th>\n",
       "      <td>9.0</td>\n",
       "      <td>1.0</td>\n",
       "      <td>Male</td>\n",
       "      <td>0.0</td>\n",
       "      <td>0.0</td>\n",
       "      <td>0.0</td>\n",
       "      <td>0.0</td>\n",
       "      <td>0.0</td>\n",
       "      <td>0.0</td>\n",
       "      <td>1.0</td>\n",
       "      <td>...</td>\n",
       "      <td>0.0</td>\n",
       "      <td>0.0</td>\n",
       "      <td>NaN</td>\n",
       "      <td>NaN</td>\n",
       "      <td>NaN</td>\n",
       "      <td>NaN</td>\n",
       "      <td>NaN</td>\n",
       "      <td>NaN</td>\n",
       "      <td>NaN</td>\n",
       "      <td>NaN</td>\n",
       "    </tr>\n",
       "  </tbody>\n",
       "</table>\n",
       "<p>5 rows × 88 columns</p>\n",
       "</div>"
      ],
      "text/plain": [
       "   PatientID  Cohort MaleSex  Diabetes  Stroke  COPD  SHFIsch  SHFValvular  \\\n",
       "0        3.0     1.0    Male       0.0     0.0   1.0      1.0          0.0   \n",
       "1        5.0     1.0  Female       0.0     1.0   0.0      1.0          0.0   \n",
       "2        6.0     1.0    Male       0.0     0.0   0.0      1.0          0.0   \n",
       "3        7.0     1.0    Male       0.0     1.0   0.0      0.0          0.0   \n",
       "4        9.0     1.0    Male       0.0     0.0   0.0      0.0          0.0   \n",
       "\n",
       "   SHFHyper  SHFDCM  ...  Statin  Warfarin  NYHADelta NYHAworsening  \\\n",
       "0       0.0     0.0  ...     0.0       0.0        NaN           NaN   \n",
       "1       0.0     0.0  ...     1.0       0.0        0.0           0.0   \n",
       "2       0.0     0.0  ...     0.0       0.0        0.0           0.0   \n",
       "3       0.0     1.0  ...     0.0       0.0        1.0           1.0   \n",
       "4       0.0     1.0  ...     0.0       0.0        NaN           NaN   \n",
       "\n",
       "   NYHAimproving  eGFRDelta  LVEDDDelta  LVESDDelta  LVESDremodel  EFDelta  \n",
       "0            NaN        NaN         NaN         NaN           NaN      NaN  \n",
       "1            0.0   2.449162         1.0        -2.0     95.652174      0.0  \n",
       "2            0.0   2.386593        -2.0        -2.0     97.014925      2.0  \n",
       "3            0.0  -4.662848        -8.0        -6.0     90.476190      0.0  \n",
       "4            NaN        NaN         NaN         NaN           NaN      NaN  \n",
       "\n",
       "[5 rows x 88 columns]"
      ]
     },
     "execution_count": 2,
     "metadata": {},
     "output_type": "execute_result"
    }
   ],
   "source": [
    "%pip install pyreadstat\n",
    "\n",
    "import pandas as pd\n",
    "\n",
    "# Read the dataset into a Pandas dataframe\n",
    "df = pd.read_spss('MG.sav')\n",
    "\n",
    "# Print the first 5 rows of the dataframe\n",
    "df.head()"
   ]
  },
  {
   "cell_type": "markdown",
   "metadata": {},
   "source": [
    "### `PatientId` and Number of Entries\n",
    "\n",
    "The `FinalData` spreadsheet lists `1802` rows, disregarding the data description line, with the `PatientId` ranging from `3` to `2540`. The overall number of entries appears correct, but, annoyingly, the data seems to represented mainly as floats. `(de Kamps, 2023)`"
   ]
  },
  {
   "cell_type": "code",
   "execution_count": 3,
   "metadata": {},
   "outputs": [
    {
     "name": "stdout",
     "output_type": "stream",
     "text": [
      "<class 'pandas.core.frame.DataFrame'>\n",
      "RangeIndex: 1802 entries, 0 to 1801\n",
      "Data columns (total 88 columns):\n",
      " #   Column                Non-Null Count  Dtype   \n",
      "---  ------                --------------  -----   \n",
      " 0   PatientID             1802 non-null   float64 \n",
      " 1   Cohort                1802 non-null   float64 \n",
      " 2   MaleSex               1802 non-null   category\n",
      " 3   Diabetes              1802 non-null   float64 \n",
      " 4   Stroke                1091 non-null   float64 \n",
      " 5   COPD                  1802 non-null   float64 \n",
      " 6   SHFIsch               1802 non-null   float64 \n",
      " 7   SHFValvular           1091 non-null   float64 \n",
      " 8   SHFHyper              1091 non-null   float64 \n",
      " 9   SHFDCM                1091 non-null   float64 \n",
      " 10  PPMorICD              1802 non-null   float64 \n",
      " 11  ICD                   1802 non-null   float64 \n",
      " 12  CRT                   1802 non-null   float64 \n",
      " 13  ClinicDate            1802 non-null   object  \n",
      " 14  DeathDate             1295 non-null   float64 \n",
      " 15  CensorDate            1065 non-null   float64 \n",
      " 16  StatusDeath           1802 non-null   float64 \n",
      " 17  TimeDeath             1802 non-null   float64 \n",
      " 18  HFHospPrevYr          1802 non-null   float64 \n",
      " 19  AnyHospOneYr          1802 non-null   float64 \n",
      " 20  CardHospOneYr         1802 non-null   float64 \n",
      " 21  HFHospOneYr           1802 non-null   float64 \n",
      " 22  AnyHospNumbers        1802 non-null   float64 \n",
      " 23  AnyHospTotalDays      1802 non-null   float64 \n",
      " 24  ClinicAge             1802 non-null   float64 \n",
      " 25  NYHAclass             1800 non-null   float64 \n",
      " 26  BP_Systolic           1518 non-null   float64 \n",
      " 27  BP_Diastolic          1513 non-null   float64 \n",
      " 28  ECG_HeartRate         1644 non-null   float64 \n",
      " 29  ECG_PRinterval        379 non-null    float64 \n",
      " 30  ECG_QRSinterval       1645 non-null   float64 \n",
      " 31  ECG_QTcinterval       1620 non-null   float64 \n",
      " 32  Haemoglobin           1796 non-null   float64 \n",
      " 33  WCC                   1796 non-null   float64 \n",
      " 34  Platelets             1795 non-null   float64 \n",
      " 35  Na                    1798 non-null   float64 \n",
      " 36  K                     1796 non-null   float64 \n",
      " 37  Creatinine            1794 non-null   float64 \n",
      " 38  eGFR                  1794 non-null   float64 \n",
      " 39  Urea                  1086 non-null   float64 \n",
      " 40  ALT                   1058 non-null   float64 \n",
      " 41  Albumin               1746 non-null   float64 \n",
      " 42  Urate                 698 non-null    float64 \n",
      " 43  Glucose               940 non-null    float64 \n",
      " 44  TSH                   771 non-null    float64 \n",
      " 45  fT4                   777 non-null    float64 \n",
      " 46  TotChol               771 non-null    float64 \n",
      " 47  ech_LAenlarged        1054 non-null   float64 \n",
      " 48  ech_IVSd              616 non-null    float64 \n",
      " 49  ech_PWd               611 non-null    float64 \n",
      " 50  ech_WallThMean        570 non-null    float64 \n",
      " 51  ech_LVEDD             1731 non-null   float64 \n",
      " 52  ech_LVESD             777 non-null    float64 \n",
      " 53  ech_EjectionFraction  1757 non-null   float64 \n",
      " 54  ech_LVHpresent        1047 non-null   float64 \n",
      " 55  ech_PAP               549 non-null    float64 \n",
      " 56  ech_RWMA              1049 non-null   float64 \n",
      " 57  ech_RHEnlarged        1006 non-null   float64 \n",
      " 58  Holter_NSVT           787 non-null    float64 \n",
      " 59  Holter_AF             790 non-null    float64 \n",
      " 60  CardTHRatio           622 non-null    float64 \n",
      " 61  PulOed                1033 non-null   float64 \n",
      " 62  DietRx                503 non-null    float64 \n",
      " 63  Sulphonylurea         504 non-null    float64 \n",
      " 64  Insulin               504 non-null    float64 \n",
      " 65  Metformin             504 non-null    float64 \n",
      " 66  Glitazone             504 non-null    float64 \n",
      " 67  Ace                   1087 non-null   float64 \n",
      " 68  AIIRB                 1087 non-null   float64 \n",
      " 69  ACEiARB               1798 non-null   float64 \n",
      " 70  RamiprilEquiv         1797 non-null   float64 \n",
      " 71  Aspirin               1087 non-null   float64 \n",
      " 72  BB                    1798 non-null   float64 \n",
      " 73  BisoprololEquiv       1797 non-null   float64 \n",
      " 74  DiurLoop              1087 non-null   float64 \n",
      " 75  MRA                   1798 non-null   float64 \n",
      " 76  DiurLoopDose          1797 non-null   float64 \n",
      " 77  DiurLoopAndThiazide   1087 non-null   float64 \n",
      " 78  Statin                1087 non-null   float64 \n",
      " 79  Warfarin              1087 non-null   float64 \n",
      " 80  NYHADelta             404 non-null    float64 \n",
      " 81  NYHAworsening         404 non-null    float64 \n",
      " 82  NYHAimproving         404 non-null    float64 \n",
      " 83  eGFRDelta             385 non-null    float64 \n",
      " 84  LVEDDDelta            355 non-null    float64 \n",
      " 85  LVESDDelta            348 non-null    float64 \n",
      " 86  LVESDremodel          348 non-null    float64 \n",
      " 87  EFDelta               358 non-null    float64 \n",
      "dtypes: category(1), float64(86), object(1)\n",
      "memory usage: 1.2+ MB\n"
     ]
    }
   ],
   "source": [
    "df.info()"
   ]
  },
  {
   "cell_type": "markdown",
   "metadata": {},
   "source": [
    "### `PatientID`\n",
    "\n",
    "`PatientID` contains entries consistent with `FinalData` spreadsheet. `(de Kamps, 2023)`"
   ]
  },
  {
   "cell_type": "code",
   "execution_count": 4,
   "metadata": {},
   "outputs": [
    {
     "data": {
      "text/plain": [
       "0          3.0\n",
       "1          5.0\n",
       "2          6.0\n",
       "3          7.0\n",
       "4          9.0\n",
       "         ...  \n",
       "1797    2532.0\n",
       "1798    2533.0\n",
       "1799    2534.0\n",
       "1800    2535.0\n",
       "1801    2540.0\n",
       "Name: PatientID, Length: 1802, dtype: float64"
      ]
     },
     "execution_count": 4,
     "metadata": {},
     "output_type": "execute_result"
    }
   ],
   "source": [
    "df['PatientID']"
   ]
  },
  {
   "cell_type": "markdown",
   "metadata": {},
   "source": [
    "### `Diabetes`\n",
    "\n",
    "The first subject with `Diabetes` has `PatientID` `18`. The `float`'s can be converted to `int`'s without problem. Again, this appears to match the `FinalData` spreadsheet. `(de Kamps, 2023)`"
   ]
  },
  {
   "cell_type": "code",
   "execution_count": 5,
   "metadata": {},
   "outputs": [
    {
     "name": "stdout",
     "output_type": "stream",
     "text": [
      "PatientID: 18.0\n",
      "Diabetes: 1.0\n",
      "\n",
      "0       0.0\n",
      "1       0.0\n",
      "2       0.0\n",
      "3       0.0\n",
      "4       0.0\n",
      "       ... \n",
      "1797    0.0\n",
      "1798    1.0\n",
      "1799    0.0\n",
      "1800    0.0\n",
      "1801    0.0\n",
      "Name: Diabetes, Length: 1802, dtype: float64\n"
     ]
    }
   ],
   "source": [
    "print(f'PatientID: {df[\"PatientID\"][12]}\\nDiabetes: {df[\"Diabetes\"][12]}\\n\\n{df[\"Diabetes\"]}')"
   ]
  },
  {
   "cell_type": "markdown",
   "metadata": {},
   "source": [
    "### `TimeDeath`\n",
    "\n",
    "`TimeDeath` matches the spreadsheet as well. Apparently, time of death in days since start of study. There are no missing values. `(de Kamps, 2023)`"
   ]
  },
  {
   "cell_type": "code",
   "execution_count": 6,
   "metadata": {},
   "outputs": [
    {
     "name": "stdout",
     "output_type": "stream",
     "text": [
      "Missing values in TimeDeath: 0\n"
     ]
    },
    {
     "data": {
      "text/plain": [
       "0       1961.0\n",
       "1       2842.0\n",
       "2        749.0\n",
       "3       3378.0\n",
       "4       3233.0\n",
       "         ...  \n",
       "1797     652.0\n",
       "1798     652.0\n",
       "1799     652.0\n",
       "1800     652.0\n",
       "1801     760.0\n",
       "Name: TimeDeath, Length: 1802, dtype: float64"
      ]
     },
     "execution_count": 6,
     "metadata": {},
     "output_type": "execute_result"
    }
   ],
   "source": [
    "print(f\"Missing values in TimeDeath: {df['TimeDeath'].isna().sum()}\")\n",
    "\n",
    "df['TimeDeath']"
   ]
  },
  {
   "cell_type": "markdown",
   "metadata": {},
   "source": [
    "### `StatusDeath`\n",
    "\n",
    "Again, good agreement with the `FinalData` spreadsheet. There are no missing values. `(de Kamps, 2023)`"
   ]
  },
  {
   "cell_type": "code",
   "execution_count": 7,
   "metadata": {},
   "outputs": [
    {
     "name": "stdout",
     "output_type": "stream",
     "text": [
      "Missing values in StatusDeath: 0\n",
      "\n",
      "0       1.0\n",
      "1       1.0\n",
      "2       1.0\n",
      "3       0.0\n",
      "4       1.0\n",
      "       ... \n",
      "1797    0.0\n",
      "1798    0.0\n",
      "1799    0.0\n",
      "1800    0.0\n",
      "1801    0.0\n",
      "Name: StatusDeath, Length: 1802, dtype: float64\n"
     ]
    }
   ],
   "source": [
    "# Target variable is \"StatusDeath\"\n",
    "print(f\"Missing values in StatusDeath: {df['TimeDeath'].isna().sum()}\\n\")\n",
    "\n",
    "target = df['StatusDeath']\n",
    "print(target)"
   ]
  },
  {
   "cell_type": "markdown",
   "metadata": {},
   "source": [
    "This is as expected. If someone truly died, they are very unlikely to live all the way up to `3650` days. It would be good to check if `TimeDeath` corresponds to the end of study date for subjects entering the study after the starting date. `(de Kamps, 2023)`"
   ]
  },
  {
   "cell_type": "code",
   "execution_count": 8,
   "metadata": {},
   "outputs": [
    {
     "name": "stdout",
     "output_type": "stream",
     "text": [
      "Requirement already satisfied: scikit-survival in c:\\users\\omarc\\onedrive - university of leeds\\year 3\\3931 individual project\\code\\.venv\\lib\\site-packages (0.20.0)\n",
      "Requirement already satisfied: ecos in c:\\users\\omarc\\onedrive - university of leeds\\year 3\\3931 individual project\\code\\.venv\\lib\\site-packages (from scikit-survival) (2.0.12)\n",
      "Requirement already satisfied: joblib in c:\\users\\omarc\\onedrive - university of leeds\\year 3\\3931 individual project\\code\\.venv\\lib\\site-packages (from scikit-survival) (1.2.0)\n",
      "Requirement already satisfied: numexpr in c:\\users\\omarc\\onedrive - university of leeds\\year 3\\3931 individual project\\code\\.venv\\lib\\site-packages (from scikit-survival) (2.8.4)\n",
      "Requirement already satisfied: numpy in c:\\users\\omarc\\onedrive - university of leeds\\year 3\\3931 individual project\\code\\.venv\\lib\\site-packages (from scikit-survival) (1.23.5)\n",
      "Requirement already satisfied: osqp!=0.6.0,!=0.6.1 in c:\\users\\omarc\\onedrive - university of leeds\\year 3\\3931 individual project\\code\\.venv\\lib\\site-packages (from scikit-survival) (0.6.2.post8)\n",
      "Requirement already satisfied: pandas>=1.0.5 in c:\\users\\omarc\\onedrive - university of leeds\\year 3\\3931 individual project\\code\\.venv\\lib\\site-packages (from scikit-survival) (1.5.2)\n",
      "Requirement already satisfied: scipy>=1.3.2 in c:\\users\\omarc\\onedrive - university of leeds\\year 3\\3931 individual project\\code\\.venv\\lib\\site-packages (from scikit-survival) (1.10.1)\n",
      "Requirement already satisfied: scikit-learn<1.3,>=1.2.0 in c:\\users\\omarc\\onedrive - university of leeds\\year 3\\3931 individual project\\code\\.venv\\lib\\site-packages (from scikit-survival) (1.2.2)\n",
      "Requirement already satisfied: qdldl in c:\\users\\omarc\\onedrive - university of leeds\\year 3\\3931 individual project\\code\\.venv\\lib\\site-packages (from osqp!=0.6.0,!=0.6.1->scikit-survival) (0.1.5.post3)\n",
      "Requirement already satisfied: python-dateutil>=2.8.1 in c:\\users\\omarc\\onedrive - university of leeds\\year 3\\3931 individual project\\code\\.venv\\lib\\site-packages (from pandas>=1.0.5->scikit-survival) (2.8.2)\n",
      "Requirement already satisfied: pytz>=2020.1 in c:\\users\\omarc\\onedrive - university of leeds\\year 3\\3931 individual project\\code\\.venv\\lib\\site-packages (from pandas>=1.0.5->scikit-survival) (2023.3)\n",
      "Requirement already satisfied: threadpoolctl>=2.0.0 in c:\\users\\omarc\\onedrive - university of leeds\\year 3\\3931 individual project\\code\\.venv\\lib\\site-packages (from scikit-learn<1.3,>=1.2.0->scikit-survival) (3.1.0)\n",
      "Requirement already satisfied: six>=1.5 in c:\\users\\omarc\\onedrive - university of leeds\\year 3\\3931 individual project\\code\\.venv\\lib\\site-packages (from python-dateutil>=2.8.1->pandas>=1.0.5->scikit-survival) (1.16.0)\n",
      "Note: you may need to restart the kernel to use updated packages.\n"
     ]
    },
    {
     "data": {
      "image/png": "[encoded data removed]",
      "text/plain": [
       "<Figure size 600x500 with 1 Axes>"
      ]
     },
     "metadata": {},
     "output_type": "display_data"
    }
   ],
   "source": [
    "%pip install scikit-survival\n",
    "\n",
    "# (de Kamps, 2023)\n",
    "from sksurv.nonparametric import kaplan_meier_estimator\n",
    "import matplotlib.pyplot as plt\n",
    "%matplotlib inline\n",
    "\n",
    "plt.rcParams['figure.figsize'] = [12, 8]\n",
    "plt.rcParams['figure.dpi'] = 100  # 200 e.g. is really fine, but slower\n",
    "\n",
    "timedeath = df['TimeDeath']\n",
    "timedeath[target < 1.]\n",
    "\n",
    "statusdeath = [x > 0. for x in target]\n",
    "time, survival_prob = kaplan_meier_estimator(statusdeath, df['TimeDeath'])\n",
    "\n",
    "plt.figure(figsize=(6, 5))\n",
    "plt.step(time, survival_prob, where=\"post\", color=\"black\")\n",
    "plt.ylabel(\"est. probability of survival $\\hat{S}(t)$\")\n",
    "plt.xlabel(\"time $t$ (in days)\")\n",
    "plt.show()"
   ]
  },
  {
   "cell_type": "markdown",
   "metadata": {},
   "source": [
    "Let's bring the event data into the stuctured array that sksurv expects. `(de Kamps, 2023)`"
   ]
  },
  {
   "cell_type": "code",
   "execution_count": 9,
   "metadata": {},
   "outputs": [
    {
     "name": "stdout",
     "output_type": "stream",
     "text": [
      "[( True, 1961.) ( True, 2842.) ( True,  749.) ... (False,  652.)\n",
      " (False,  652.) (False,  760.)]\n"
     ]
    }
   ],
   "source": [
    "# (de Kamps, 2023)\n",
    "import numpy as np\n",
    "\n",
    "events = [ True if x > 0. else False for x in target]\n",
    "times  = [ x for x in df['TimeDeath'] ]\n",
    "\n",
    "data_y = np.array(list(zip(events,times)), dtype=[('Status', '?'), ('Survival_in_days', '<f8')])\n",
    "print(data_y)"
   ]
  },
  {
   "cell_type": "markdown",
   "metadata": {},
   "source": [
    "Let us now use the other covariates as mentioned by `Mbotwa et al. (2021)`."
   ]
  },
  {
   "cell_type": "code",
   "execution_count": 10,
   "metadata": {},
   "outputs": [
    {
     "name": "stdout",
     "output_type": "stream",
     "text": [
      "Missing values in ClinicAge: 0\n",
      "Missing values in Haemoglobin: 6\n"
     ]
    }
   ],
   "source": [
    "print(f\"Missing values in ClinicAge: {df['ClinicAge'].isna().sum()}\")\n",
    "print(f\"Missing values in Haemoglobin: {df['Haemoglobin'].isna().sum()}\")"
   ]
  },
  {
   "cell_type": "markdown",
   "metadata": {},
   "source": [
    "We can impute the missing values for `Haemoglobin` with the mean value. `(de Kamps, 2023)`"
   ]
  },
  {
   "cell_type": "code",
   "execution_count": 11,
   "metadata": {},
   "outputs": [
    {
     "name": "stdout",
     "output_type": "stream",
     "text": [
      "      ClinicAge  Haemoglobin\n",
      "0          75.0         15.5\n",
      "1          72.0         13.8\n",
      "2          70.0         13.4\n",
      "3          55.0         16.6\n",
      "4          68.0         15.3\n",
      "...         ...          ...\n",
      "1797       83.0         13.7\n",
      "1798       51.0         13.6\n",
      "1799       72.0         15.7\n",
      "1800       65.0         13.7\n",
      "1801       87.0         12.6\n",
      "\n",
      "[1802 rows x 2 columns]\n",
      "(1802, 2)\n"
     ]
    }
   ],
   "source": [
    "# (de Kamps, 2023)\n",
    "data_x_withnan = df[['ClinicAge', 'Haemoglobin']]\n",
    "data_x_numeric = data_x_withnan.fillna(data_x_withnan.mean())\n",
    "\n",
    "print(data_x_numeric)\n",
    "print(data_x_numeric.shape)"
   ]
  },
  {
   "cell_type": "markdown",
   "metadata": {},
   "source": [
    "As expected, there are no more missing values."
   ]
  },
  {
   "cell_type": "code",
   "execution_count": 12,
   "metadata": {},
   "outputs": [
    {
     "name": "stdout",
     "output_type": "stream",
     "text": [
      "Missing values in ClinicAge: 0\n",
      "Missing values in Haemoglobin: 0\n"
     ]
    }
   ],
   "source": [
    "print(f\"Missing values in ClinicAge: {data_x_numeric['ClinicAge'].isna().sum()}\")\n",
    "print(f\"Missing values in Haemoglobin: {data_x_numeric['Haemoglobin'].isna().sum()}\")"
   ]
  },
  {
   "cell_type": "code",
   "execution_count": 13,
   "metadata": {},
   "outputs": [
    {
     "data": {
      "text/html": [
       "<style>#sk-container-id-1 {color: black;background-color: white;}#sk-container-id-1 pre{padding: 0;}#sk-container-id-1 div.sk-toggleable {background-color: white;}#sk-container-id-1 label.sk-toggleable__label {cursor: pointer;display: block;width: 100%;margin-bottom: 0;padding: 0.3em;box-sizing: border-box;text-align: center;}#sk-container-id-1 label.sk-toggleable__label-arrow:before {content: \"▸\";float: left;margin-right: 0.25em;color: #696969;}#sk-container-id-1 label.sk-toggleable__label-arrow:hover:before {color: black;}#sk-container-id-1 div.sk-estimator:hover label.sk-toggleable__label-arrow:before {color: black;}#sk-container-id-1 div.sk-toggleable__content {max-height: 0;max-width: 0;overflow: hidden;text-align: left;background-color: #f0f8ff;}#sk-container-id-1 div.sk-toggleable__content pre {margin: 0.2em;color: black;border-radius: 0.25em;background-color: #f0f8ff;}#sk-container-id-1 input.sk-toggleable__control:checked~div.sk-toggleable__content {max-height: 200px;max-width: 100%;overflow: auto;}#sk-container-id-1 input.sk-toggleable__control:checked~label.sk-toggleable__label-arrow:before {content: \"▾\";}#sk-container-id-1 div.sk-estimator input.sk-toggleable__control:checked~label.sk-toggleable__label {background-color: #d4ebff;}#sk-container-id-1 div.sk-label input.sk-toggleable__control:checked~label.sk-toggleable__label {background-color: #d4ebff;}#sk-container-id-1 input.sk-hidden--visually {border: 0;clip: rect(1px 1px 1px 1px);clip: rect(1px, 1px, 1px, 1px);height: 1px;margin: -1px;overflow: hidden;padding: 0;position: absolute;width: 1px;}#sk-container-id-1 div.sk-estimator {font-family: monospace;background-color: #f0f8ff;border: 1px dotted black;border-radius: 0.25em;box-sizing: border-box;margin-bottom: 0.5em;}#sk-container-id-1 div.sk-estimator:hover {background-color: #d4ebff;}#sk-container-id-1 div.sk-parallel-item::after {content: \"\";width: 100%;border-bottom: 1px solid gray;flex-grow: 1;}#sk-container-id-1 div.sk-label:hover label.sk-toggleable__label {background-color: #d4ebff;}#sk-container-id-1 div.sk-serial::before {content: \"\";position: absolute;border-left: 1px solid gray;box-sizing: border-box;top: 0;bottom: 0;left: 50%;z-index: 0;}#sk-container-id-1 div.sk-serial {display: flex;flex-direction: column;align-items: center;background-color: white;padding-right: 0.2em;padding-left: 0.2em;position: relative;}#sk-container-id-1 div.sk-item {position: relative;z-index: 1;}#sk-container-id-1 div.sk-parallel {display: flex;align-items: stretch;justify-content: center;background-color: white;position: relative;}#sk-container-id-1 div.sk-item::before, #sk-container-id-1 div.sk-parallel-item::before {content: \"\";position: absolute;border-left: 1px solid gray;box-sizing: border-box;top: 0;bottom: 0;left: 50%;z-index: -1;}#sk-container-id-1 div.sk-parallel-item {display: flex;flex-direction: column;z-index: 1;position: relative;background-color: white;}#sk-container-id-1 div.sk-parallel-item:first-child::after {align-self: flex-end;width: 50%;}#sk-container-id-1 div.sk-parallel-item:last-child::after {align-self: flex-start;width: 50%;}#sk-container-id-1 div.sk-parallel-item:only-child::after {width: 0;}#sk-container-id-1 div.sk-dashed-wrapped {border: 1px dashed gray;margin: 0 0.4em 0.5em 0.4em;box-sizing: border-box;padding-bottom: 0.4em;background-color: white;}#sk-container-id-1 div.sk-label label {font-family: monospace;font-weight: bold;display: inline-block;line-height: 1.2em;}#sk-container-id-1 div.sk-label-container {text-align: center;}#sk-container-id-1 div.sk-container {/* jupyter's `normalize.less` sets `[hidden] { display: none; }` but bootstrap.min.css set `[hidden] { display: none !important; }` so we also need the `!important` here to be able to override the default hidden behavior on the sphinx rendered scikit-learn.org. See: https://github.com/scikit-learn/scikit-learn/issues/21755 */display: inline-block !important;position: relative;}#sk-container-id-1 div.sk-text-repr-fallback {display: none;}</style><div id=\"sk-container-id-1\" class=\"sk-top-container\"><div class=\"sk-text-repr-fallback\"><pre>CoxPHSurvivalAnalysis()</pre><b>In a Jupyter environment, please rerun this cell to show the HTML representation or trust the notebook. <br />On GitHub, the HTML representation is unable to render, please try loading this page with nbviewer.org.</b></div><div class=\"sk-container\" hidden><div class=\"sk-item\"><div class=\"sk-estimator sk-toggleable\"><input class=\"sk-toggleable__control sk-hidden--visually\" id=\"sk-estimator-id-1\" type=\"checkbox\" checked><label for=\"sk-estimator-id-1\" class=\"sk-toggleable__label sk-toggleable__label-arrow\">CoxPHSurvivalAnalysis</label><div class=\"sk-toggleable__content\"><pre>CoxPHSurvivalAnalysis()</pre></div></div></div></div></div>"
      ],
      "text/plain": [
       "CoxPHSurvivalAnalysis()"
      ]
     },
     "execution_count": 13,
     "metadata": {},
     "output_type": "execute_result"
    }
   ],
   "source": [
    "# (de Kamps, 2023)\n",
    "from sksurv.linear_model import CoxPHSurvivalAnalysis\n",
    "\n",
    "estimator = CoxPHSurvivalAnalysis()\n",
    "estimator.fit(data_x_numeric, data_y)"
   ]
  },
  {
   "cell_type": "code",
   "execution_count": 14,
   "metadata": {},
   "outputs": [
    {
     "data": {
      "text/plain": [
       "0.666426027639768"
      ]
     },
     "execution_count": 14,
     "metadata": {},
     "output_type": "execute_result"
    }
   ],
   "source": [
    "estimator.score(data_x_numeric, data_y)"
   ]
  },
  {
   "cell_type": "markdown",
   "metadata": {},
   "source": [
    "OK, let's add `Diabetes` and see if this improves the score `(de Kamps, 2023)`. No problem with missing values: "
   ]
  },
  {
   "cell_type": "code",
   "execution_count": 15,
   "metadata": {},
   "outputs": [
    {
     "name": "stdout",
     "output_type": "stream",
     "text": [
      "0\n"
     ]
    }
   ],
   "source": [
    "print(df['Diabetes'].isna().sum())"
   ]
  },
  {
   "cell_type": "code",
   "execution_count": 16,
   "metadata": {},
   "outputs": [
    {
     "data": {
      "text/plain": [
       "0.670451749959191"
      ]
     },
     "execution_count": 16,
     "metadata": {},
     "output_type": "execute_result"
    }
   ],
   "source": [
    "# (de Kamps, 2023)\n",
    "data_x_withnan3 = df[['ClinicAge', 'Haemoglobin', 'Diabetes']]\n",
    "data_x_numeric3 = data_x_withnan3.fillna(data_x_withnan3.mean())\n",
    "estimator3 = CoxPHSurvivalAnalysis()\n",
    "estimator3.fit(data_x_numeric3, data_y)\n",
    "estimator3.score(data_x_numeric3, data_y)"
   ]
  },
  {
   "cell_type": "markdown",
   "metadata": {},
   "source": [
    "Now let's add gender. `(de Kamps, 2023)`"
   ]
  },
  {
   "cell_type": "code",
   "execution_count": 17,
   "metadata": {},
   "outputs": [
    {
     "name": "stderr",
     "output_type": "stream",
     "text": [
      "C:\\Users\\omarc\\AppData\\Local\\Temp\\ipykernel_21568\\1893549089.py:3: FutureWarning: The default value of numeric_only in DataFrame.mean is deprecated. In a future version, it will default to False. In addition, specifying 'numeric_only=None' is deprecated. Select only valid columns or specify the value of numeric_only to silence this warning.\n",
      "  data_x_numeric4 = data_x_withnan4.fillna(data_x_withnan4.mean())\n"
     ]
    },
    {
     "data": {
      "text/html": [
       "<div>\n",
       "<style scoped>\n",
       "    .dataframe tbody tr th:only-of-type {\n",
       "        vertical-align: middle;\n",
       "    }\n",
       "\n",
       "    .dataframe tbody tr th {\n",
       "        vertical-align: top;\n",
       "    }\n",
       "\n",
       "    .dataframe thead th {\n",
       "        text-align: right;\n",
       "    }\n",
       "</style>\n",
       "<table border=\"1\" class=\"dataframe\">\n",
       "  <thead>\n",
       "    <tr style=\"text-align: right;\">\n",
       "      <th></th>\n",
       "      <th>ClinicAge</th>\n",
       "      <th>Haemoglobin</th>\n",
       "      <th>Diabetes</th>\n",
       "      <th>MaleSex</th>\n",
       "    </tr>\n",
       "  </thead>\n",
       "  <tbody>\n",
       "    <tr>\n",
       "      <th>0</th>\n",
       "      <td>75.0</td>\n",
       "      <td>15.5</td>\n",
       "      <td>0.0</td>\n",
       "      <td>Male</td>\n",
       "    </tr>\n",
       "    <tr>\n",
       "      <th>1</th>\n",
       "      <td>72.0</td>\n",
       "      <td>13.8</td>\n",
       "      <td>0.0</td>\n",
       "      <td>Female</td>\n",
       "    </tr>\n",
       "    <tr>\n",
       "      <th>2</th>\n",
       "      <td>70.0</td>\n",
       "      <td>13.4</td>\n",
       "      <td>0.0</td>\n",
       "      <td>Male</td>\n",
       "    </tr>\n",
       "    <tr>\n",
       "      <th>3</th>\n",
       "      <td>55.0</td>\n",
       "      <td>16.6</td>\n",
       "      <td>0.0</td>\n",
       "      <td>Male</td>\n",
       "    </tr>\n",
       "    <tr>\n",
       "      <th>4</th>\n",
       "      <td>68.0</td>\n",
       "      <td>15.3</td>\n",
       "      <td>0.0</td>\n",
       "      <td>Male</td>\n",
       "    </tr>\n",
       "    <tr>\n",
       "      <th>...</th>\n",
       "      <td>...</td>\n",
       "      <td>...</td>\n",
       "      <td>...</td>\n",
       "      <td>...</td>\n",
       "    </tr>\n",
       "    <tr>\n",
       "      <th>1797</th>\n",
       "      <td>83.0</td>\n",
       "      <td>13.7</td>\n",
       "      <td>0.0</td>\n",
       "      <td>Male</td>\n",
       "    </tr>\n",
       "    <tr>\n",
       "      <th>1798</th>\n",
       "      <td>51.0</td>\n",
       "      <td>13.6</td>\n",
       "      <td>1.0</td>\n",
       "      <td>Male</td>\n",
       "    </tr>\n",
       "    <tr>\n",
       "      <th>1799</th>\n",
       "      <td>72.0</td>\n",
       "      <td>15.7</td>\n",
       "      <td>0.0</td>\n",
       "      <td>Male</td>\n",
       "    </tr>\n",
       "    <tr>\n",
       "      <th>1800</th>\n",
       "      <td>65.0</td>\n",
       "      <td>13.7</td>\n",
       "      <td>0.0</td>\n",
       "      <td>Male</td>\n",
       "    </tr>\n",
       "    <tr>\n",
       "      <th>1801</th>\n",
       "      <td>87.0</td>\n",
       "      <td>12.6</td>\n",
       "      <td>0.0</td>\n",
       "      <td>Male</td>\n",
       "    </tr>\n",
       "  </tbody>\n",
       "</table>\n",
       "<p>1802 rows × 4 columns</p>\n",
       "</div>"
      ],
      "text/plain": [
       "      ClinicAge  Haemoglobin  Diabetes MaleSex\n",
       "0          75.0         15.5       0.0    Male\n",
       "1          72.0         13.8       0.0  Female\n",
       "2          70.0         13.4       0.0    Male\n",
       "3          55.0         16.6       0.0    Male\n",
       "4          68.0         15.3       0.0    Male\n",
       "...         ...          ...       ...     ...\n",
       "1797       83.0         13.7       0.0    Male\n",
       "1798       51.0         13.6       1.0    Male\n",
       "1799       72.0         15.7       0.0    Male\n",
       "1800       65.0         13.7       0.0    Male\n",
       "1801       87.0         12.6       0.0    Male\n",
       "\n",
       "[1802 rows x 4 columns]"
      ]
     },
     "execution_count": 17,
     "metadata": {},
     "output_type": "execute_result"
    }
   ],
   "source": [
    "# (de Kamps, 2023)\n",
    "data_x_withnan4 = df[['ClinicAge', 'Haemoglobin', 'Diabetes', 'MaleSex']]\n",
    "data_x_numeric4 = data_x_withnan4.fillna(data_x_withnan4.mean())\n",
    "data_x_withnan4"
   ]
  },
  {
   "cell_type": "markdown",
   "metadata": {},
   "source": [
    "The OneHotEncoder converts categorical data into numerical ones. `(de Kamps, 2023)`"
   ]
  },
  {
   "cell_type": "code",
   "execution_count": 18,
   "metadata": {},
   "outputs": [
    {
     "name": "stderr",
     "output_type": "stream",
     "text": [
      "c:\\Users\\omarc\\OneDrive - University of Leeds\\Year 3\\3931 Individual Project\\Code\\.venv\\lib\\site-packages\\sksurv\\column.py:142: FutureWarning: iteritems is deprecated and will be removed in a future version. Use .items instead.\n",
      "  for name, series in table.iteritems():\n"
     ]
    },
    {
     "data": {
      "text/html": [
       "<div>\n",
       "<style scoped>\n",
       "    .dataframe tbody tr th:only-of-type {\n",
       "        vertical-align: middle;\n",
       "    }\n",
       "\n",
       "    .dataframe tbody tr th {\n",
       "        vertical-align: top;\n",
       "    }\n",
       "\n",
       "    .dataframe thead th {\n",
       "        text-align: right;\n",
       "    }\n",
       "</style>\n",
       "<table border=\"1\" class=\"dataframe\">\n",
       "  <thead>\n",
       "    <tr style=\"text-align: right;\">\n",
       "      <th></th>\n",
       "      <th>ClinicAge</th>\n",
       "      <th>Haemoglobin</th>\n",
       "      <th>Diabetes</th>\n",
       "      <th>MaleSex=Male</th>\n",
       "    </tr>\n",
       "  </thead>\n",
       "  <tbody>\n",
       "    <tr>\n",
       "      <th>0</th>\n",
       "      <td>75.0</td>\n",
       "      <td>15.5</td>\n",
       "      <td>0.0</td>\n",
       "      <td>1.0</td>\n",
       "    </tr>\n",
       "    <tr>\n",
       "      <th>1</th>\n",
       "      <td>72.0</td>\n",
       "      <td>13.8</td>\n",
       "      <td>0.0</td>\n",
       "      <td>0.0</td>\n",
       "    </tr>\n",
       "    <tr>\n",
       "      <th>2</th>\n",
       "      <td>70.0</td>\n",
       "      <td>13.4</td>\n",
       "      <td>0.0</td>\n",
       "      <td>1.0</td>\n",
       "    </tr>\n",
       "    <tr>\n",
       "      <th>3</th>\n",
       "      <td>55.0</td>\n",
       "      <td>16.6</td>\n",
       "      <td>0.0</td>\n",
       "      <td>1.0</td>\n",
       "    </tr>\n",
       "    <tr>\n",
       "      <th>4</th>\n",
       "      <td>68.0</td>\n",
       "      <td>15.3</td>\n",
       "      <td>0.0</td>\n",
       "      <td>1.0</td>\n",
       "    </tr>\n",
       "  </tbody>\n",
       "</table>\n",
       "</div>"
      ],
      "text/plain": [
       "   ClinicAge  Haemoglobin  Diabetes  MaleSex=Male\n",
       "0       75.0         15.5       0.0           1.0\n",
       "1       72.0         13.8       0.0           0.0\n",
       "2       70.0         13.4       0.0           1.0\n",
       "3       55.0         16.6       0.0           1.0\n",
       "4       68.0         15.3       0.0           1.0"
      ]
     },
     "execution_count": 18,
     "metadata": {},
     "output_type": "execute_result"
    }
   ],
   "source": [
    "# (de Kamps, 2023)\n",
    "from sksurv.preprocessing import OneHotEncoder\n",
    "\n",
    "data_x_numeric4oh = OneHotEncoder().fit_transform(data_x_numeric4)\n",
    "data_x_numeric4oh.head()"
   ]
  },
  {
   "cell_type": "code",
   "execution_count": 19,
   "metadata": {},
   "outputs": [
    {
     "data": {
      "text/plain": [
       "0.679573425174674"
      ]
     },
     "execution_count": 19,
     "metadata": {},
     "output_type": "execute_result"
    }
   ],
   "source": [
    "# (de Kamps, 2023)\n",
    "estimator4 = CoxPHSurvivalAnalysis()\n",
    "estimator4.fit(data_x_numeric4oh, data_y)\n",
    "estimator4.score(data_x_numeric4oh, data_y)"
   ]
  },
  {
   "cell_type": "markdown",
   "metadata": {},
   "source": [
    "Out of interest, what are the coefficients? `(de Kamps, 2023)`"
   ]
  },
  {
   "cell_type": "code",
   "execution_count": 20,
   "metadata": {},
   "outputs": [
    {
     "name": "stdout",
     "output_type": "stream",
     "text": [
      "[ 0.04359563 -0.19889853  0.30170977  0.56861131]\n"
     ]
    }
   ],
   "source": [
    "# (de Kamps, 2023)\n",
    "print(estimator4.coef_)"
   ]
  },
  {
   "cell_type": "code",
   "execution_count": 21,
   "metadata": {},
   "outputs": [
    {
     "data": {
      "text/plain": [
       "0.6795952666150136"
      ]
     },
     "execution_count": 21,
     "metadata": {},
     "output_type": "execute_result"
    }
   ],
   "source": [
    "# (de Kamps, 2023)\n",
    "from sksurv.linear_model import CoxnetSurvivalAnalysis\n",
    "\n",
    "estimatorlasso = CoxnetSurvivalAnalysis(l1_ratio=0.99, fit_baseline_model=True)\n",
    "estimatorlasso.fit(data_x_numeric4oh, data_y)\n",
    "estimatorlasso.score(data_x_numeric4oh, data_y)"
   ]
  },
  {
   "cell_type": "code",
   "execution_count": 22,
   "metadata": {},
   "outputs": [
    {
     "data": {
      "text/plain": [
       "0.679901046779767"
      ]
     },
     "execution_count": 22,
     "metadata": {},
     "output_type": "execute_result"
    }
   ],
   "source": [
    "# (de Kamps, 2023)\n",
    "from sksurv.svm import FastSurvivalSVM\n",
    "\n",
    "estimatorsvm = FastSurvivalSVM(max_iter=1000, optimizer=\"rbtree\", tol=1e-5, random_state=0)\n",
    "estimatorsvm.fit(data_x_numeric4oh, data_y)\n",
    "estimatorsvm.score(data_x_numeric4oh, data_y)"
   ]
  },
  {
   "cell_type": "markdown",
   "metadata": {},
   "source": [
    "### Preliminary Conclusion\n",
    "\n",
    "`SVM`, `CPH` and `CPH` with `Lasso` all seem to give similar results. We still have to do *cross validation*. `(de Kamps, 2023)`"
   ]
  },
  {
   "cell_type": "code",
   "execution_count": 23,
   "metadata": {},
   "outputs": [
    {
     "name": "stdout",
     "output_type": "stream",
     "text": [
      "Mean score CoxPH: 0.678 (std: 0.037)\n",
      "Mean score Lasso: 0.678 (std: 0.036)\n",
      "Mean score SVM: 0.677 (std: 0.037)\n"
     ]
    }
   ],
   "source": [
    "from sklearn.model_selection import cross_val_score\n",
    "\n",
    "scores4 = cross_val_score(estimator4, data_x_numeric4oh, data_y, cv=10)\n",
    "scoreslasso = cross_val_score(estimatorlasso, data_x_numeric4oh, data_y, cv=10)\n",
    "scoresvm = cross_val_score(estimatorsvm, data_x_numeric4oh, data_y, cv=10)\n",
    "\n",
    "# Compare results\n",
    "print(f\"Mean score CoxPH: {scores4.mean():.3f} (std: {scores4.std():.3f})\")\n",
    "print(f\"Mean score Lasso: {scoreslasso.mean():.3f} (std: {scoreslasso.std():.3f})\")\n",
    "print(f\"Mean score SVM: {scoresvm.mean():.3f} (std: {scoresvm.std():.3f})\")"
   ]
  },
  {
   "cell_type": "markdown",
   "metadata": {},
   "source": [
    "## Implementation of the partial likelihood as a loss function\n",
    "\n",
    "This is dual purpose. We can do a standard CPH regresssion and see if we agree on the result, but as a loss function it is also the output layer of `CoxNNet`, so if it works, it shouldn't be hard to implement that network. `(de Kamps, 2023)`\n",
    "\n",
    "The log partial likelihood is given by:\n",
    "$$\n",
    "\\ln L_{\\boldsymbol{\\beta}} = \\sum^N_{i=1} c_i( \\theta_i - \\ln \\sum_{j \\in R(t_j)} \\exp \\theta_j)\n",
    "$$\n",
    "\n",
    "When we allow for tied events, the procedure needs to be adapted. There are two main approaches, one by `Breslow` and one by `Efron`. Most survival analysis packages include at least these two methods. We will implement the `Breslow` one to ensure we understand the procedure, but will use `sksurv`'s implementation in the loss function. \n",
    "\n",
    "If $s_j=\\sum_{i  \\in D_j} \\boldsymbol{x}_i$ is the sum of covariates over the set $D_j$ of individuals who die at time $t_j$, then\n",
    "$$\n",
    "L_{\\boldsymbol{\\beta}} = \\frac{\\Pi^J_{j=1} \\exp \\boldsymbol{\\beta} \\boldsymbol{s}_j}{ \\left\\{ \\sum_{k \\in R_j} \\exp \\boldsymbol{\\beta} \\boldsymbol{x}_k   \\right\\}^{d_j}}\n",
    "$$\n",
    "\n",
    "If we look at the file `coxph.py` we see that `CoxPHOptimizer` implements this likelihood.\n",
    "\n",
    "**Note**: We have adapted this function instead of duplicating it further down to take in a `model` if specified by `CoxNNet`."
   ]
  },
  {
   "cell_type": "code",
   "execution_count": 37,
   "metadata": {},
   "outputs": [],
   "source": [
    "import torch \n",
    "\n",
    "# Sets the random seed for generating random numbers in the future\n",
    "torch.manual_seed(42)\n",
    "\n",
    "import numpy\n",
    "\n",
    "# Adapted from Pölsterl (2023); de Kamps (2023)\n",
    "\n",
    "class CoxPHOptimizer:\n",
    "    \"\"\"Negative partial log-likelihood of Cox proportional hazards model.\"\"\"\n",
    "\n",
    "    def __init__(self, X, event, time, alpha, ties):\n",
    "        \"\"\"Initialize the model.\n",
    "\n",
    "        Args:\n",
    "            X (pandas.DataFrame): The dataset.\n",
    "            event (array): List of events.\n",
    "            time (array): List of times.\n",
    "            alpha (array): List of L2 penalties for each coefficient.\n",
    "            ties (string): Which method to use for ties. One of 'breslow' or 'efron'.\n",
    "\n",
    "        Raises:\n",
    "            ValueError: If ties is not one of 'breslow' or 'efron'.\n",
    "        \"\"\"\n",
    "        # Sort descending\n",
    "        o = numpy.argsort(-time, kind=\"mergesort\")\n",
    "        self.x = torch.tensor(X[o, :], dtype=torch.float)\n",
    "        self.event = event[o]\n",
    "        self.time = time[o]\n",
    "        self.alpha = alpha\n",
    "        # Method to handle ties\n",
    "        if ties not in (\"breslow\", \"efron\"):\n",
    "            raise ValueError(\"ties must be one of 'breslow', 'efron'\")\n",
    "        ties = \"breslow\"\n",
    "        self._is_breslow = ties == \"breslow\"\n",
    "\n",
    "    def nlog_likelihood(self, w=None, model=None):\n",
    "        \"\"\"Compute negative partial log-likelihood.\n",
    "\n",
    "        Args:\n",
    "            w (array, shape = (n_features,), optional): Estimate of coefficients. Defaults to None.\n",
    "            model (torch.nn.Module, optional): The NN model. Defaults to None.\n",
    "\n",
    "        Returns:\n",
    "            float: Average negative partial log-likelihood (NPLL per event).\n",
    "        \"\"\"\n",
    "        time = self.time\n",
    "        n_samples = self.x.shape[0]\n",
    "        breslow = self._is_breslow\n",
    "        xw = []\n",
    "                \n",
    "        if model is not None:\n",
    "            for i in range(n_samples):\n",
    "                # Computes risk score for each sample using the NN model\n",
    "                # and appends it to the list xw, containing the risk scores for all samples.\n",
    "                xw.append(model.forward(self.x[i]))\n",
    "        else:\n",
    "            # This is the critical line of code for our project. \n",
    "            # It is the matrix-vector product of the matrix of features x\n",
    "            # and the vector of weights w.\n",
    "            # This is what we will be replacing with our NNs.\n",
    "            # As seen above, when the model is not None, we use the NN model.\n",
    "            xw = self.x@w\n",
    "\n",
    "        loss = 0\n",
    "        risk_set = 0\n",
    "        k = 0\n",
    "        \n",
    "        while k < n_samples:\n",
    "            ti = time[k]\n",
    "            numerator = 0\n",
    "            n_events = 0\n",
    "            risk_set2 = 0\n",
    "            while k < n_samples and ti == time[k]:\n",
    "                if self.event[k]:\n",
    "                    numerator = numerator + xw[k]\n",
    "                    risk_set2 = risk_set2 + torch.exp(xw[k])\n",
    "                    n_events = n_events + 1\n",
    "                else:\n",
    "                    risk_set = risk_set + torch.exp(xw[k])\n",
    "                k = k + 1\n",
    "\n",
    "            if n_events > 0:\n",
    "                if breslow:\n",
    "                    risk_set = risk_set + risk_set2\n",
    "                    loss = loss - (numerator - n_events * torch.log(risk_set)) / n_samples\n",
    "                else:\n",
    "                    numerator = numerator/n_events\n",
    "                    for _ in range(n_events):\n",
    "                        risk_set = risk_set + risk_set2 / n_events\n",
    "                        loss = loss - (numerator - torch.log(risk_set)) / n_samples\n",
    "\n",
    "        return loss\n",
    "    \n",
    "    def update(self, model, offset=0):\n",
    "        \"\"\"Compute and updates gradient and Hessian matrix.\n",
    "        \n",
    "        Args:\n",
    "            model (torch.nn.Module): The NN model.\n",
    "            offset (float, optional): The offset. Defaults to 0.\n",
    "        \"\"\"\n",
    "        # Note that in this function, we do not use coefficients\n",
    "        # Thus we do not pass in the weights `w`\n",
    "        time = self.time\n",
    "        x = self.x\n",
    "        breslow = self._is_breslow\n",
    "        n_samples, n_features = x.shape\n",
    "        \n",
    "        # Compute risk score for each sample using the NN model\n",
    "        # Everything else in this function is the same as the original code\n",
    "        exp_xw = []\n",
    "        for i in range(n_samples):\n",
    "            exp_xw.append(np.exp(offset + model.forward(torch.tensor(x[i], dtype=torch.float32)).item()))\n",
    "\n",
    "        gradient = numpy.zeros((1, n_features), dtype=numpy.float64)\n",
    "        hessian = numpy.zeros((n_features, n_features), dtype=numpy.float64)\n",
    "\n",
    "        inv_n_samples = 1. / n_samples\n",
    "        risk_set = 0\n",
    "        risk_set_x = numpy.zeros((1, n_features), dtype=numpy.float64)\n",
    "        risk_set_xx = numpy.zeros((n_features, n_features), dtype=numpy.float64)\n",
    "        k = 0\n",
    "        \n",
    "        # Iterate time in descending order\n",
    "        while k < n_samples:\n",
    "            ti = time[k]\n",
    "            n_events = 0\n",
    "            numerator = 0\n",
    "            risk_set2 = 0\n",
    "            risk_set_x2 = numpy.zeros_like(risk_set_x)\n",
    "            risk_set_xx2 = numpy.zeros_like(risk_set_xx)\n",
    "            while k < n_samples and ti == time[k]:\n",
    "                # Preserve 2D shape of row vector\n",
    "                xk = x[k:k + 1]\n",
    "\n",
    "                # Outer product\n",
    "                xx = numpy.dot(xk.T, xk)\n",
    "\n",
    "                if self.event[k]:\n",
    "                    numerator += xk\n",
    "                    risk_set2 += exp_xw[k]\n",
    "                    risk_set_x2 += exp_xw[k] * xk\n",
    "                    risk_set_xx2 += exp_xw[k] * xx\n",
    "                    n_events += 1\n",
    "                else:\n",
    "                    risk_set += exp_xw[k]\n",
    "                    risk_set_x += exp_xw[k] * xk\n",
    "                    risk_set_xx += exp_xw[k] * xx\n",
    "                k += 1\n",
    "\n",
    "            if n_events > 0:\n",
    "                if breslow:\n",
    "                    risk_set += risk_set2\n",
    "                    risk_set_x += risk_set_x2\n",
    "                    risk_set_xx += risk_set_xx2\n",
    "\n",
    "                    z = risk_set_x / risk_set\n",
    "                    gradient -= (numerator - n_events * z) * inv_n_samples\n",
    "\n",
    "                    a = risk_set_xx / risk_set\n",
    "                    # outer product\n",
    "                    b = numpy.dot(z.T, z)\n",
    "\n",
    "                    hessian += n_events * (a - b) * inv_n_samples\n",
    "                else:\n",
    "                    numerator /= n_events\n",
    "                    for _ in range(n_events):\n",
    "                        risk_set += risk_set2 / n_events\n",
    "                        risk_set_x += risk_set_x2 / n_events\n",
    "                        risk_set_xx += risk_set_xx2 / n_events\n",
    "\n",
    "                        z = risk_set_x / risk_set\n",
    "                        gradient -= (numerator - z) * inv_n_samples\n",
    "\n",
    "                        a = risk_set_xx / risk_set\n",
    "                        # outer product\n",
    "                        b = numpy.dot(z.T, z)\n",
    "\n",
    "                        hessian += (a - b) * inv_n_samples\n",
    "\n",
    "        self.gradient = gradient.ravel()\n",
    "        self.hessian = hessian\n",
    "    \n",
    "    def zero(self):\n",
    "        \"\"\"Reset gradient and Hessian matrix.\"\"\"\n",
    "        self.gradient = 0\n",
    "        self.hessian = 0"
   ]
  },
  {
   "cell_type": "markdown",
   "metadata": {},
   "source": [
    "### Verification\n",
    "\n",
    "An independent check on the numbers would be handy. [John Fox introductory course on survival analysis](https://socialsciences.mcmaster.ca/jfox/Courses/soc761/survival-analysis.pdf), provides a numerical example. The advantage of that example is that we get to see which coefficient belongs to what covariate. `(de Kamps, 2023)`"
   ]
  },
  {
   "cell_type": "code",
   "execution_count": 38,
   "metadata": {},
   "outputs": [
    {
     "name": "stdout",
     "output_type": "stream",
     "text": [
      "Requirement already satisfied: lifelines in c:\\users\\omarc\\onedrive - university of leeds\\year 3\\3931 individual project\\code\\.venv\\lib\\site-packages (0.27.4)\n",
      "Requirement already satisfied: numpy>=1.14.0 in c:\\users\\omarc\\onedrive - university of leeds\\year 3\\3931 individual project\\code\\.venv\\lib\\site-packages (from lifelines) (1.23.5)\n",
      "Requirement already satisfied: scipy>=1.2.0 in c:\\users\\omarc\\onedrive - university of leeds\\year 3\\3931 individual project\\code\\.venv\\lib\\site-packages (from lifelines) (1.10.1)\n",
      "Requirement already satisfied: pandas>=1.0.0 in c:\\users\\omarc\\onedrive - university of leeds\\year 3\\3931 individual project\\code\\.venv\\lib\\site-packages (from lifelines) (1.5.2)\n",
      "Requirement already satisfied: matplotlib>=3.0 in c:\\users\\omarc\\onedrive - university of leeds\\year 3\\3931 individual project\\code\\.venv\\lib\\site-packages (from lifelines) (3.6.2)\n",
      "Requirement already satisfied: autograd>=1.5 in c:\\users\\omarc\\onedrive - university of leeds\\year 3\\3931 individual project\\code\\.venv\\lib\\site-packages (from lifelines) (1.5)\n",
      "Requirement already satisfied: autograd-gamma>=0.3 in c:\\users\\omarc\\onedrive - university of leeds\\year 3\\3931 individual project\\code\\.venv\\lib\\site-packages (from lifelines) (0.5.0)\n",
      "Requirement already satisfied: formulaic>=0.2.2 in c:\\users\\omarc\\onedrive - university of leeds\\year 3\\3931 individual project\\code\\.venv\\lib\\site-packages (from lifelines) (0.5.2)\n",
      "Requirement already satisfied: future>=0.15.2 in c:\\users\\omarc\\onedrive - university of leeds\\year 3\\3931 individual project\\code\\.venv\\lib\\site-packages (from autograd>=1.5->lifelines) (0.18.3)\n",
      "Requirement already satisfied: astor>=0.8 in c:\\users\\omarc\\onedrive - university of leeds\\year 3\\3931 individual project\\code\\.venv\\lib\\site-packages (from formulaic>=0.2.2->lifelines) (0.8.1)\n",
      "Requirement already satisfied: interface-meta>=1.2.0 in c:\\users\\omarc\\onedrive - university of leeds\\year 3\\3931 individual project\\code\\.venv\\lib\\site-packages (from formulaic>=0.2.2->lifelines) (1.3.0)\n",
      "Requirement already satisfied: typing-extensions>=4.2.0 in c:\\users\\omarc\\onedrive - university of leeds\\year 3\\3931 individual project\\code\\.venv\\lib\\site-packages (from formulaic>=0.2.2->lifelines) (4.5.0)\n",
      "Requirement already satisfied: wrapt>=1.0 in c:\\users\\omarc\\onedrive - university of leeds\\year 3\\3931 individual project\\code\\.venv\\lib\\site-packages (from formulaic>=0.2.2->lifelines) (1.15.0)\n",
      "Requirement already satisfied: contourpy>=1.0.1 in c:\\users\\omarc\\onedrive - university of leeds\\year 3\\3931 individual project\\code\\.venv\\lib\\site-packages (from matplotlib>=3.0->lifelines) (1.0.7)\n",
      "Requirement already satisfied: cycler>=0.10 in c:\\users\\omarc\\onedrive - university of leeds\\year 3\\3931 individual project\\code\\.venv\\lib\\site-packages (from matplotlib>=3.0->lifelines) (0.11.0)\n",
      "Requirement already satisfied: fonttools>=4.22.0 in c:\\users\\omarc\\onedrive - university of leeds\\year 3\\3931 individual project\\code\\.venv\\lib\\site-packages (from matplotlib>=3.0->lifelines) (4.39.3)\n",
      "Requirement already satisfied: kiwisolver>=1.0.1 in c:\\users\\omarc\\onedrive - university of leeds\\year 3\\3931 individual project\\code\\.venv\\lib\\site-packages (from matplotlib>=3.0->lifelines) (1.4.4)\n",
      "Requirement already satisfied: packaging>=20.0 in c:\\users\\omarc\\onedrive - university of leeds\\year 3\\3931 individual project\\code\\.venv\\lib\\site-packages (from matplotlib>=3.0->lifelines) (23.0)\n",
      "Requirement already satisfied: pillow>=6.2.0 in c:\\users\\omarc\\onedrive - university of leeds\\year 3\\3931 individual project\\code\\.venv\\lib\\site-packages (from matplotlib>=3.0->lifelines) (9.5.0)\n",
      "Requirement already satisfied: pyparsing>=2.2.1 in c:\\users\\omarc\\onedrive - university of leeds\\year 3\\3931 individual project\\code\\.venv\\lib\\site-packages (from matplotlib>=3.0->lifelines) (3.0.9)\n",
      "Requirement already satisfied: python-dateutil>=2.7 in c:\\users\\omarc\\onedrive - university of leeds\\year 3\\3931 individual project\\code\\.venv\\lib\\site-packages (from matplotlib>=3.0->lifelines) (2.8.2)\n",
      "Requirement already satisfied: pytz>=2020.1 in c:\\users\\omarc\\onedrive - university of leeds\\year 3\\3931 individual project\\code\\.venv\\lib\\site-packages (from pandas>=1.0.0->lifelines) (2023.3)\n",
      "Requirement already satisfied: six>=1.5 in c:\\users\\omarc\\onedrive - university of leeds\\year 3\\3931 individual project\\code\\.venv\\lib\\site-packages (from python-dateutil>=2.7->matplotlib>=3.0->lifelines) (1.16.0)\n",
      "Note: you may need to restart the kernel to use updated packages.\n"
     ]
    },
    {
     "data": {
      "text/html": [
       "<div>\n",
       "<style scoped>\n",
       "    .dataframe tbody tr th:only-of-type {\n",
       "        vertical-align: middle;\n",
       "    }\n",
       "\n",
       "    .dataframe tbody tr th {\n",
       "        vertical-align: top;\n",
       "    }\n",
       "\n",
       "    .dataframe thead th {\n",
       "        text-align: right;\n",
       "    }\n",
       "</style>\n",
       "<table border=\"1\" class=\"dataframe\">\n",
       "  <tbody>\n",
       "    <tr>\n",
       "      <th>model</th>\n",
       "      <td>lifelines.CoxPHFitter</td>\n",
       "    </tr>\n",
       "    <tr>\n",
       "      <th>duration col</th>\n",
       "      <td>'week'</td>\n",
       "    </tr>\n",
       "    <tr>\n",
       "      <th>event col</th>\n",
       "      <td>'arrest'</td>\n",
       "    </tr>\n",
       "    <tr>\n",
       "      <th>baseline estimation</th>\n",
       "      <td>breslow</td>\n",
       "    </tr>\n",
       "    <tr>\n",
       "      <th>number of observations</th>\n",
       "      <td>432</td>\n",
       "    </tr>\n",
       "    <tr>\n",
       "      <th>number of events observed</th>\n",
       "      <td>114</td>\n",
       "    </tr>\n",
       "    <tr>\n",
       "      <th>partial log-likelihood</th>\n",
       "      <td>-658.75</td>\n",
       "    </tr>\n",
       "    <tr>\n",
       "      <th>time fit was run</th>\n",
       "      <td>2023-04-24 23:36:19 UTC</td>\n",
       "    </tr>\n",
       "  </tbody>\n",
       "</table>\n",
       "</div><table border=\"1\" class=\"dataframe\">\n",
       "  <thead>\n",
       "    <tr style=\"text-align: right;\">\n",
       "      <th style=\"min-width: 12px;\"></th>\n",
       "      <th style=\"min-width: 12px;\">coef</th>\n",
       "      <th style=\"min-width: 12px;\">se(coef)</th>\n",
       "      <th style=\"min-width: 12px;\">p</th>\n",
       "    </tr>\n",
       "  </thead>\n",
       "  <tbody>\n",
       "    <tr>\n",
       "      <th>fin</th>\n",
       "      <td>-0.38</td>\n",
       "      <td>0.19</td>\n",
       "      <td>0.05</td>\n",
       "    </tr>\n",
       "    <tr>\n",
       "      <th>age</th>\n",
       "      <td>-0.06</td>\n",
       "      <td>0.02</td>\n",
       "      <td>0.01</td>\n",
       "    </tr>\n",
       "    <tr>\n",
       "      <th>race</th>\n",
       "      <td>0.31</td>\n",
       "      <td>0.31</td>\n",
       "      <td>0.31</td>\n",
       "    </tr>\n",
       "    <tr>\n",
       "      <th>wexp</th>\n",
       "      <td>-0.15</td>\n",
       "      <td>0.21</td>\n",
       "      <td>0.48</td>\n",
       "    </tr>\n",
       "    <tr>\n",
       "      <th>mar</th>\n",
       "      <td>-0.43</td>\n",
       "      <td>0.38</td>\n",
       "      <td>0.26</td>\n",
       "    </tr>\n",
       "    <tr>\n",
       "      <th>paro</th>\n",
       "      <td>-0.08</td>\n",
       "      <td>0.20</td>\n",
       "      <td>0.66</td>\n",
       "    </tr>\n",
       "    <tr>\n",
       "      <th>prio</th>\n",
       "      <td>0.09</td>\n",
       "      <td>0.03</td>\n",
       "      <td>&lt;0.005</td>\n",
       "    </tr>\n",
       "  </tbody>\n",
       "</table><br><div>\n",
       "<style scoped>\n",
       "    .dataframe tbody tr th:only-of-type {\n",
       "        vertical-align: middle;\n",
       "    }\n",
       "\n",
       "    .dataframe tbody tr th {\n",
       "        vertical-align: top;\n",
       "    }\n",
       "\n",
       "    .dataframe thead th {\n",
       "        text-align: right;\n",
       "    }\n",
       "</style>\n",
       "<table border=\"1\" class=\"dataframe\">\n",
       "  <tbody>\n",
       "    <tr>\n",
       "      <th>Concordance</th>\n",
       "      <td>0.64</td>\n",
       "    </tr>\n",
       "    <tr>\n",
       "      <th>Partial AIC</th>\n",
       "      <td>1331.50</td>\n",
       "    </tr>\n",
       "    <tr>\n",
       "      <th>log-likelihood ratio test</th>\n",
       "      <td>33.27 on 7 df</td>\n",
       "    </tr>\n",
       "    <tr>\n",
       "      <th>-log2(p) of ll-ratio test</th>\n",
       "      <td>15.37</td>\n",
       "    </tr>\n",
       "  </tbody>\n",
       "</table>\n",
       "</div>"
      ],
      "text/latex": [
       "\\begin{tabular}{lrrr}\n",
       " & coef & se(coef) & p \\\\\n",
       "covariate &  &  &  \\\\\n",
       "fin & -0.38 & 0.19 & 0.05 \\\\\n",
       "age & -0.06 & 0.02 & 0.01 \\\\\n",
       "race & 0.31 & 0.31 & 0.31 \\\\\n",
       "wexp & -0.15 & 0.21 & 0.48 \\\\\n",
       "mar & -0.43 & 0.38 & 0.26 \\\\\n",
       "paro & -0.08 & 0.20 & 0.66 \\\\\n",
       "prio & 0.09 & 0.03 & 0.00 \\\\\n",
       "\\end{tabular}\n"
      ],
      "text/plain": [
       "<lifelines.CoxPHFitter: fitted with 432 total observations, 318 right-censored observations>\n",
       "             duration col = 'week'\n",
       "                event col = 'arrest'\n",
       "      baseline estimation = breslow\n",
       "   number of observations = 432\n",
       "number of events observed = 114\n",
       "   partial log-likelihood = -658.75\n",
       "         time fit was run = 2023-04-24 23:36:19 UTC\n",
       "\n",
       "---\n",
       "            coef   se(coef)      p\n",
       "covariate                         \n",
       "fin        -0.38       0.19   0.05\n",
       "age        -0.06       0.02   0.01\n",
       "race        0.31       0.31   0.31\n",
       "wexp       -0.15       0.21   0.48\n",
       "mar        -0.43       0.38   0.26\n",
       "paro       -0.08       0.20   0.66\n",
       "prio        0.09       0.03 <0.005\n",
       "---\n",
       "Concordance = 0.64\n",
       "Partial AIC = 1331.50\n",
       "log-likelihood ratio test = 33.27 on 7 df\n",
       "-log2(p) of ll-ratio test = 15.37"
      ]
     },
     "metadata": {},
     "output_type": "display_data"
    }
   ],
   "source": [
    "%pip install lifelines\n",
    "\n",
    "# (de Kamps, 2023)\n",
    "from lifelines.datasets import load_rossi\n",
    "from lifelines import CoxPHFitter\n",
    "\n",
    "rossi = load_rossi()\n",
    "\n",
    "cph = CoxPHFitter().fit(rossi, 'week', 'arrest')\n",
    "\n",
    "cph.print_summary(columns=[\"coef\", \"se(coef)\", \"p\"])"
   ]
  },
  {
   "cell_type": "markdown",
   "metadata": {},
   "source": [
    "OK, that was a bit quick. What happened here? `Lifelines` is another survival package. It was just one line to do CPH fit and the coefficients are almost identical to the example given by Fox (slide `76`). `(de Kamps, 2023)`\n",
    "\n",
    "At the very least, we should redo the analysis with `sksurv`. `rossi` is a dataframe that is understood by `Pandas`."
   ]
  },
  {
   "cell_type": "code",
   "execution_count": 39,
   "metadata": {},
   "outputs": [
    {
     "data": {
      "text/html": [
       "<div>\n",
       "<style scoped>\n",
       "    .dataframe tbody tr th:only-of-type {\n",
       "        vertical-align: middle;\n",
       "    }\n",
       "\n",
       "    .dataframe tbody tr th {\n",
       "        vertical-align: top;\n",
       "    }\n",
       "\n",
       "    .dataframe thead th {\n",
       "        text-align: right;\n",
       "    }\n",
       "</style>\n",
       "<table border=\"1\" class=\"dataframe\">\n",
       "  <thead>\n",
       "    <tr style=\"text-align: right;\">\n",
       "      <th></th>\n",
       "      <th>week</th>\n",
       "      <th>arrest</th>\n",
       "      <th>fin</th>\n",
       "      <th>age</th>\n",
       "      <th>race</th>\n",
       "      <th>wexp</th>\n",
       "      <th>mar</th>\n",
       "      <th>paro</th>\n",
       "      <th>prio</th>\n",
       "    </tr>\n",
       "  </thead>\n",
       "  <tbody>\n",
       "    <tr>\n",
       "      <th>0</th>\n",
       "      <td>20</td>\n",
       "      <td>1</td>\n",
       "      <td>0</td>\n",
       "      <td>27</td>\n",
       "      <td>1</td>\n",
       "      <td>0</td>\n",
       "      <td>0</td>\n",
       "      <td>1</td>\n",
       "      <td>3</td>\n",
       "    </tr>\n",
       "    <tr>\n",
       "      <th>1</th>\n",
       "      <td>17</td>\n",
       "      <td>1</td>\n",
       "      <td>0</td>\n",
       "      <td>18</td>\n",
       "      <td>1</td>\n",
       "      <td>0</td>\n",
       "      <td>0</td>\n",
       "      <td>1</td>\n",
       "      <td>8</td>\n",
       "    </tr>\n",
       "    <tr>\n",
       "      <th>2</th>\n",
       "      <td>25</td>\n",
       "      <td>1</td>\n",
       "      <td>0</td>\n",
       "      <td>19</td>\n",
       "      <td>0</td>\n",
       "      <td>1</td>\n",
       "      <td>0</td>\n",
       "      <td>1</td>\n",
       "      <td>13</td>\n",
       "    </tr>\n",
       "    <tr>\n",
       "      <th>3</th>\n",
       "      <td>52</td>\n",
       "      <td>0</td>\n",
       "      <td>1</td>\n",
       "      <td>23</td>\n",
       "      <td>1</td>\n",
       "      <td>1</td>\n",
       "      <td>1</td>\n",
       "      <td>1</td>\n",
       "      <td>1</td>\n",
       "    </tr>\n",
       "    <tr>\n",
       "      <th>4</th>\n",
       "      <td>52</td>\n",
       "      <td>0</td>\n",
       "      <td>0</td>\n",
       "      <td>19</td>\n",
       "      <td>0</td>\n",
       "      <td>1</td>\n",
       "      <td>0</td>\n",
       "      <td>1</td>\n",
       "      <td>3</td>\n",
       "    </tr>\n",
       "  </tbody>\n",
       "</table>\n",
       "</div>"
      ],
      "text/plain": [
       "   week  arrest  fin  age  race  wexp  mar  paro  prio\n",
       "0    20       1    0   27     1     0    0     1     3\n",
       "1    17       1    0   18     1     0    0     1     8\n",
       "2    25       1    0   19     0     1    0     1    13\n",
       "3    52       0    1   23     1     1    1     1     1\n",
       "4    52       0    0   19     0     1    0     1     3"
      ]
     },
     "execution_count": 39,
     "metadata": {},
     "output_type": "execute_result"
    }
   ],
   "source": [
    "rossi.head()"
   ]
  },
  {
   "cell_type": "code",
   "execution_count": 40,
   "metadata": {},
   "outputs": [
    {
     "data": {
      "text/html": [
       "<div>\n",
       "<style scoped>\n",
       "    .dataframe tbody tr th:only-of-type {\n",
       "        vertical-align: middle;\n",
       "    }\n",
       "\n",
       "    .dataframe tbody tr th {\n",
       "        vertical-align: top;\n",
       "    }\n",
       "\n",
       "    .dataframe thead th {\n",
       "        text-align: right;\n",
       "    }\n",
       "</style>\n",
       "<table border=\"1\" class=\"dataframe\">\n",
       "  <thead>\n",
       "    <tr style=\"text-align: right;\">\n",
       "      <th></th>\n",
       "      <th>fin</th>\n",
       "      <th>age</th>\n",
       "      <th>race</th>\n",
       "      <th>wexp</th>\n",
       "      <th>mar</th>\n",
       "      <th>paro</th>\n",
       "      <th>prio</th>\n",
       "    </tr>\n",
       "  </thead>\n",
       "  <tbody>\n",
       "    <tr>\n",
       "      <th>0</th>\n",
       "      <td>0</td>\n",
       "      <td>27</td>\n",
       "      <td>1</td>\n",
       "      <td>0</td>\n",
       "      <td>0</td>\n",
       "      <td>1</td>\n",
       "      <td>3</td>\n",
       "    </tr>\n",
       "    <tr>\n",
       "      <th>1</th>\n",
       "      <td>0</td>\n",
       "      <td>18</td>\n",
       "      <td>1</td>\n",
       "      <td>0</td>\n",
       "      <td>0</td>\n",
       "      <td>1</td>\n",
       "      <td>8</td>\n",
       "    </tr>\n",
       "    <tr>\n",
       "      <th>2</th>\n",
       "      <td>0</td>\n",
       "      <td>19</td>\n",
       "      <td>0</td>\n",
       "      <td>1</td>\n",
       "      <td>0</td>\n",
       "      <td>1</td>\n",
       "      <td>13</td>\n",
       "    </tr>\n",
       "    <tr>\n",
       "      <th>3</th>\n",
       "      <td>1</td>\n",
       "      <td>23</td>\n",
       "      <td>1</td>\n",
       "      <td>1</td>\n",
       "      <td>1</td>\n",
       "      <td>1</td>\n",
       "      <td>1</td>\n",
       "    </tr>\n",
       "    <tr>\n",
       "      <th>4</th>\n",
       "      <td>0</td>\n",
       "      <td>19</td>\n",
       "      <td>0</td>\n",
       "      <td>1</td>\n",
       "      <td>0</td>\n",
       "      <td>1</td>\n",
       "      <td>3</td>\n",
       "    </tr>\n",
       "  </tbody>\n",
       "</table>\n",
       "</div>"
      ],
      "text/plain": [
       "   fin  age  race  wexp  mar  paro  prio\n",
       "0    0   27     1     0    0     1     3\n",
       "1    0   18     1     0    0     1     8\n",
       "2    0   19     0     1    0     1    13\n",
       "3    1   23     1     1    1     1     1\n",
       "4    0   19     0     1    0     1     3"
      ]
     },
     "execution_count": 40,
     "metadata": {},
     "output_type": "execute_result"
    }
   ],
   "source": [
    "# (de Kamps, 2023)\n",
    "events = [True if x > 0. else False for x in rossi['arrest']]\n",
    "times = [x for x in rossi['week']]\n",
    "\n",
    "data_y_rossi = np.array(list(zip(events, times)), dtype=[('Status', '?'), ('Survival_in_weeks', '<f8')])\n",
    "\n",
    "data_x_rossi = rossi[['fin','age','race','wexp','mar','paro','prio']]\n",
    "data_x_rossi.head()"
   ]
  },
  {
   "cell_type": "code",
   "execution_count": 41,
   "metadata": {},
   "outputs": [
    {
     "name": "stdout",
     "output_type": "stream",
     "text": [
      "Estimator score is: 0.6404231835047672\n",
      "Coefficients: [-0.37902189 -0.05724593  0.31412977 -0.1511146  -0.43278257 -0.08498284\n",
      "  0.09111154]\n"
     ]
    }
   ],
   "source": [
    "# (de Kamps, 2023)\n",
    "estimatorrossi = CoxPHSurvivalAnalysis()\n",
    "estimatorrossi.fit(data_x_rossi, data_y_rossi)\n",
    "score = estimatorrossi.score(data_x_rossi, data_y_rossi)\n",
    "print('Estimator score is:', score)\n",
    "print('Coefficients:', estimatorrossi.coef_)"
   ]
  },
  {
   "cell_type": "markdown",
   "metadata": {},
   "source": [
    "Again, very similar results to Fox's table and importantly, the order of the coefficients is given by the order of the covariates. `(de Kamps, 2023)`\n",
    "\n",
    "Now let's go back for to the CHF data for a bit and see whether the lifelines analysis produces the same coefficients."
   ]
  },
  {
   "cell_type": "code",
   "execution_count": 42,
   "metadata": {},
   "outputs": [
    {
     "name": "stderr",
     "output_type": "stream",
     "text": [
      "C:\\Users\\omarc\\AppData\\Local\\Temp\\ipykernel_21568\\2931472563.py:3: FutureWarning: The default value of numeric_only in DataFrame.mean is deprecated. In a future version, it will default to False. In addition, specifying 'numeric_only=None' is deprecated. Select only valid columns or specify the value of numeric_only to silence this warning.\n",
      "  data_chf_imputed = data_chf.fillna(data_chf.mean())\n",
      "c:\\Users\\omarc\\OneDrive - University of Leeds\\Year 3\\3931 Individual Project\\Code\\.venv\\lib\\site-packages\\sksurv\\column.py:142: FutureWarning: iteritems is deprecated and will be removed in a future version. Use .items instead.\n",
      "  for name, series in table.iteritems():\n"
     ]
    }
   ],
   "source": [
    "# (de Kamps, 2023)\n",
    "data_chf = df[['StatusDeath', 'TimeDeath', 'ClinicAge', 'Haemoglobin', 'Diabetes', 'MaleSex']]\n",
    "data_chf_imputed = data_chf.fillna(data_chf.mean())\n",
    "data_chf_numeric = OneHotEncoder().fit_transform(data_chf_imputed)\n",
    "data_chf_numeric.head()\n",
    "\n",
    "# Let us use a simpler variable name\n",
    "chf = data_chf_numeric"
   ]
  },
  {
   "cell_type": "code",
   "execution_count": 43,
   "metadata": {},
   "outputs": [
    {
     "data": {
      "text/html": [
       "<div>\n",
       "<style scoped>\n",
       "    .dataframe tbody tr th:only-of-type {\n",
       "        vertical-align: middle;\n",
       "    }\n",
       "\n",
       "    .dataframe tbody tr th {\n",
       "        vertical-align: top;\n",
       "    }\n",
       "\n",
       "    .dataframe thead th {\n",
       "        text-align: right;\n",
       "    }\n",
       "</style>\n",
       "<table border=\"1\" class=\"dataframe\">\n",
       "  <tbody>\n",
       "    <tr>\n",
       "      <th>model</th>\n",
       "      <td>lifelines.CoxPHFitter</td>\n",
       "    </tr>\n",
       "    <tr>\n",
       "      <th>duration col</th>\n",
       "      <td>'TimeDeath'</td>\n",
       "    </tr>\n",
       "    <tr>\n",
       "      <th>event col</th>\n",
       "      <td>'StatusDeath'</td>\n",
       "    </tr>\n",
       "    <tr>\n",
       "      <th>baseline estimation</th>\n",
       "      <td>breslow</td>\n",
       "    </tr>\n",
       "    <tr>\n",
       "      <th>number of observations</th>\n",
       "      <td>1802</td>\n",
       "    </tr>\n",
       "    <tr>\n",
       "      <th>number of events observed</th>\n",
       "      <td>737</td>\n",
       "    </tr>\n",
       "    <tr>\n",
       "      <th>partial log-likelihood</th>\n",
       "      <td>-4949.39</td>\n",
       "    </tr>\n",
       "    <tr>\n",
       "      <th>time fit was run</th>\n",
       "      <td>2023-04-24 23:36:19 UTC</td>\n",
       "    </tr>\n",
       "  </tbody>\n",
       "</table>\n",
       "</div><table border=\"1\" class=\"dataframe\">\n",
       "  <thead>\n",
       "    <tr style=\"text-align: right;\">\n",
       "      <th style=\"min-width: 12px;\"></th>\n",
       "      <th style=\"min-width: 12px;\">coef</th>\n",
       "      <th style=\"min-width: 12px;\">se(coef)</th>\n",
       "      <th style=\"min-width: 12px;\">p</th>\n",
       "    </tr>\n",
       "  </thead>\n",
       "  <tbody>\n",
       "    <tr>\n",
       "      <th>ClinicAge</th>\n",
       "      <td>0.04</td>\n",
       "      <td>0.00</td>\n",
       "      <td>&lt;0.005</td>\n",
       "    </tr>\n",
       "    <tr>\n",
       "      <th>Haemoglobin</th>\n",
       "      <td>-0.20</td>\n",
       "      <td>0.02</td>\n",
       "      <td>&lt;0.005</td>\n",
       "    </tr>\n",
       "    <tr>\n",
       "      <th>Diabetes</th>\n",
       "      <td>0.30</td>\n",
       "      <td>0.08</td>\n",
       "      <td>&lt;0.005</td>\n",
       "    </tr>\n",
       "    <tr>\n",
       "      <th>MaleSex=Male</th>\n",
       "      <td>0.57</td>\n",
       "      <td>0.09</td>\n",
       "      <td>&lt;0.005</td>\n",
       "    </tr>\n",
       "  </tbody>\n",
       "</table><br><div>\n",
       "<style scoped>\n",
       "    .dataframe tbody tr th:only-of-type {\n",
       "        vertical-align: middle;\n",
       "    }\n",
       "\n",
       "    .dataframe tbody tr th {\n",
       "        vertical-align: top;\n",
       "    }\n",
       "\n",
       "    .dataframe thead th {\n",
       "        text-align: right;\n",
       "    }\n",
       "</style>\n",
       "<table border=\"1\" class=\"dataframe\">\n",
       "  <tbody>\n",
       "    <tr>\n",
       "      <th>Concordance</th>\n",
       "      <td>0.68</td>\n",
       "    </tr>\n",
       "    <tr>\n",
       "      <th>Partial AIC</th>\n",
       "      <td>9906.77</td>\n",
       "    </tr>\n",
       "    <tr>\n",
       "      <th>log-likelihood ratio test</th>\n",
       "      <td>329.17 on 4 df</td>\n",
       "    </tr>\n",
       "    <tr>\n",
       "      <th>-log2(p) of ll-ratio test</th>\n",
       "      <td>230.07</td>\n",
       "    </tr>\n",
       "  </tbody>\n",
       "</table>\n",
       "</div>"
      ],
      "text/latex": [
       "\\begin{tabular}{lrrr}\n",
       " & coef & se(coef) & p \\\\\n",
       "covariate &  &  &  \\\\\n",
       "ClinicAge & 0.04 & 0.00 & 0.00 \\\\\n",
       "Haemoglobin & -0.20 & 0.02 & 0.00 \\\\\n",
       "Diabetes & 0.30 & 0.08 & 0.00 \\\\\n",
       "MaleSex=Male & 0.57 & 0.09 & 0.00 \\\\\n",
       "\\end{tabular}\n"
      ],
      "text/plain": [
       "<lifelines.CoxPHFitter: fitted with 1802 total observations, 1065 right-censored observations>\n",
       "             duration col = 'TimeDeath'\n",
       "                event col = 'StatusDeath'\n",
       "      baseline estimation = breslow\n",
       "   number of observations = 1802\n",
       "number of events observed = 737\n",
       "   partial log-likelihood = -4949.39\n",
       "         time fit was run = 2023-04-24 23:36:19 UTC\n",
       "\n",
       "---\n",
       "               coef   se(coef)      p\n",
       "covariate                            \n",
       "ClinicAge      0.04       0.00 <0.005\n",
       "Haemoglobin   -0.20       0.02 <0.005\n",
       "Diabetes       0.30       0.08 <0.005\n",
       "MaleSex=Male   0.57       0.09 <0.005\n",
       "---\n",
       "Concordance = 0.68\n",
       "Partial AIC = 9906.77\n",
       "log-likelihood ratio test = 329.17 on 4 df\n",
       "-log2(p) of ll-ratio test = 230.07"
      ]
     },
     "metadata": {},
     "output_type": "display_data"
    }
   ],
   "source": [
    "# (de Kamps, 2023)\n",
    "cphchf = CoxPHFitter().fit(chf, 'TimeDeath', 'StatusDeath')\n",
    "cphchf.print_summary(columns=[\"coef\", \"se(coef)\", \"p\"])\n",
    "\n",
    "# Store the coefficients\n",
    "cphchf_coef = cphchf.summary['coef']"
   ]
  },
  {
   "cell_type": "markdown",
   "metadata": {},
   "source": [
    "They are almost the same coefficients, and in the same order. `(de Kamps, 2023)`"
   ]
  },
  {
   "cell_type": "code",
   "execution_count": 44,
   "metadata": {},
   "outputs": [
    {
     "data": {
      "image/png": "[encoded data removed]",
      "text/plain": [
       "<Figure size 400x300 with 1 Axes>"
      ]
     },
     "metadata": {},
     "output_type": "display_data"
    }
   ],
   "source": [
    "# Plot the coefficients\n",
    "plt.figure(figsize=(4, 3))\n",
    "cphchf.plot()\n",
    "plt.show()"
   ]
  },
  {
   "cell_type": "code",
   "execution_count": 45,
   "metadata": {},
   "outputs": [
    {
     "name": "stdout",
     "output_type": "stream",
     "text": [
      "Estimator score is: 0.679573425174674\n",
      "Coefficients: [ 0.04359563 -0.19889853  0.30170977  0.56861131]\n"
     ]
    }
   ],
   "source": [
    "# Prepare the data for the CoxPHSurvivalAnalysis\n",
    "eventschf = [True if x > 0. else False for x in chf['StatusDeath']]\n",
    "timeschf = [x for x in chf['TimeDeath']]\n",
    "data_y_chf = np.array(list(zip(eventschf, timeschf)), dtype=[('Status', '?'), ('Survival_in_weeks', '<f8')])\n",
    "data_x_chf = chf[['ClinicAge', 'Haemoglobin', 'Diabetes', 'MaleSex=Male']]\n",
    "\n",
    "# Do the same for the CoxPHSurvivalAnalysis on CHF\n",
    "estimatorchf = CoxPHSurvivalAnalysis()\n",
    "estimatorchf.fit(data_x_chf, data_y_chf)\n",
    "score = estimatorchf.score(data_x_chf, data_y_chf)\n",
    "print('Estimator score is:', score)\n",
    "print('Coefficients:', estimatorchf.coef_)"
   ]
  },
  {
   "cell_type": "markdown",
   "metadata": {},
   "source": [
    "## Neural Network Implementation of Partial Regression"
   ]
  },
  {
   "cell_type": "markdown",
   "metadata": {},
   "source": [
    "OK, we have a free floating loss function, as yet not really tested. It's not even a loss function as such, more a methodology. Let's tidy up. `(de Kamps, 2023)`"
   ]
  },
  {
   "cell_type": "code",
   "execution_count": 55,
   "metadata": {},
   "outputs": [
    {
     "data": {
      "text/plain": [
       "tensor(-659.1310, grad_fn=<MulBackward0>)"
      ]
     },
     "execution_count": 55,
     "metadata": {},
     "output_type": "execute_result"
    }
   ],
   "source": [
    "# Adapted from de Kamps (2023); Ching et al. (2018)\n",
    "# We allow pasing in a model when computing the log-likelihood\n",
    "\n",
    "torch.autograd.set_detect_anomaly = True\n",
    "\n",
    "class CoxNNet(torch.nn.Module):\n",
    "    \"\"\"CoxNNet model for survival analysis.\"\"\"\n",
    "\n",
    "    def __init__(self, df, event, time, coefficients=None):\n",
    "        \"\"\"Initialize the CoxNNet model.\n",
    "\n",
    "        Args:\n",
    "            df (pandas.DataFrame): Dataframe containing the covariates and the event and time columns.\n",
    "            event (string): Name of the event column. \n",
    "            time (string): Name of the time column.\n",
    "            coefficients (torch,tensor, optional): Initial coefficients. Defaults to None.\n",
    "        \"\"\"\n",
    "\n",
    "        super().__init__()\n",
    "\n",
    "        self.covariates = [x for x in df.columns if x != event and x != time]\n",
    "        self.df = df\n",
    "        self.dfx = df[self.covariates].to_numpy(dtype=float)\n",
    "        \n",
    "        n_covariates = len(self.covariates)\n",
    "        \n",
    "        # If no coefficients are passed in, we initialize them randomly\n",
    "        if coefficients == None:\n",
    "            self.coefficients = torch.randn(n_covariates, requires_grad=True, dtype=torch.float)\n",
    "        # Otherwise we use the coefficients passed in\n",
    "        else:\n",
    "            self.coefficients = coefficients.clone().detach().requires_grad_(True)\n",
    "        # print(self.coefficients)\n",
    "        \n",
    "        # This line is used in coxpy to initialize the alphas\n",
    "        alphas = torch.zeros(self.dfx.shape[1])\n",
    "        \n",
    "        self.opt = CoxPHOptimizer(self.dfx, self.df[event].to_numpy(),\n",
    "                                  self.df[time].to_numpy(),\n",
    "                                  alphas, 'breslow')\n",
    "\n",
    "    def forward(self, model=None):\n",
    "        \"\"\"Calculate the log-likelihood over the entire dataset.\n",
    "        This is the function that is called when we call net.forward().\n",
    "        Important: this is where we can pass in a NN model.\n",
    "\n",
    "        Args:\n",
    "            model (torch.nn.Module, optional): NN model to use. Defaults to None.\n",
    "\n",
    "        Returns:\n",
    "            float: Log-likelihood over the entire dataset.\n",
    "        \"\"\"\n",
    "        # sksurv calculates the llh /event and puts a minus sign in front, we undo that\n",
    "        total = -self.df.shape[0]*self.opt.nlog_likelihood(self.coefficients, model)\n",
    "        return total\n",
    "\n",
    "# Simply testing to make sure the code works\n",
    "c = torch.tensor([-0.38, -0.06, 0.31, -0.15, -0.43, -0.08, 0.09])\n",
    "net = CoxNNet(rossi, 'arrest', 'week', coefficients=c)\n",
    "net.forward()"
   ]
  },
  {
   "cell_type": "markdown",
   "metadata": {},
   "source": [
    "This is nearly identical to `lifelines` estimate. `(de Kamps, 2023)`\n",
    "\n",
    "We can do the same for the `CHF` data."
   ]
  },
  {
   "cell_type": "code",
   "execution_count": 47,
   "metadata": {},
   "outputs": [
    {
     "data": {
      "text/plain": [
       "tensor(-4949.9800, grad_fn=<MulBackward0>)"
      ]
     },
     "execution_count": 47,
     "metadata": {},
     "output_type": "execute_result"
    }
   ],
   "source": [
    "chf_c = torch.tensor([0.04, -0.20, 0.30, 0.57], requires_grad=True)\n",
    "chf_net_c = CoxNNet(chf, 'StatusDeath', 'TimeDeath', coefficients=chf_c)\n",
    "chf_net_c.forward()"
   ]
  },
  {
   "attachments": {},
   "cell_type": "markdown",
   "metadata": {},
   "source": [
    "### Gradient Descent\n",
    "\n",
    "We will use the `autograd` functionality provided by `PyTorch` to do the differentiation to maximise the partial log-likelihood."
   ]
  },
  {
   "cell_type": "code",
   "execution_count": 48,
   "metadata": {},
   "outputs": [
    {
     "name": "stdout",
     "output_type": "stream",
     "text": [
      "tensor(-3214.1331, grad_fn=<MulBackward0>)\n",
      "tensor(-659.1335, grad_fn=<MulBackward0>)\n",
      "tensor([-0.3797, -0.0569,  0.3044, -0.1431, -0.4941, -0.0826,  0.0914],\n",
      "       requires_grad=True)\n"
     ]
    }
   ],
   "source": [
    "# Adapted from de Kamps (2023)\n",
    "def gradient_descent(df, event, time, lr, n_epoch, coefficients=None):\n",
    "    \"\"\"Performs gradient descent on the Cox model.\n",
    "\n",
    "    Args:\n",
    "        df (pandas.DataFrame): Dataframe containing the covariates and the event and time columns.\n",
    "        event (string): Name of the event column.\n",
    "        time (string): Name of the time column.\n",
    "        lr (float): Learning rate.\n",
    "        n_epoch (int): Number of epochs (iterations to run).\n",
    "        coefficients (torch.tensor, optional): _description_. Defaults to None.\n",
    "\n",
    "    Returns:\n",
    "        torch.nn.Module: The trained CoxNNet model (with updated coefficients).\n",
    "    \"\"\"\n",
    "    net = CoxNNet(df, event, time, coefficients)\n",
    "    loss = net.forward()\n",
    "    print(loss)\n",
    "    \n",
    "    # Iterate n_epoch times\n",
    "    for _ in range(n_epoch):\n",
    "        # Updates the coefficients using autograd\n",
    "        loss = net.forward()\n",
    "        loss.backward()\n",
    "        with torch.no_grad():\n",
    "            # Use the specified learning rate\n",
    "            net.coefficients += net.coefficients.grad * lr\n",
    "            net.coefficients.grad.zero_()\n",
    "    loss = net.forward()\n",
    "    \n",
    "    # Print the final loss and the updated coefficients\n",
    "    print(loss)\n",
    "    print(net.coefficients)\n",
    "    return net\n",
    "\n",
    "rossi_net = gradient_descent(rossi, 'arrest', 'week', 0.0001, 4000)"
   ]
  },
  {
   "cell_type": "markdown",
   "metadata": {},
   "source": [
    "Since the values found by `CoxNNet` for the coefficients appear close to the lifelines results, it appears we have successfully used `PyTorch` to calculate a gradient for the loss function and perform *steepest gradient descent*. Let's test on the `CHF` dataset."
   ]
  },
  {
   "cell_type": "code",
   "execution_count": 49,
   "metadata": {},
   "outputs": [
    {
     "name": "stdout",
     "output_type": "stream",
     "text": [
      "tensor(-25610.7988, grad_fn=<MulBackward0>)\n",
      "tensor(-4949.5996, grad_fn=<MulBackward0>)\n",
      "tensor([ 0.0435, -0.1968,  0.3059,  0.5315], requires_grad=True)\n"
     ]
    }
   ],
   "source": [
    "# Note: this takes a while to run\n",
    "# We tried to use the same learning rate (i.e. 0.0001) but that did not work\n",
    "# Thus, we used a smaller learning rate (i.e. 0.000001)\n",
    "chf_net = gradient_descent(chf, 'StatusDeath', 'TimeDeath', 0.000001, 4000)"
   ]
  },
  {
   "cell_type": "markdown",
   "metadata": {},
   "source": [
    "Again, same results. We should probably also create a gradient descent method for training NN models.\n",
    "\n",
    "### Gradient Descent for Neural Network Models"
   ]
  },
  {
   "cell_type": "code",
   "execution_count": 185,
   "metadata": {},
   "outputs": [],
   "source": [
    "# Train the NN using gradient descent\n",
    "def train_model(df, event, time, model, lr, n_epoch, output=False):\n",
    "    \"\"\"Trains a NN model using gradient descent.\n",
    "\n",
    "    Args:\n",
    "        df (pandas.DataFrame): Dataframe containing the covariates and the event and time columns.\n",
    "        event (string): Name of the event column.\n",
    "        time (string): Name of the time column.\n",
    "        model (_type_): NN model.\n",
    "        lr (float): Learning rate.\n",
    "        n_epoch (int): Number of epochs (iterations to run).\n",
    "        output (bool, optional): Whether to print the loss before and after training. Defaults to True.\n",
    "        \n",
    "    Returns:\n",
    "        float: The final loss.\n",
    "    \"\"\"\n",
    "    net = CoxNNet(df, event, time)\n",
    "    losses = []\n",
    "    \n",
    "    # Print the initial loss\n",
    "    if output:\n",
    "        print(\"Loss before training:\", net.forward(model))\n",
    "    \n",
    "    # Train the model\n",
    "    for _ in range(n_epoch):\n",
    "        # Compute the loss using the CoxNNet class and the NN model\n",
    "        loss = net.forward(model)\n",
    "        loss.backward()        \n",
    "        losses.append(loss.item())\n",
    "        \n",
    "        # Update the weights using gradient descent\n",
    "        with torch.no_grad():\n",
    "            for param in model.parameters():\n",
    "                param += param.grad * lr\n",
    "            model.zero_grad()\n",
    "    \n",
    "    # Print the final loss\n",
    "    if output:\n",
    "        print(\"Loss after training:\", net.forward(model))\n",
    "        \n",
    "        # Produce a plot of the loss over the epochs\n",
    "        losses = [x.detach().numpy() for x in losses]\n",
    "        plt.figure(figsize=(6, 4))\n",
    "        plt.plot(range(1, n_epoch+1), losses, color='black')\n",
    "        plt.xlabel('Epochs')\n",
    "        plt.ylabel('Negative Partial Log-Likelihood Loss')\n",
    "        plt.show()\n",
    "    \n",
    "    # Return the final PLE loss of the final trained model\n",
    "    return losses[-1]"
   ]
  },
  {
   "cell_type": "markdown",
   "metadata": {},
   "source": [
    "We can test this later. For now, let's use a way to measure the performance of the model."
   ]
  },
  {
   "cell_type": "markdown",
   "metadata": {},
   "source": [
    "## Concordance Statistics\n",
    "\n",
    "The *concordance statistic* (also known as the c-statistic) is a measure of the goodness of fit of a survival model. It quantifies the model's ability to correctly order the predicted survival times of pairs of individuals. A higher c-statistic indicates a better model fit. Here's how to compute the c-statistic given a set of survival times and a set of predicted survival times:"
   ]
  },
  {
   "cell_type": "code",
   "execution_count": 51,
   "metadata": {},
   "outputs": [],
   "source": [
    "def concordance_statistic(risks, events, times):\n",
    "    \"\"\"Calculates the c-statistic for a given set of predicted risks and actual events and times.\n",
    "\n",
    "    Args:\n",
    "        risks (array): List of predicted risks.\n",
    "        events (array): List of event indicators.\n",
    "        times (array): List of survival times.\n",
    "\n",
    "    Returns:\n",
    "        float: c-statistic.\n",
    "    \"\"\"\n",
    "    valid_pairs = 0\n",
    "    concordant_pairs = 0\n",
    "    discordant_pairs = 0\n",
    "    tied_pairs = 0\n",
    "\n",
    "    n_samples = len(risks)\n",
    "    for i in range(n_samples):\n",
    "        for j in range(i + 1, n_samples):\n",
    "            if times[i] != times[j]:\n",
    "                if events[i] and (times[i] < times[j]):\n",
    "                    valid_pairs += 1\n",
    "                    if risks[i] > risks[j]:\n",
    "                        concordant_pairs += 1\n",
    "                    elif risks[i] < risks[j]:\n",
    "                        discordant_pairs += 1\n",
    "                    else:\n",
    "                        tied_pairs += 1\n",
    "\n",
    "                elif events[j] and (times[j] < times[i]):\n",
    "                    valid_pairs += 1\n",
    "                    if risks[j] > risks[i]:\n",
    "                        concordant_pairs += 1\n",
    "                    elif risks[j] < risks[i]:\n",
    "                        discordant_pairs += 1\n",
    "                    else:\n",
    "                        tied_pairs += 1\n",
    "\n",
    "    # Note we do not actually need to use discordant_pairs in the calculation\n",
    "    # Since we already increment valid_pairs when we encounter a discordant pair\n",
    "    return (concordant_pairs + 0.5 * tied_pairs) / valid_pairs"
   ]
  },
  {
   "attachments": {},
   "cell_type": "markdown",
   "metadata": {},
   "source": [
    "This code snippet defines a `concordance_statistic` function that calculates the c-statistic given the predicted risks, event indicators, and survival times. The function iterates through all valid pairs of individuals and counts the number of concordant, discordant, and tied pairs. The c-statistic is then calculated as the ratio of the sum of concordant pairs and half the tied pairs to the total number of valid pairs.\n",
    "\n",
    "After defining the function, the predicted risks for each individual in the dataset are calculated by multiplying the covariate matrix `net.dfx` with the optimized model coefficients. The c-statistic is then computed using the `concordance_statistic` function, and the result is printed.\n",
    "\n",
    "We can define another function `get_concordance` that takes in a `CoxNNet` model, a dataframe, an event and a time, and returns the c-statistic."
   ]
  },
  {
   "cell_type": "code",
   "execution_count": 52,
   "metadata": {},
   "outputs": [
    {
     "name": "stdout",
     "output_type": "stream",
     "text": [
      "Base Rossi c-statistic: 0.643355119825708\n"
     ]
    }
   ],
   "source": [
    "def get_concordance_statistic(df, event, time, net):\n",
    "    \"\"\"Calculates the c-statistic for a given dataset for the CoxNNet model.\n",
    "\n",
    "    Args:\n",
    "        df (pandas.DataFrame): Dataframe containing the covariates and the event and time columns.\n",
    "        event (string): Name of the event column.\n",
    "        time (string): Name of the time column.\n",
    "        net (torch.nn.Module): CoxNNet model.\n",
    "\n",
    "    Returns:\n",
    "        float: c-statistic.\n",
    "    \"\"\"\n",
    "    # Calculate the predicted risk for each individual in the dataset\n",
    "    risks = np.matmul(net.dfx, net.coefficients.detach().numpy())\n",
    "    \n",
    "    return concordance_statistic(risks, df[event].to_numpy(), df[time].to_numpy())\n",
    "\n",
    "print(\"Base Rossi c-statistic:\", get_concordance_statistic(rossi, 'arrest', 'week', rossi_net))"
   ]
  },
  {
   "attachments": {},
   "cell_type": "markdown",
   "metadata": {},
   "source": [
    "This is the same c-statistic as the one used by `lifelines` for the `Rossi` dataset.\n",
    "\n",
    "### Custom Concordance Statistic for Neural Network Models\n",
    "\n",
    "Now, let us adapt the `get_concordance_statistic` to allow for a NN model. We need to compute the risk for an invidual using the NN model, instead of computing the dot product using the coefficients."
   ]
  },
  {
   "cell_type": "code",
   "execution_count": 57,
   "metadata": {},
   "outputs": [],
   "source": [
    "# Calculate the predicted risk for each individual in the dataset\n",
    "def get_concordance_statistic_nn(df, event, time, model):\n",
    "    \"\"\"Calculates the c-statistic for a given dataset using a NN model to compute predicted risks.\n",
    "\n",
    "    Args:\n",
    "        df (pandas.DataFrame): Dataframe containing the covariates and the event and time columns.\n",
    "        event (string): Name of the event column.\n",
    "        time (string): Name of the time column.\n",
    "        model (torch.nn.Module): NN model.\n",
    "\n",
    "    Returns:\n",
    "        float: c-statistic.\n",
    "    \"\"\"\n",
    "    # Calculate the predicted risk for each individual in the dataset using the NN\n",
    "    x = torch.tensor(df[[col for col in df.columns if col not in [event, time]]].values, dtype=torch.float)    \n",
    "    with torch.no_grad():\n",
    "        predicted_risk = np.array([model.forward(xi).item() for xi in x])\n",
    "    \n",
    "    # Compute the c-statistic\n",
    "    return concordance_statistic(predicted_risk, df[event].to_numpy(), df[time].to_numpy())"
   ]
  },
  {
   "cell_type": "markdown",
   "metadata": {},
   "source": [
    "Let us test this on a simple NN which is essentially the same as the CPH model."
   ]
  },
  {
   "cell_type": "code",
   "execution_count": 58,
   "metadata": {},
   "outputs": [
    {
     "name": "stdout",
     "output_type": "stream",
     "text": [
      "FWL Rossi c-statistic: 0.643355119825708\n"
     ]
    }
   ],
   "source": [
    "# This NN essentially computes the same as the CoxPH model\n",
    "# i.e. xw = self.x@w = x1w1 + x2w2 + x3w3 + x4w4 + ... + xnw_n\n",
    "# This is computed in the forward pass\n",
    "# We call it linear because it is a linear model, i.e. it is a linear combination of the covariates\n",
    "# and does not have any hidden layers, thus not capturing any non-linear relationships.\n",
    "class FixedWeightLinear(torch.nn.Module):\n",
    "    \"\"\"Simple NN with no hidden layers that simply computes the dot product of the input and the weights.\n",
    "    This is essentially the same as the CoxPH model.\n",
    "    We do not train this model, we simply use it to compute the predicted risk for each individual in the dataset.\n",
    "    \"\"\"\n",
    "    \n",
    "    def __init__(self, weights):\n",
    "        \"\"\"Initializes the FWL model.\n",
    "\n",
    "        Args:\n",
    "            weights (torch.tensor): Weights to use for the dot product.\n",
    "        \"\"\"\n",
    "        super(FixedWeightLinear, self).__init__()\n",
    "        # Initialize the weights as a torch.nn.Parameter\n",
    "        self.weights = torch.nn.Parameter(weights.clone().detach().requires_grad_(True))\n",
    "\n",
    "    def forward(self, x):\n",
    "        \"\"\"Simply multiply the weights by the input.\n",
    "\n",
    "        Args:\n",
    "            x (array): List of covariates for a single individual.\n",
    "\n",
    "        Returns:\n",
    "            float: Predicted risk.\n",
    "        \"\"\"\n",
    "        return torch.matmul(x, self.weights)\n",
    "    \n",
    "# Initialize the FWL model with the learned coefficients\n",
    "rossi_fwl = FixedWeightLinear(rossi_net.coefficients)\n",
    "\n",
    "# Compute the c-statistic using the FWL model\n",
    "print(\"FWL Rossi c-statistic:\", get_concordance_statistic_nn(rossi, 'arrest', 'week', rossi_fwl))"
   ]
  },
  {
   "cell_type": "markdown",
   "metadata": {},
   "source": [
    "We acheieve the same c-statistic. As we have seen we have been able to reproduce coefficients and the c-statistic scores, we have everything needed to begin building NNs.\n",
    "\n",
    "## Neural Network Exploration\n",
    "\n",
    "First, we will begin by adapting the `FixedWeightLinear` NN so that we may use random weights. We will need to be able to train the model with random weights, and then use the optimizer to find the best weights."
   ]
  },
  {
   "cell_type": "code",
   "execution_count": 59,
   "metadata": {},
   "outputs": [
    {
     "name": "stdout",
     "output_type": "stream",
     "text": [
      "Initial VWL Parameter containing:\n",
      "tensor([ 0.8094,  1.1103, -1.6898, -0.9890,  0.9580,  1.3221,  0.8172],\n",
      "       requires_grad=True)\n",
      "Initial VWL Rossi C-Statistic: 0.44778503994190266\n"
     ]
    }
   ],
   "source": [
    "# This class lets us use random weights for each feature\n",
    "class VariableWeightLinear(FixedWeightLinear):\n",
    "    \"\"\"Simple NN with no hidden layers that simply computes the dot product of the input and the weights.\n",
    "    However, the weights are randomly initialized and then trained using gradient descent.\"\"\"\n",
    "    \n",
    "    def __init__(self, n):\n",
    "        \"\"\"Initializes the VWL model.\n",
    "\n",
    "        Args:\n",
    "            n (int): Number of features in the dataset.\n",
    "        \"\"\"\n",
    "        # Randomise weights\n",
    "        weights = torch.nn.Parameter(torch.randn(n, requires_grad=True, dtype=torch.float))\n",
    "        super(VariableWeightLinear, self).__init__(weights)\n",
    "        # Print these initial weights\n",
    "        print(\"Initial VWL\", self.weights)\n",
    "\n",
    "    def forward(self, x):\n",
    "        \"\"\"Simply multiply the weights by the input.\n",
    "\n",
    "        Args:\n",
    "            x (array): List of covariates for a single individual.\n",
    "\n",
    "        Returns:\n",
    "            float: Predicted risk.\n",
    "        \"\"\"\n",
    "        # Again, simply multiply the weights by the input\n",
    "        return torch.matmul(x, self.weights)\n",
    "    \n",
    "# Initialize the VariableWeightLinear model\n",
    "n_covariates = len([x for x in rossi.columns if x != 'arrest' and x != 'week'])\n",
    "rossi_vwl = VariableWeightLinear(n_covariates)\n",
    "\n",
    "# Compute the c-statistic using the trained VWL model\n",
    "print(\"Initial VWL Rossi C-Statistic:\", get_concordance_statistic_nn(rossi, 'arrest', 'week', rossi_vwl))"
   ]
  },
  {
   "cell_type": "markdown",
   "metadata": {},
   "source": [
    "Let us now train this model. The goal is to produce the same weights as the CPH model."
   ]
  },
  {
   "cell_type": "code",
   "execution_count": 187,
   "metadata": {},
   "outputs": [
    {
     "name": "stdout",
     "output_type": "stream",
     "text": [
      "Trained VWL Rossi Weights: Parameter containing:\n",
      "tensor([-0.3771, -0.0575,  0.3056, -0.1605, -0.3772, -0.0865,  0.0907],\n",
      "       requires_grad=True)       \n",
      "Trained VWL Rossi Loss: -659.1322631835938       \n",
      "Trained VWL Rossi c-statistic 0.6440087145969499\n"
     ]
    }
   ],
   "source": [
    "# Train the model using the train_model function we created before\n",
    "rossi_vwl_loss = train_model(rossi, 'arrest', 'week', rossi_vwl, 0.0001, 4000, False)\n",
    "\n",
    "# Compute the c-statistic using the trained VWL model\n",
    "rossi_vwl_c = get_concordance_statistic_nn(rossi, 'arrest', 'week', rossi_vwl)\n",
    "\n",
    "# Print the trained weights and loss in format string\n",
    "print(\"Trained VWL Rossi Weights: {0} \\\n",
    "      \\nTrained VWL Rossi Loss: {1} \\\n",
    "      \\nTrained VWL Rossi c-statistic {2}\"\n",
    "      .format(rossi_vwl.weights, rossi_vwl_loss, rossi_vwl_c))"
   ]
  },
  {
   "cell_type": "markdown",
   "metadata": {},
   "source": [
    "We can see that the weights are very close to the CPH model. Now we can begin experimenting with different NN architectures.\n",
    "\n",
    "### Single Hidden Layer\n",
    "\n",
    "This simple NN class allows us to experiment with the number of neurons in a single hidden layer."
   ]
  },
  {
   "cell_type": "code",
   "execution_count": 61,
   "metadata": {},
   "outputs": [],
   "source": [
    "class SNN(torch.nn.Module):\n",
    "    \"\"\"Simple NN with one hidden layer.\"\"\"\n",
    "    \n",
    "    def __init__(self, input_size, hidden_size):\n",
    "        \"\"\"Initializes the SNN model.\n",
    "\n",
    "        Args:\n",
    "            input_size (int): Number of covariates.\n",
    "            hidden_size (int): Number of neurons in the hidden layer.\n",
    "        \"\"\"\n",
    "        super(SNN, self).__init__()\n",
    "        # Store the input and hidden sizes\n",
    "        self.input_size = input_size\n",
    "        self.hidden_size = hidden_size\n",
    "        self.fc1 = torch.nn.Linear(input_size, hidden_size)\n",
    "        self.relu = torch.nn.ReLU()\n",
    "        self.fc2 = torch.nn.Linear(hidden_size, 1)\n",
    "\n",
    "    def forward(self, x):\n",
    "        \"\"\"Predicts the risk for a single individual.\n",
    "\n",
    "        Args:\n",
    "            x (array): List of covariates for a single individual.\n",
    "\n",
    "        Returns:\n",
    "            float: Predicted risk.\n",
    "        \"\"\"\n",
    "        x = self.fc1(x)\n",
    "        x = self.relu(x)\n",
    "        x = self.fc2(x)\n",
    "        return x\n",
    "    \n",
    "    def return_weights(self):\n",
    "        \"\"\"Returns the weights of the model all in one numpy array.\n",
    "\n",
    "        Returns:\n",
    "            array: Weights of the model.\n",
    "        \"\"\"\n",
    "        return torch.cat([self.fc1.weight.view(-1), self.fc1.bias, self.fc2.weight.view(-1), self.fc2.bias]).detach().numpy()"
   ]
  },
  {
   "attachments": {},
   "cell_type": "markdown",
   "metadata": {},
   "source": [
    "Now let's create a class which we can use in the future to help test this model, and other models in the future."
   ]
  },
  {
   "cell_type": "code",
   "execution_count": 181,
   "metadata": {},
   "outputs": [
    {
     "name": "stdout",
     "output_type": "stream",
     "text": [
      "Loss before training: tensor([-687.5464], grad_fn=<MulBackward0>)\n",
      "Loss after training: tensor([-657.0814], grad_fn=<MulBackward0>)\n"
     ]
    },
    {
     "data": {
      "image/png": "[encoded data removed]",
      "text/plain": [
       "<Figure size 600x400 with 1 Axes>"
      ]
     },
     "metadata": {},
     "output_type": "display_data"
    },
    {
     "name": "stdout",
     "output_type": "stream",
     "text": [
      "SNN[7, 49, 1] \n",
      "- Loss: [-657.08215]\n",
      "- Score: 0.6465020576131687\n"
     ]
    },
    {
     "data": {
      "text/plain": [
       "(array([-657.08215], dtype=float32), 0.6465020576131687)"
      ]
     },
     "execution_count": 181,
     "metadata": {},
     "output_type": "execute_result"
    }
   ],
   "source": [
    "# This allows us to test different architectures of the `NN` model\n",
    "def test_nn(df, event, time, model, lr, n_epoch, output=False):\n",
    "    \"\"\"Trains the model and prints the c-statistic.\n",
    "\n",
    "    Args:\n",
    "        df (pandas.DataFrame): Dataset to use.\n",
    "        event (string): Name of the event column.\n",
    "        time (string): Name of the time column.\n",
    "        model (torch.nn.Module): NN model.\n",
    "        lr (float): Learning rate.\n",
    "        n_epoch (int): Number of epochs.\n",
    "        output (bool, optional): Whether to print the output. Defaults to False.\n",
    "    \"\"\"\n",
    "    loss = train_model(df, event, time, model, lr, n_epoch, output)\n",
    "    score = get_concordance_statistic_nn(df, event, time, model)\n",
    "    if output:\n",
    "        # Print format string with loss and score\n",
    "        if type(model).__name__ == \"SNN\":\n",
    "            param = f\"[{model.input_size}, {model.hidden_size}, 1]\"\n",
    "        elif type(model).__name__ == \"GNN\": # This will be useful later\n",
    "            param = model.layer_sizes\n",
    "        print(f\"{type(model).__name__}{param} \\n- Loss: {loss}\\n- Score: {score}\")\n",
    "    return loss, score\n",
    "\n",
    "# Test the simple model on the Rossi data set\n",
    "input_size = rossi.shape[1] - 2  # Number of input features (excluding censor and time variables)\n",
    "hidden_size = input_size * input_size  # Number of hidden units\n",
    "rossi_snn = SNN(input_size, hidden_size)\n",
    "test_nn(rossi, 'arrest', 'week', rossi_snn, 0.0001, 1000, True)"
   ]
  },
  {
   "attachments": {},
   "cell_type": "markdown",
   "metadata": {},
   "source": [
    "This worked well. No surprise as the neurons shold easily be able to capture the non-linear relationships. Let's investigate the *architecture* further."
   ]
  },
  {
   "cell_type": "code",
   "execution_count": 63,
   "metadata": {},
   "outputs": [
    {
     "name": "stdout",
     "output_type": "stream",
     "text": [
      "Best SNN Rossi:     \n",
      "- Architecture: SNN[7, 49, 1]     \n",
      "- Loss: tensor([-657.1533], grad_fn=<MulBackward0>)     \n",
      "- Score: tensor([-657.1533], grad_fn=<MulBackward0>)\n"
     ]
    }
   ],
   "source": [
    "# Create a loop to test different architectures (begin with 1 neuron in single hidden layer, increase in steps of 7 until 70)\n",
    "rossi_snn_losses = []\n",
    "rossi_snn_scores = []\n",
    "\n",
    "# This allows us to test different architectures of the NN model\n",
    "rossi_snn_hidden_sizes = [7 + i * 7 for i in range(11)]\n",
    "\n",
    "# This stores the best model and its score\n",
    "# Note we use 0.5 as the initial score because random predictions have a c-statistic of 0.5\n",
    "# so we want to make sure we get a better score than that\n",
    "rossi_snn_best = [None, 0, 0.5]\n",
    "\n",
    "# Loop through the different architectures\n",
    "for i in rossi_snn_hidden_sizes:\n",
    "    model = SNN(input_size, i)\n",
    "    loss, score = test_nn(rossi, 'arrest', 'week', model, 0.0001, 1000, False)\n",
    "    if score > rossi_snn_best[2]:\n",
    "        rossi_snn_best = [model, loss.detach().numpy(), score]\n",
    "    rossi_snn_losses.append(loss.detach().numpy())\n",
    "    rossi_snn_scores.append(score)\n",
    "\n",
    "# Print the scores of the best architecture\n",
    "print(\"Best SNN Rossi: \\\n",
    "    \\n- Architecture: SNN[{0}, {1}, 1] \\\n",
    "    \\n- Loss: {2} \\\n",
    "    \\n- Score: {2}\"\n",
    "    .format(input_size, rossi_snn_best[0].hidden_size, rossi_snn_best[1], rossi_snn_best[2]))"
   ]
  },
  {
   "cell_type": "code",
   "execution_count": 68,
   "metadata": {},
   "outputs": [
    {
     "data": {
      "image/png": "[encoded data removed]",
      "text/plain": [
       "<Figure size 1200x800 with 1 Axes>"
      ]
     },
     "metadata": {},
     "output_type": "display_data"
    }
   ],
   "source": [
    "# Plot the losses\n",
    "plt.scatter(rossi_snn_hidden_sizes, rossi_snn_losses, label='Loss', color='black')\n",
    "plt.xlabel('Hidden Layer Size')\n",
    "plt.ylabel('Loss')\n",
    "plt.show()"
   ]
  },
  {
   "cell_type": "code",
   "execution_count": 69,
   "metadata": {},
   "outputs": [
    {
     "data": {
      "image/png": "[encoded data removed]",
      "text/plain": [
       "<Figure size 1200x800 with 1 Axes>"
      ]
     },
     "metadata": {},
     "output_type": "display_data"
    }
   ],
   "source": [
    "# Plot the c-statistic scores\n",
    "plt.scatter(rossi_snn_hidden_sizes, rossi_snn_scores, label='C-Statistic', color='black')\n",
    "plt.xlabel('Hidden Layer Size')\n",
    "plt.ylabel('C-Statistic')\n",
    "plt.show()"
   ]
  },
  {
   "attachments": {},
   "cell_type": "markdown",
   "metadata": {},
   "source": [
    "Ok. The graphs indicate that the larger the hidden layer size, the better the model. Let's visualize the weights of the model to see if we have potential overfitting."
   ]
  },
  {
   "cell_type": "code",
   "execution_count": 67,
   "metadata": {},
   "outputs": [
    {
     "data": {
      "image/png": "[encoded data removed]",
      "text/plain": [
       "<Figure size 1200x800 with 1 Axes>"
      ]
     },
     "metadata": {},
     "output_type": "display_data"
    }
   ],
   "source": [
    "# Use a histogram with n_bins = size of data square root\n",
    "rossi_snn_weights = rossi_snn_best[0].return_weights()\n",
    "plt.hist(rossi_snn_weights, bins=int(np.sqrt(len(rossi_snn_weights))), color='black')\n",
    "plt.xlabel('Weights')\n",
    "plt.ylabel('Frequency')\n",
    "plt.show()"
   ]
  },
  {
   "cell_type": "markdown",
   "metadata": {},
   "source": [
    "Interestingly, the weights are quite small. This is a good sign. Instead of using a single hidden layer, let's try using multiple.\n",
    "\n",
    "### Multiple Hidden Layers\n",
    "\n",
    "Let us create a more general NN class that allows us to experiment with the number of hidden layers and neurons in each layer.\n",
    "\n",
    "The goal is to see how the number of parameters affects the performance of the NN."
   ]
  },
  {
   "cell_type": "code",
   "execution_count": 70,
   "metadata": {},
   "outputs": [],
   "source": [
    "class GNN(torch.nn.Module):\n",
    "    \"\"\"General NN with any number of hidden layers with any number of neurons.\"\"\"\n",
    "    \n",
    "    def __init__(self, layer_sizes):\n",
    "        \"\"\"Initializes the GNN model.\n",
    "\n",
    "        Args:\n",
    "            layer_sizes (array): List of the number of neurons in each layer.\n",
    "        \"\"\"\n",
    "        super(GNN, self).__init__()\n",
    "        # We want to store the sizes in a list for the future\n",
    "        self.layer_sizes = layer_sizes\n",
    "        # Create a list of layers\n",
    "        self.layers = torch.nn.ModuleList()\n",
    "        # Create the layers based on the input sizes\n",
    "        for i in range(len(layer_sizes) - 1):\n",
    "            # Add a linear layer\n",
    "            self.layers.append(torch.nn.Linear(layer_sizes[i], layer_sizes[i+1]))\n",
    "            # Add a ReLU activation function after every linear layer except the last one\n",
    "            if i < len(layer_sizes) - 2:  # Don't add ReLU activation after the last linear layer\n",
    "                self.layers.append(torch.nn.ReLU())\n",
    "\n",
    "    def forward(self, x):\n",
    "        \"\"\"Predicts the risk for a single individual.\n",
    "\n",
    "        Args:\n",
    "            x (array): List of covariates for a single individual.\n",
    "\n",
    "        Returns:\n",
    "            float: Predicted risk.\n",
    "        \"\"\"\n",
    "        for layer in self.layers:\n",
    "            x = layer(x)\n",
    "        return x\n",
    "\n",
    "    def return_weights(self):\n",
    "        \"\"\"Returns the weights of the model all in one numpy array.\n",
    "\n",
    "        Returns:\n",
    "            array: Weights of the model.\n",
    "        \"\"\"\n",
    "        weights = []\n",
    "        for layer in self.layers:\n",
    "            if type(layer).__name__ == \"Linear\":\n",
    "                weights.append(layer.weight.view(-1))\n",
    "                weights.append(layer.bias)\n",
    "        return torch.cat(weights).detach().numpy()"
   ]
  },
  {
   "cell_type": "markdown",
   "metadata": {},
   "source": [
    "This class takes a list of integers as input, where each integer represents the number of neurons in that layer. The first integer is the input size, the last integer should be `1` (as the final output neuron should be `1`), and the integers in between represent the number of neurons in each hidden layer. We can adapt this class to allow us to further experiment with the properties of the NN.\n",
    "\n",
    "For example, you can create a NN with `2` hidden layers, the first having `5` neurons and the second having `3` neurons:\n",
    "\n",
    "```python\n",
    "GNN([7, 5, 3, 1])  # 7 input neurons, 2 hidden layers with 5 and 3 neurons, 1 output neuron\n",
    "```\n",
    "\n",
    "We will stick to using `hidden_size` as the number of neurons in the hidden layers as it as a simple architecture that is easy to understand. Tt should capture the relationships of the covariates and not be too complex to overfit the data."
   ]
  },
  {
   "cell_type": "code",
   "execution_count": 72,
   "metadata": {},
   "outputs": [
    {
     "name": "stdout",
     "output_type": "stream",
     "text": [
      "Loss before training: tensor([-672.5735], grad_fn=<MulBackward0>)\n",
      "Loss after training: tensor([-656.9222], grad_fn=<MulBackward0>)\n"
     ]
    },
    {
     "data": {
      "image/png": "[encoded data removed]",
      "text/plain": [
       "<Figure size 600x400 with 1 Axes>"
      ]
     },
     "metadata": {},
     "output_type": "display_data"
    },
    {
     "name": "stdout",
     "output_type": "stream",
     "text": [
      "GNN[7, 49, 49, 1] \n",
      "- loss: [-656.9045]\n",
      "- c-statistic: 0.6525780682643427\n"
     ]
    },
    {
     "data": {
      "text/plain": [
       "(array([-656.9045], dtype=float32), 0.6525780682643427)"
      ]
     },
     "execution_count": 72,
     "metadata": {},
     "output_type": "execute_result"
    }
   ],
   "source": [
    "# Using the [7, 49, 49, 1] architecture\n",
    "rossi_gnn = GNN([input_size, hidden_size, hidden_size, 1])\n",
    "test_nn(rossi, 'arrest', 'week', rossi_gnn, 0.0001, 1000, True)"
   ]
  },
  {
   "attachments": {},
   "cell_type": "markdown",
   "metadata": {},
   "source": [
    "Interestingly, we see that increasing the number of hidden layers and neurons does not neccessarily produce a better model. This may be due to overfitting, or maybe the neural network can no longer capture any more of the data. Let us again visualise the weights of the model."
   ]
  },
  {
   "cell_type": "code",
   "execution_count": 73,
   "metadata": {},
   "outputs": [
    {
     "data": {
      "image/png": "[encoded data removed]",
      "text/plain": [
       "<Figure size 1200x800 with 1 Axes>"
      ]
     },
     "metadata": {},
     "output_type": "display_data"
    }
   ],
   "source": [
    "# Visualise weights of the GNN model using a histogram\n",
    "# We expect there to be exponentially more weights in the GNN model than the SNN model\n",
    "rossi_gnn_weights = rossi_gnn.return_weights()\n",
    "plt.hist(rossi_gnn_weights, bins=int(np.sqrt(len(rossi_gnn_weights))), color='black')\n",
    "plt.xlabel('Weights')\n",
    "plt.ylabel('Frequency')\n",
    "plt.show()"
   ]
  },
  {
   "attachments": {},
   "cell_type": "markdown",
   "metadata": {},
   "source": [
    "Again, this is good. The weights do not seem to cause overfitting. \n",
    "\n",
    "We considered exploring other methods, including *regularisation*, the number of *epochs*, the *learning rate*, the *activation function*, the *optimizer*, *feature processing*, *ensemble methods* and *early stopping*. However, we will leave this for another time. It is unlikely this will improve performance, but let us create a function to allow one to experiment with these methods.\n",
    "\n",
    "### Hyperparameter Tuning\n",
    "\n",
    "Thus, we will begin by adding the functionality of *hyperparameter tuning*. Trying to find the best parameters for a NN is a bit of a black art. We will use *Bayesian Optimization* to find the best parameters.\n",
    "\n",
    "*Bayesian Optimization* is a more advanced method that models the objective function (e.g. model performance) as a Gaussian process. It maintains a probability distribution over possible objective functions and iteratively refines this distribution by choosing the next hyperparameter combination to evaluate based on acquisition functions (e.g., *Expected Improvement*, *Upper Confidence Bound*, etc.). It balances exploration (searching in uncertain areas) and exploitation (focusing on known good areas). It is more efficient than *grid search*, especially for high-dimensional spaces and can find better combinations than grid search in fewer iterations. However, it is more complex to implement and understand and requires a library or framework for implementation. Considering the complexity of the problem we are trying to solve, *Bayesian Optimization* is a good choice.\n",
    "\n",
    "To implement *Bayesian Optimization*, we will use the `scikit-optimize` library. We will define the hyperparameter search space and a wrapper function that takes in the hyperparameters and returns the performance metric. In the example below, we will stick to testing what we have been doing so far - the number of hidden layers and the number of neurons in each layer. Even though we have seen that increasing the number of hidden layers and neurons does not neccessarily produce a better model, we will still test this to validate the method. If it works, we can begin testing other hyperparameters."
   ]
  },
  {
   "cell_type": "code",
   "execution_count": null,
   "metadata": {},
   "outputs": [
    {
     "name": "stdout",
     "output_type": "stream",
     "text": [
      "Requirement already satisfied: scikit-optimize in c:\\users\\omarc\\onedrive - university of leeds\\year 3\\3931 individual project\\code\\.venv\\lib\\site-packages (0.9.0)\n",
      "Requirement already satisfied: joblib>=0.11 in c:\\users\\omarc\\onedrive - university of leeds\\year 3\\3931 individual project\\code\\.venv\\lib\\site-packages (from scikit-optimize) (1.2.0)\n",
      "Requirement already satisfied: pyaml>=16.9 in c:\\users\\omarc\\onedrive - university of leeds\\year 3\\3931 individual project\\code\\.venv\\lib\\site-packages (from scikit-optimize) (21.10.1)\n",
      "Requirement already satisfied: numpy>=1.13.3 in c:\\users\\omarc\\onedrive - university of leeds\\year 3\\3931 individual project\\code\\.venv\\lib\\site-packages (from scikit-optimize) (1.23.5)\n",
      "Requirement already satisfied: scipy>=0.19.1 in c:\\users\\omarc\\onedrive - university of leeds\\year 3\\3931 individual project\\code\\.venv\\lib\\site-packages (from scikit-optimize) (1.10.1)\n",
      "Requirement already satisfied: scikit-learn>=0.20.0 in c:\\users\\omarc\\onedrive - university of leeds\\year 3\\3931 individual project\\code\\.venv\\lib\\site-packages (from scikit-optimize) (1.2.2)\n",
      "Requirement already satisfied: PyYAML in c:\\users\\omarc\\onedrive - university of leeds\\year 3\\3931 individual project\\code\\.venv\\lib\\site-packages (from pyaml>=16.9->scikit-optimize) (6.0)\n",
      "Requirement already satisfied: threadpoolctl>=2.0.0 in c:\\users\\omarc\\onedrive - university of leeds\\year 3\\3931 individual project\\code\\.venv\\lib\\site-packages (from scikit-learn>=0.20.0->scikit-optimize) (3.1.0)\n",
      "Note: you may need to restart the kernel to use updated packages.\n"
     ]
    }
   ],
   "source": [
    "%pip install scikit-optimize \n",
    "\n",
    "from skopt.utils import use_named_args\n",
    "from skopt.space import Integer, Categorical\n",
    "\n",
    "# Define the search space\n",
    "rossi_space = [\n",
    "    Categorical([1, input_size], name='num_layers')  # Number of hidden layers\n",
    "]\n",
    "\n",
    "# We want the maximum number of hidden layers t be equal to the number of input features\n",
    "for i in range(input_size):\n",
    "    # We want the maximum number of neurons in each hidden layer to be equal to the number of input features squared\n",
    "    rossi_space.append(Integer(input_size, hidden_size, name='neurons_{}'.format(i)))\n",
    "\n",
    "# This decorator allows us to use the `space` list as the input to the `objective` function\n",
    "@use_named_args(rossi_space) \n",
    "def rossi_objective(**params):\n",
    "    \"\"\"Objective function to be maximized for the Rossi dataset.\n",
    "\n",
    "    Returns:\n",
    "        float: Negative c-statistic.\n",
    "    \"\"\"\n",
    "    # Create the architecture\n",
    "    num_layers = params[\"num_layers\"]\n",
    "    architecture = [input_size]\n",
    "    for i in range(num_layers):\n",
    "        architecture.append(params[\"neurons_{}\".format(i)])\n",
    "    architecture.append(1)\n",
    "    \n",
    "    # Creates the NN model using the architecture\n",
    "    model = GNN(architecture)\n",
    "    \n",
    "    # We still need to maximise the PLE for each model\n",
    "    train_model(rossi, 'arrest', 'week', model, 0.0001, 1000, False)\n",
    "    \n",
    "    # We are maximising the c-statistic, but minimising using the `skopt` library\n",
    "    # so we return the negative of the c-statistic.\n",
    "    return -get_concordance_statistic_nn(rossi, 'arrest', 'week', model)"
   ]
  },
  {
   "attachments": {},
   "cell_type": "markdown",
   "metadata": {},
   "source": [
    "This will allow us to get the optimal number of neurons in each layer and how many layers. We can also use this for future experiments, when we want to tune other hyperparameters. Now, let's see how the number of parameters affects the performance of the NN.\n",
    "\n",
    "**Note:** This code has been commented as it takes a long time to run (almost 48 minutes on my machine).\n",
    "\n",
    "```python\n",
    "from skopt import gp_minimize\n",
    "\n",
    "# Number of iterations\n",
    "n_calls = 10\n",
    "# Run the Bayesian optimization\n",
    "rossi_bayesian_opt_res = gp_minimize(rossi_objective, rossi_space, n_calls=n_calls, random_state=42)\n",
    "\n",
    "# Print the best architecture\n",
    "rossi_best_architecture = [input_size]\n",
    "for i in range(bayesian_opt_res.x[0]):\n",
    "    rossi_best_architecture.append(rossi_bayesian_opt_res.x[i+1])\n",
    "rossi_best_architecture.append(1)\n",
    "print(\"Rossi Best Architecture:\", rossi_best_architecture)\n",
    "```\n",
    "\n",
    "The output was as follows:\n",
    "\n",
    "```python\n",
    "\"Rossi Best Architecture: [7, 8, 42, 26, 24, 46, 1]\"\n",
    "```"
   ]
  },
  {
   "cell_type": "code",
   "execution_count": null,
   "metadata": {},
   "outputs": [
    {
     "ename": "ValueError",
     "evalue": "Expected `n_calls` >= 10, got 2",
     "output_type": "error",
     "traceback": [
      "\u001b[1;31m---------------------------------------------------------------------------\u001b[0m",
      "\u001b[1;31mValueError\u001b[0m                                Traceback (most recent call last)",
      "Cell \u001b[1;32mIn[164], line 6\u001b[0m\n\u001b[0;32m      4\u001b[0m n_calls \u001b[39m=\u001b[39m \u001b[39m2\u001b[39m\n\u001b[0;32m      5\u001b[0m \u001b[39m# Run the Bayesian optimization\u001b[39;00m\n\u001b[1;32m----> 6\u001b[0m rossi_bayesian_opt_res \u001b[39m=\u001b[39m gp_minimize(rossi_objective, rossi_space, n_calls\u001b[39m=\u001b[39;49mn_calls, random_state\u001b[39m=\u001b[39;49m\u001b[39m42\u001b[39;49m)\n\u001b[0;32m      8\u001b[0m \u001b[39m# Print the best architecture\u001b[39;00m\n\u001b[0;32m      9\u001b[0m rossi_best_architecture \u001b[39m=\u001b[39m [input_size]\n",
      "File \u001b[1;32mc:\\Users\\omarc\\OneDrive - University of Leeds\\Year 3\\3931 Individual Project\\Code\\.venv\\lib\\site-packages\\skopt\\optimizer\\gp.py:259\u001b[0m, in \u001b[0;36mgp_minimize\u001b[1;34m(func, dimensions, base_estimator, n_calls, n_random_starts, n_initial_points, initial_point_generator, acq_func, acq_optimizer, x0, y0, random_state, verbose, callback, n_points, n_restarts_optimizer, xi, kappa, noise, n_jobs, model_queue_size)\u001b[0m\n\u001b[0;32m    254\u001b[0m \u001b[39mif\u001b[39;00m base_estimator \u001b[39mis\u001b[39;00m \u001b[39mNone\u001b[39;00m:\n\u001b[0;32m    255\u001b[0m     base_estimator \u001b[39m=\u001b[39m cook_estimator(\n\u001b[0;32m    256\u001b[0m         \u001b[39m\"\u001b[39m\u001b[39mGP\u001b[39m\u001b[39m\"\u001b[39m, space\u001b[39m=\u001b[39mspace, random_state\u001b[39m=\u001b[39mrng\u001b[39m.\u001b[39mrandint(\u001b[39m0\u001b[39m, np\u001b[39m.\u001b[39miinfo(np\u001b[39m.\u001b[39mint32)\u001b[39m.\u001b[39mmax),\n\u001b[0;32m    257\u001b[0m         noise\u001b[39m=\u001b[39mnoise)\n\u001b[1;32m--> 259\u001b[0m \u001b[39mreturn\u001b[39;00m base_minimize(\n\u001b[0;32m    260\u001b[0m     func, space, base_estimator\u001b[39m=\u001b[39;49mbase_estimator,\n\u001b[0;32m    261\u001b[0m     acq_func\u001b[39m=\u001b[39;49macq_func,\n\u001b[0;32m    262\u001b[0m     xi\u001b[39m=\u001b[39;49mxi, kappa\u001b[39m=\u001b[39;49mkappa, acq_optimizer\u001b[39m=\u001b[39;49macq_optimizer, n_calls\u001b[39m=\u001b[39;49mn_calls,\n\u001b[0;32m    263\u001b[0m     n_points\u001b[39m=\u001b[39;49mn_points, n_random_starts\u001b[39m=\u001b[39;49mn_random_starts,\n\u001b[0;32m    264\u001b[0m     n_initial_points\u001b[39m=\u001b[39;49mn_initial_points,\n\u001b[0;32m    265\u001b[0m     initial_point_generator\u001b[39m=\u001b[39;49minitial_point_generator,\n\u001b[0;32m    266\u001b[0m     n_restarts_optimizer\u001b[39m=\u001b[39;49mn_restarts_optimizer,\n\u001b[0;32m    267\u001b[0m     x0\u001b[39m=\u001b[39;49mx0, y0\u001b[39m=\u001b[39;49my0, random_state\u001b[39m=\u001b[39;49mrng, verbose\u001b[39m=\u001b[39;49mverbose,\n\u001b[0;32m    268\u001b[0m     callback\u001b[39m=\u001b[39;49mcallback, n_jobs\u001b[39m=\u001b[39;49mn_jobs, model_queue_size\u001b[39m=\u001b[39;49mmodel_queue_size)\n",
      "File \u001b[1;32mc:\\Users\\omarc\\OneDrive - University of Leeds\\Year 3\\3931 Individual Project\\Code\\.venv\\lib\\site-packages\\skopt\\optimizer\\base.py:246\u001b[0m, in \u001b[0;36mbase_minimize\u001b[1;34m(func, dimensions, base_estimator, n_calls, n_random_starts, n_initial_points, initial_point_generator, acq_func, acq_optimizer, x0, y0, random_state, verbose, callback, n_points, n_restarts_optimizer, xi, kappa, n_jobs, model_queue_size)\u001b[0m\n\u001b[0;32m    244\u001b[0m required_calls \u001b[39m=\u001b[39m n_initial_points \u001b[39m+\u001b[39m (\u001b[39mlen\u001b[39m(x0) \u001b[39mif\u001b[39;00m \u001b[39mnot\u001b[39;00m y0 \u001b[39melse\u001b[39;00m \u001b[39m0\u001b[39m)\n\u001b[0;32m    245\u001b[0m \u001b[39mif\u001b[39;00m n_calls \u001b[39m<\u001b[39m required_calls:\n\u001b[1;32m--> 246\u001b[0m     \u001b[39mraise\u001b[39;00m \u001b[39mValueError\u001b[39;00m(\n\u001b[0;32m    247\u001b[0m         \u001b[39m\"\u001b[39m\u001b[39mExpected `n_calls` >= \u001b[39m\u001b[39m%d\u001b[39;00m\u001b[39m, got \u001b[39m\u001b[39m%d\u001b[39;00m\u001b[39m\"\u001b[39m \u001b[39m%\u001b[39m (required_calls, n_calls))\n\u001b[0;32m    248\u001b[0m \u001b[39m# calculate the total number of initial points\u001b[39;00m\n\u001b[0;32m    249\u001b[0m n_initial_points \u001b[39m=\u001b[39m n_initial_points \u001b[39m+\u001b[39m \u001b[39mlen\u001b[39m(x0)\n",
      "\u001b[1;31mValueError\u001b[0m: Expected `n_calls` >= 10, got 2"
     ]
    }
   ],
   "source": [
    "from skopt import gp_minimize\n",
    "\n",
    "# Number of iterations\n",
    "n_calls = 10\n",
    "# Run the Bayesian optimization\n",
    "rossi_bayesian_opt_res = gp_minimize(rossi_objective, rossi_space, n_calls=n_calls, random_state=42)\n",
    "\n",
    "# Print the best architecture\n",
    "rossi_best_architecture = [input_size]\n",
    "for i in range(bayesian_opt_res.x[0]):\n",
    "    rossi_best_architecture.append(rossi_bayesian_opt_res.x[i+1])\n",
    "rossi_best_architecture.append(1)\n",
    "print(\"Rossi Best Architecture:\", rossi_best_architecture)\n",
    "\n",
    "# Train a model using the best architecture\n",
    "rossi_gnn_best = GNN(rossi_best_architecture)\n",
    "test_nn(rossi, 'arrest', 'week', rossi_gnn_best, 0.0001, 1000, True)"
   ]
  },
  {
   "attachments": {},
   "cell_type": "markdown",
   "metadata": {},
   "source": [
    "These functions should be used in the future to tune the hyperparameters of the NN. As mentioned, we will not do this here. We will stick to the architecture we have been using so far."
   ]
  },
  {
   "attachments": {},
   "cell_type": "markdown",
   "metadata": {},
   "source": [
    "## Latent Class Analysis\n",
    "\n",
    "*Latent Class Analysis* (LCA) is a statistical method for identifying hidden subgroups within a population. In the context of our problem, we can use LCA to separate patients into different subgroups and then train separate GNN models for each subgroup.\n",
    "\n",
    "To create a class for latent class analysis using the CPH model, we can:\n",
    "\n",
    "1. Split the dataset into a given number of components (latent classes).\n",
    "2. Train a separate GNN model for each component.\n",
    "3. Produce the final loss and c-statistic over all components."
   ]
  },
  {
   "cell_type": "markdown",
   "metadata": {},
   "source": [
    "## The Chronic Heart Failure Dataset\n",
    "\n",
    "First we will measure the c-statistic using the `FWL` model with pre-specified weights."
   ]
  },
  {
   "cell_type": "code",
   "execution_count": 74,
   "metadata": {},
   "outputs": [
    {
     "name": "stdout",
     "output_type": "stream",
     "text": [
      "FWL CHF c-statistic: 0.6797654498419086\n"
     ]
    }
   ],
   "source": [
    "# Create base NN model\n",
    "chf_fwl = FixedWeightLinear(chf_c)\n",
    "\n",
    "# Compute the c-statistic using concordance_statistic\n",
    "print(\"FWL CHF c-statistic:\", get_concordance_statistic_nn(chf, 'StatusDeath', 'TimeDeath', chf_fwl))"
   ]
  },
  {
   "attachments": {},
   "cell_type": "markdown",
   "metadata": {},
   "source": [
    "Now let us use the NN models we trained earlier."
   ]
  },
  {
   "cell_type": "code",
   "execution_count": 77,
   "metadata": {},
   "outputs": [
    {
     "name": "stdout",
     "output_type": "stream",
     "text": [
      "Initial VWL Parameter containing:\n",
      "tensor([ 0.4087,  0.5009, -0.5393, -0.0389], requires_grad=True)\n",
      "Initial VWL c-statistic: 0.6124794481172751\n",
      "Loss before training: tensor(-7774.6851, grad_fn=<MulBackward0>)\n",
      "Loss after training: tensor(nan, grad_fn=<MulBackward0>)\n"
     ]
    },
    {
     "data": {
      "image/png": "[encoded data removed]",
      "text/plain": [
       "<Figure size 600x400 with 1 Axes>"
      ]
     },
     "metadata": {},
     "output_type": "display_data"
    }
   ],
   "source": [
    "# Apply the VariableWeightLinear model\n",
    "chf_vwl = VariableWeightLinear(chf.shape[1] - 2)\n",
    "\n",
    "# Initial c-statistic\n",
    "print(\"Initial VWL c-statistic:\", get_concordance_statistic_nn(chf, 'StatusDeath', 'TimeDeath', chf_vwl))\n",
    "\n",
    "# Train model\n",
    "chf_vwl_loss = train_model(chf, 'StatusDeath', 'TimeDeath', chf_vwl, 0.00001, 4000, True)"
   ]
  },
  {
   "attachments": {},
   "cell_type": "markdown",
   "metadata": {},
   "source": [
    "And let us see the results."
   ]
  },
  {
   "cell_type": "code",
   "execution_count": 76,
   "metadata": {},
   "outputs": [
    {
     "name": "stdout",
     "output_type": "stream",
     "text": [
      "Trained VWL CHF Weights: Parameter containing:\n",
      "tensor([nan, nan, nan, nan], requires_grad=True)     \n",
      "Trained VWL CHF Loss: nan     \n",
      "Trained VWL CHF c-statistic 0.5\n"
     ]
    }
   ],
   "source": [
    "# Final c-statistic\n",
    "chf_vwl_c = get_concordance_statistic_nn(chf, 'StatusDeath', 'TimeDeath', chf_vwl)\n",
    "\n",
    "# Print the trained weights\n",
    "print(\"Trained VWL CHF Weights: {0} \\\n",
    "    \\nTrained VWL CHF Loss: {1} \\\n",
    "    \\nTrained VWL CHF c-statistic {2}\"\n",
    "    .format(chf_vwl.weights, chf_vwl_loss, chf_vwl_c))        "
   ]
  },
  {
   "cell_type": "markdown",
   "metadata": {},
   "source": [
    "Similar results. Now let's apply the same methods in applying models to the `Rossi` dataset upon the `CHF` dataset."
   ]
  },
  {
   "cell_type": "code",
   "execution_count": 79,
   "metadata": {},
   "outputs": [
    {
     "name": "stdout",
     "output_type": "stream",
     "text": [
      "Loss before training: tensor([-5244.8428], grad_fn=<MulBackward0>)\n",
      "Loss after training: tensor([-4955.3560], grad_fn=<MulBackward0>)\n"
     ]
    },
    {
     "data": {
      "image/png": "[encoded data removed]",
      "text/plain": [
       "<Figure size 600x400 with 1 Axes>"
      ]
     },
     "metadata": {},
     "output_type": "display_data"
    },
    {
     "name": "stdout",
     "output_type": "stream",
     "text": [
      "SNN[4, 16, 1] \n",
      "- loss: [-4962.579]\n",
      "- c-statistic: 0.6789060074734119\n"
     ]
    },
    {
     "data": {
      "text/plain": [
       "(array([-4962.579], dtype=float32), 0.6789060074734119)"
      ]
     },
     "execution_count": 79,
     "metadata": {},
     "output_type": "execute_result"
    }
   ],
   "source": [
    "# Test the simple model on the CHF data set\n",
    "chf_input_size = chf.shape[1] - 2  # Number of input features (excluding censor and time variables)\n",
    "chf_hidden_size = chf_input_size*chf_input_size  # Number of hidden units\n",
    "chf_output_size = 1  # Number of output units\n",
    "chf_snn = SNN(chf_input_size, chf_hidden_size)\n",
    "# Train model\n",
    "test_nn(chf, 'StatusDeath', 'TimeDeath', chf_snn, 0.0001, 1000, True)"
   ]
  },
  {
   "attachments": {},
   "cell_type": "markdown",
   "metadata": {},
   "source": [
    "Let us visualize the weights of the model."
   ]
  },
  {
   "cell_type": "code",
   "execution_count": 84,
   "metadata": {},
   "outputs": [
    {
     "data": {
      "image/png": "[encoded data removed]",
      "text/plain": [
       "<Figure size 1200x800 with 1 Axes>"
      ]
     },
     "metadata": {},
     "output_type": "display_data"
    }
   ],
   "source": [
    "# Plot histogram of weights\n",
    "chf_snn_weights = chf_snn.return_weights()\n",
    "plt.hist(chf_snn_weights, bins=int(np.sqrt(len(chf_snn_weights))), color='black')\n",
    "plt.xlabel('Weights')\n",
    "plt.ylabel('Frequency')\n",
    "plt.show()"
   ]
  },
  {
   "attachments": {},
   "cell_type": "markdown",
   "metadata": {},
   "source": [
    "Now let us the `GNN` model, with a similar structure using the input size squared as the number of neurons in `2` hidden layer."
   ]
  },
  {
   "cell_type": "code",
   "execution_count": 80,
   "metadata": {},
   "outputs": [
    {
     "name": "stdout",
     "output_type": "stream",
     "text": [
      "Loss before training: tensor([-5185.0635], grad_fn=<MulBackward0>)\n",
      "Loss after training: tensor([-4949.1743], grad_fn=<MulBackward0>)\n"
     ]
    },
    {
     "data": {
      "image/png": "[encoded data removed]",
      "text/plain": [
       "<Figure size 600x400 with 1 Axes>"
      ]
     },
     "metadata": {},
     "output_type": "display_data"
    },
    {
     "name": "stdout",
     "output_type": "stream",
     "text": [
      "GNN[4, 16, 16, 1] \n",
      "- loss: [-4948.654]\n",
      "- c-statistic: 0.6798229376257545\n"
     ]
    },
    {
     "data": {
      "text/plain": [
       "(array([-4948.654], dtype=float32), 0.6798229376257545)"
      ]
     },
     "execution_count": 80,
     "metadata": {},
     "output_type": "execute_result"
    }
   ],
   "source": [
    "# Test the GNN model on the CHF data set\n",
    "chf_gnn = GNN([chf_input_size, chf_hidden_size, chf_hidden_size, 1])\n",
    "test_nn(chf, 'StatusDeath', 'TimeDeath', chf_gnn, 0.0001, 1000, True)"
   ]
  },
  {
   "cell_type": "code",
   "execution_count": 86,
   "metadata": {},
   "outputs": [
    {
     "data": {
      "image/png": "[encoded data removed]",
      "text/plain": [
       "<Figure size 1200x800 with 1 Axes>"
      ]
     },
     "metadata": {},
     "output_type": "display_data"
    }
   ],
   "source": [
    "# Plot histogram of weights\n",
    "chf_gnn_weights = chf_gnn.return_weights()\n",
    "plt.hist(chf_gnn_weights, bins=int(np.sqrt(len(chf_gnn_weights))), color='black')\n",
    "plt.xlabel('Weights')\n",
    "plt.ylabel('Frequency')\n",
    "plt.show()"
   ]
  },
  {
   "attachments": {},
   "cell_type": "markdown",
   "metadata": {},
   "source": [
    "Let us adapt the code from the previous section on producing the optimal architecture for use on the CHF dataset."
   ]
  },
  {
   "cell_type": "code",
   "execution_count": null,
   "metadata": {},
   "outputs": [],
   "source": [
    "# Define the search space\n",
    "chf_space = [\n",
    "    Categorical([1, chf_input_size], name='num_layers'),\n",
    "]\n",
    "\n",
    "# We want the maximum number of hidden layers t be equal to the number of input features\n",
    "for i in range(chf_input_size):\n",
    "    # We want the maximum number of neurons in each hidden layer to be equal to the number of input features squared\n",
    "    chf_space.append(Integer(chf_input_size, chf_input_size*chf_input_size, name='neurons_{}'.format(i)))\n",
    "\n",
    "# This decorator allows us to use the `space` list as the input to the `objective` function\n",
    "@use_named_args(chf_space) \n",
    "def chf_objective(**params):\n",
    "    \"\"\"Objective function to be maximized for the CHF dataset.\n",
    "\n",
    "    Returns:\n",
    "        float: Negative c-statistic.\n",
    "    \"\"\"\n",
    "    # Create the architecture\n",
    "    num_layers = params[\"num_layers\"]\n",
    "    architecture = [chf_input_size]\n",
    "    for i in range(num_layers):\n",
    "        architecture.append(params[\"neurons_{}\".format(i)])\n",
    "    architecture.append(1)\n",
    "    \n",
    "    # Creates the NN model using the architecture\n",
    "    model = GNN(architecture)\n",
    "    \n",
    "    # We still need to maximise the PLE for each model\n",
    "    train_model(chf, 'StatusDeath', 'TimeDeath', model, 0.0001, 1000, False)\n",
    "    \n",
    "    # We are maximising the c-statistic, but minimising using the `skopt` library\n",
    "    # so we return the negative of the c-statistic.\n",
    "    return -get_concordance_statistic_nn(chf, 'StatusDeath', 'TimeDeath', model)"
   ]
  },
  {
   "attachments": {},
   "cell_type": "markdown",
   "metadata": {},
   "source": [
    "Again, we have placed the code to produce the best architecture in the `Markdown` cell as it took a long time to run (over 200 minutes on my machine).\n",
    "\n",
    "```python\n",
    "from skopt import gp_minimize\n",
    "\n",
    "# Number of iterations\n",
    "n_calls = 10\n",
    "# Run the Bayesian optimization\n",
    "chf_bayesian_opt_res = gp_minimize(chf_objective, chf_space, n_calls=n_calls, random_state=42)\n",
    "\n",
    "# Print the best architecture\n",
    "chf_best_architecture = [chf_input_size]\n",
    "for i in range(chf_bayesian_opt_res.x[0]):\n",
    "    chf_best_architecture.append(chf_bayesian_opt_res.x[i+1])\n",
    "chf_best_architecture.append(1)\n",
    "print(\"CHF Best Hidden Layer architecture:\", chf_best_architecture)\n",
    "```\n",
    "\n",
    "The final output was as follows:\n",
    "\n",
    "```python\n",
    "\"CHF Best Hidden Layer Architecture: [4, 13, 1]\"\n",
    "```"
   ]
  },
  {
   "cell_type": "code",
   "execution_count": null,
   "metadata": {},
   "outputs": [],
   "source": [
    "from skopt import gp_minimize\n",
    "\n",
    "n_calls = 10\n",
    "# Run the Bayesian optimization\n",
    "chf_bayesian_opt_res = gp_minimize(chf_objective, chf_space, n_calls=n_calls, random_state=42)\n",
    "\n",
    "# Print the best architecture\n",
    "chf_best_architecture = [chf_input_size]\n",
    "for i in range(chf_bayesian_opt_res.x[0]):\n",
    "    chf_best_architecture.append(chf_bayesian_opt_res.x[i+1])\n",
    "chf_best_architecture.append(1)\n",
    "print(\"CHF Best Hidden Layer architecture:\", chf_best_architecture)\n",
    "\n",
    "# We will experiment with this model and see if we can improve the c-statistic\n",
    "chf_best_model_architecture = GNN(chf_best_architecture)\n",
    "test_nn(chf, 'StatusDeath', 'TimeDeath', chf_best_model_architecture, 0.0001, 1000, True)"
   ]
  },
  {
   "cell_type": "code",
   "execution_count": 200,
   "metadata": {},
   "outputs": [],
   "source": [
    "from sklearn.mixture import GaussianMixture\n",
    "\n",
    "class LCA:\n",
    "    \"\"\"Latent Class Analysis model for survival analysis.\"\"\"\n",
    "    \n",
    "    def __init__(self, df, event, time, n_components=2):\n",
    "        self.components = n_components\n",
    "        self.df = df\n",
    "        self.event = event\n",
    "        self.time = time\n",
    "        \n",
    "        # Initialise the covariates and the sizes\n",
    "        # We take away 1 as we do not want to include the class, event and time variables\n",
    "        self.input_size = len(self.df.columns) - 3\n",
    "        self.hidden_size = self.input_size*self.input_size\n",
    "        \n",
    "        # Initialise the GNN models\n",
    "        self.models = [GNN([self.input_size, self.hidden_size, self.hidden_size, 1]) for _ in range(n_components)]\n",
    "        # Initialise the Gaussian Mixture Model\n",
    "        self.gmm = GaussianMixture(n_components=n_components)\n",
    "        \n",
    "        # Stores dataframe for each latent class\n",
    "        self.classes = []\n",
    "        \n",
    "        # Store risks for each each patient\n",
    "        self.risks = []\n",
    "\n",
    "    def fit(self):\n",
    "        \"\"\"Fits the LCA model to the dataset. and creates the seprate latent classes.\"\"\"\n",
    "        \n",
    "        # Fit Gaussian Mixture Model to the dataset\n",
    "        self.gmm.fit(self.df)\n",
    "\n",
    "        # Assign patients to the latent classes\n",
    "        self.df['LatentClass'] = self.gmm.predict(self.df)\n",
    "        \n",
    "        # Append the dataframes for each latent class to the classes list\n",
    "        for i in range(self.components):\n",
    "            self.classes.append(self.df.loc[self.df['LatentClass'] == i].drop('LatentClass', axis=1))\n",
    "            # Remove the latent class column from the dataframe\n",
    "            self.classes[i] = self.df.drop('LatentClass', axis=1)        \n",
    "\n",
    "        # Initialise the total loss and c-statistic\n",
    "        total_loss = 0\n",
    "        \n",
    "        # For each model, train the model on the data for the given latent class\n",
    "        for i, model in enumerate(self.models):\n",
    "            # Train the model of the latent class\n",
    "            loss = train_model(self.classes[i], self.event, self.time, model, 0.0001, 1000, False)\n",
    "            # Add the loss to the total loss (remember the loss is negative)\n",
    "            total_loss += -loss\n",
    "        \n",
    "        # Compute the average c-statistic across all latent classes\n",
    "        return total_loss\n",
    "    \n",
    "    def predict(self):\n",
    "        \"\"\"Produces the predictions for each patient in the dataset and computes the final loss and c-statistic.\"\"\"\n",
    "        \n",
    "        # Store covariates for each patient\n",
    "        x = torch.tensor(self.df[[col for col in self.df.columns if col not in [self.event, self.time]]].values, dtype=torch.float)    \n",
    "        \n",
    "        # Iterate over all patients and compute the risk for each patient using the appropriate model\n",
    "        for i, patient in self.df.iterrows():\n",
    "            # Get the latent class for the patient\n",
    "            latent_class = patient['LatentClass']\n",
    "            # Get the model for the patient\n",
    "            model = self.models[latent_class]\n",
    "            # Compute the risk for the patient\n",
    "            with torch.no_grad():\n",
    "                risk = model.forward(x[i])\n",
    "            # Append the risk to the list of risks\n",
    "            self.risks.append(risk)\n",
    "        \n",
    "        # Use the predicted risks to compute the c-statistic  \n",
    "        return concordance_statistic(self.df[self.event], self.df[self.time], self.risks)"
   ]
  },
  {
   "attachments": {},
   "cell_type": "markdown",
   "metadata": {},
   "source": [
    "This implementation uses *Gaussian Mixture Models* (GMM) to split the dataset into the specified number of components. Then, it assigns each patient to a class based on the highest likelihood obtained from the trained models.We can use this class by initializing it with the desired number of components, then fitting it with our data, and finally predicting the class for new patients."
   ]
  },
  {
   "cell_type": "code",
   "execution_count": 201,
   "metadata": {},
   "outputs": [],
   "source": [
    "def latent_class_analysis(df, event, time, n):\n",
    "    X = df.copy()\n",
    "\n",
    "    # Initialise LatentClass column as 0\n",
    "    X['LatentClass'] = 0\n",
    "\n",
    "    # Fits the LCA_Cox model\n",
    "    lca = LCA(X, event, time, n_components=n)\n",
    "    loss = lca.fit()\n",
    "\n",
    "    # Print the number of patients in each latent class\n",
    "    print(lca.df['LatentClass'].value_counts())\n",
    "    \n",
    "    score = lca.predict()\n",
    "    \n",
    "    return loss, score"
   ]
  },
  {
   "attachments": {},
   "cell_type": "markdown",
   "metadata": {},
   "source": [
    "Let's now test this class on the `Rossi` dataset."
   ]
  },
  {
   "cell_type": "code",
   "execution_count": 204,
   "metadata": {},
   "outputs": [],
   "source": [
    "print(latent_class_analysis(rossi, 'arrest', 'week', 1))"
   ]
  },
  {
   "attachments": {},
   "cell_type": "markdown",
   "metadata": {},
   "source": [
    "As we have acheived the same results as before, we know we have implemented the class correctly. Let us now test it using more classes."
   ]
  },
  {
   "cell_type": "code",
   "execution_count": null,
   "metadata": {},
   "outputs": [],
   "source": [
    "print(latent_class_analysis(rossi, 'arrest', 'week', 2))"
   ]
  },
  {
   "attachments": {},
   "cell_type": "markdown",
   "metadata": {},
   "source": [
    "Now let us test this using `3` classes."
   ]
  },
  {
   "cell_type": "code",
   "execution_count": null,
   "metadata": {},
   "outputs": [],
   "source": [
    "latent_class_analysis(rossi, 'arrest', 'week', 3)"
   ]
  },
  {
   "attachments": {},
   "cell_type": "markdown",
   "metadata": {},
   "source": [
    "Now let us test this using `4` classes."
   ]
  },
  {
   "cell_type": "code",
   "execution_count": 180,
   "metadata": {},
   "outputs": [
    {
     "name": "stdout",
     "output_type": "stream",
     "text": [
      "3    196\n",
      "2    122\n",
      "1     95\n",
      "0     19\n",
      "Name: LatentClass, dtype: int64\n",
      "tensor([-39.2925], grad_fn=<MulBackward0>) 0.6646341463414634\n",
      "tensor([-336.6708], grad_fn=<MulBackward0>) 0.6570841889117043\n"
     ]
    },
    {
     "ename": "AttributeError",
     "evalue": "'int' object has no attribute 'backward'",
     "output_type": "error",
     "traceback": [
      "\u001b[1;31m---------------------------------------------------------------------------\u001b[0m",
      "\u001b[1;31mAttributeError\u001b[0m                            Traceback (most recent call last)",
      "Cell \u001b[1;32mIn[180], line 2\u001b[0m\n\u001b[0;32m      1\u001b[0m rossi_lca4 \u001b[39m=\u001b[39m latent_class_analysis(rossi, \u001b[39m'\u001b[39m\u001b[39marrest\u001b[39m\u001b[39m'\u001b[39m, \u001b[39m'\u001b[39m\u001b[39mweek\u001b[39m\u001b[39m'\u001b[39m, \u001b[39m4\u001b[39m)\n\u001b[1;32m----> 2\u001b[0m rossi_lca4\u001b[39m.\u001b[39;49mpredict()\n",
      "Cell \u001b[1;32mIn[173], line 42\u001b[0m, in \u001b[0;36mLCA.predict\u001b[1;34m(self)\u001b[0m\n\u001b[0;32m     40\u001b[0m temp_df \u001b[39m=\u001b[39m \u001b[39mself\u001b[39m\u001b[39m.\u001b[39mdf\u001b[39m.\u001b[39mloc[\u001b[39mself\u001b[39m\u001b[39m.\u001b[39mdf[\u001b[39m'\u001b[39m\u001b[39mLatentClass\u001b[39m\u001b[39m'\u001b[39m] \u001b[39m==\u001b[39m i]\u001b[39m.\u001b[39mdrop(\u001b[39m'\u001b[39m\u001b[39mLatentClass\u001b[39m\u001b[39m'\u001b[39m, axis\u001b[39m=\u001b[39m\u001b[39m1\u001b[39m)\n\u001b[0;32m     41\u001b[0m \u001b[39m# Train the model of the latent class\u001b[39;00m\n\u001b[1;32m---> 42\u001b[0m loss, score \u001b[39m=\u001b[39m test_nn(temp_df, \u001b[39mself\u001b[39;49m\u001b[39m.\u001b[39;49mevent, \u001b[39mself\u001b[39;49m\u001b[39m.\u001b[39;49mtime, model, \u001b[39m0.0001\u001b[39;49m, \u001b[39m1000\u001b[39;49m, \u001b[39mFalse\u001b[39;49;00m)\n\u001b[0;32m     43\u001b[0m \u001b[39m# Add the loss to the total loss (remember the loss is negative)\u001b[39;00m\n\u001b[0;32m     44\u001b[0m \u001b[39m# and add the c-statistic to the total c-statistic\u001b[39;00m\n\u001b[0;32m     45\u001b[0m total_loss \u001b[39m+\u001b[39m\u001b[39m=\u001b[39m \u001b[39m-\u001b[39mloss\n",
      "Cell \u001b[1;32mIn[62], line 14\u001b[0m, in \u001b[0;36mtest_nn\u001b[1;34m(dataset, event, time, model, lr, n_epoch, output)\u001b[0m\n\u001b[0;32m      2\u001b[0m \u001b[39mdef\u001b[39;00m \u001b[39mtest_nn\u001b[39m(dataset, event, time, model, lr, n_epoch, output\u001b[39m=\u001b[39m\u001b[39mFalse\u001b[39;00m):\n\u001b[0;32m      3\u001b[0m \u001b[39m    \u001b[39m\u001b[39m\"\"\"Trains the model and prints the c-statistic.\u001b[39;00m\n\u001b[0;32m      4\u001b[0m \n\u001b[0;32m      5\u001b[0m \u001b[39m    Args:\u001b[39;00m\n\u001b[1;32m   (...)\u001b[0m\n\u001b[0;32m     12\u001b[0m \u001b[39m        output (bool, optional): Whether to print the output. Defaults to False.\u001b[39;00m\n\u001b[0;32m     13\u001b[0m \u001b[39m    \"\"\"\u001b[39;00m\n\u001b[1;32m---> 14\u001b[0m     loss \u001b[39m=\u001b[39m train_model(dataset, event, time, model, lr, n_epoch, output)\n\u001b[0;32m     15\u001b[0m     score \u001b[39m=\u001b[39m get_concordance_statistic_nn(dataset, event, time, model)\n\u001b[0;32m     16\u001b[0m     \u001b[39mif\u001b[39;00m output:\n\u001b[0;32m     17\u001b[0m         \u001b[39m# Print format string with loss and score\u001b[39;00m\n",
      "Cell \u001b[1;32mIn[50], line 28\u001b[0m, in \u001b[0;36mtrain_model\u001b[1;34m(df, event, time, model, lr, n_epoch, output)\u001b[0m\n\u001b[0;32m     25\u001b[0m \u001b[39mfor\u001b[39;00m _ \u001b[39min\u001b[39;00m \u001b[39mrange\u001b[39m(n_epoch):\n\u001b[0;32m     26\u001b[0m     \u001b[39m# Compute the loss using the CoxNNet class and the NN model\u001b[39;00m\n\u001b[0;32m     27\u001b[0m     loss \u001b[39m=\u001b[39m net\u001b[39m.\u001b[39mforward(model)\n\u001b[1;32m---> 28\u001b[0m     loss\u001b[39m.\u001b[39;49mbackward()        \n\u001b[0;32m     29\u001b[0m     losses\u001b[39m.\u001b[39mappend(loss)\n\u001b[0;32m     31\u001b[0m     \u001b[39m# Update the weights using gradient descent\u001b[39;00m\n",
      "\u001b[1;31mAttributeError\u001b[0m: 'int' object has no attribute 'backward'"
     ]
    }
   ],
   "source": [
    "latent_class_analysis(rossi, 'arrest', 'week', 4)"
   ]
  },
  {
   "cell_type": "code",
   "execution_count": 175,
   "metadata": {},
   "outputs": [
    {
     "name": "stdout",
     "output_type": "stream",
     "text": [
      "0    1170\n",
      "1     632\n",
      "Name: LatentClass, dtype: int64\n"
     ]
    },
    {
     "ename": "KeyboardInterrupt",
     "evalue": "",
     "output_type": "error",
     "traceback": [
      "\u001b[1;31m---------------------------------------------------------------------------\u001b[0m",
      "\u001b[1;31mKeyboardInterrupt\u001b[0m                         Traceback (most recent call last)",
      "Cell \u001b[1;32mIn[175], line 2\u001b[0m\n\u001b[0;32m      1\u001b[0m lca2 \u001b[39m=\u001b[39m latent_class_analysis(chf, \u001b[39m'\u001b[39m\u001b[39mStatusDeath\u001b[39m\u001b[39m'\u001b[39m, \u001b[39m'\u001b[39m\u001b[39mTimeDeath\u001b[39m\u001b[39m'\u001b[39m, \u001b[39m2\u001b[39m)\n\u001b[1;32m----> 2\u001b[0m lca2\u001b[39m.\u001b[39;49mpredict()\n",
      "Cell \u001b[1;32mIn[173], line 42\u001b[0m, in \u001b[0;36mLCA.predict\u001b[1;34m(self)\u001b[0m\n\u001b[0;32m     40\u001b[0m temp_df \u001b[39m=\u001b[39m \u001b[39mself\u001b[39m\u001b[39m.\u001b[39mdf\u001b[39m.\u001b[39mloc[\u001b[39mself\u001b[39m\u001b[39m.\u001b[39mdf[\u001b[39m'\u001b[39m\u001b[39mLatentClass\u001b[39m\u001b[39m'\u001b[39m] \u001b[39m==\u001b[39m i]\u001b[39m.\u001b[39mdrop(\u001b[39m'\u001b[39m\u001b[39mLatentClass\u001b[39m\u001b[39m'\u001b[39m, axis\u001b[39m=\u001b[39m\u001b[39m1\u001b[39m)\n\u001b[0;32m     41\u001b[0m \u001b[39m# Train the model of the latent class\u001b[39;00m\n\u001b[1;32m---> 42\u001b[0m loss, score \u001b[39m=\u001b[39m test_nn(temp_df, \u001b[39mself\u001b[39;49m\u001b[39m.\u001b[39;49mevent, \u001b[39mself\u001b[39;49m\u001b[39m.\u001b[39;49mtime, model, \u001b[39m0.0001\u001b[39;49m, \u001b[39m1000\u001b[39;49m, \u001b[39mFalse\u001b[39;49;00m)\n\u001b[0;32m     43\u001b[0m \u001b[39m# Add the loss to the total loss (remember the loss is negative)\u001b[39;00m\n\u001b[0;32m     44\u001b[0m \u001b[39m# and add the c-statistic to the total c-statistic\u001b[39;00m\n\u001b[0;32m     45\u001b[0m total_loss \u001b[39m+\u001b[39m\u001b[39m=\u001b[39m \u001b[39m-\u001b[39mloss\n",
      "Cell \u001b[1;32mIn[62], line 14\u001b[0m, in \u001b[0;36mtest_nn\u001b[1;34m(dataset, event, time, model, lr, n_epoch, output)\u001b[0m\n\u001b[0;32m      2\u001b[0m \u001b[39mdef\u001b[39;00m \u001b[39mtest_nn\u001b[39m(dataset, event, time, model, lr, n_epoch, output\u001b[39m=\u001b[39m\u001b[39mFalse\u001b[39;00m):\n\u001b[0;32m      3\u001b[0m \u001b[39m    \u001b[39m\u001b[39m\"\"\"Trains the model and prints the c-statistic.\u001b[39;00m\n\u001b[0;32m      4\u001b[0m \n\u001b[0;32m      5\u001b[0m \u001b[39m    Args:\u001b[39;00m\n\u001b[1;32m   (...)\u001b[0m\n\u001b[0;32m     12\u001b[0m \u001b[39m        output (bool, optional): Whether to print the output. Defaults to False.\u001b[39;00m\n\u001b[0;32m     13\u001b[0m \u001b[39m    \"\"\"\u001b[39;00m\n\u001b[1;32m---> 14\u001b[0m     loss \u001b[39m=\u001b[39m train_model(dataset, event, time, model, lr, n_epoch, output)\n\u001b[0;32m     15\u001b[0m     score \u001b[39m=\u001b[39m get_concordance_statistic_nn(dataset, event, time, model)\n\u001b[0;32m     16\u001b[0m     \u001b[39mif\u001b[39;00m output:\n\u001b[0;32m     17\u001b[0m         \u001b[39m# Print format string with loss and score\u001b[39;00m\n",
      "Cell \u001b[1;32mIn[50], line 27\u001b[0m, in \u001b[0;36mtrain_model\u001b[1;34m(df, event, time, model, lr, n_epoch, output)\u001b[0m\n\u001b[0;32m     24\u001b[0m \u001b[39m# Train the model\u001b[39;00m\n\u001b[0;32m     25\u001b[0m \u001b[39mfor\u001b[39;00m _ \u001b[39min\u001b[39;00m \u001b[39mrange\u001b[39m(n_epoch):\n\u001b[0;32m     26\u001b[0m     \u001b[39m# Compute the loss using the CoxNNet class and the NN model\u001b[39;00m\n\u001b[1;32m---> 27\u001b[0m     loss \u001b[39m=\u001b[39m net\u001b[39m.\u001b[39;49mforward(model)\n\u001b[0;32m     28\u001b[0m     loss\u001b[39m.\u001b[39mbackward()        \n\u001b[0;32m     29\u001b[0m     losses\u001b[39m.\u001b[39mappend(loss)\n",
      "Cell \u001b[1;32mIn[55], line 54\u001b[0m, in \u001b[0;36mCoxNNet.forward\u001b[1;34m(self, model)\u001b[0m\n\u001b[0;32m     43\u001b[0m \u001b[39m\u001b[39m\u001b[39m\"\"\"Calculate the log-likelihood over the entire dataset.\u001b[39;00m\n\u001b[0;32m     44\u001b[0m \u001b[39mThis is the function that is called when we call net.forward().\u001b[39;00m\n\u001b[0;32m     45\u001b[0m \u001b[39mImportant: this is where we can pass in a NN model.\u001b[39;00m\n\u001b[1;32m   (...)\u001b[0m\n\u001b[0;32m     51\u001b[0m \u001b[39m    float: Log-likelihood over the entire dataset.\u001b[39;00m\n\u001b[0;32m     52\u001b[0m \u001b[39m\"\"\"\u001b[39;00m\n\u001b[0;32m     53\u001b[0m \u001b[39m# sksurv calculates the llh /event and puts a minus sign in front, we undo that\u001b[39;00m\n\u001b[1;32m---> 54\u001b[0m total \u001b[39m=\u001b[39m \u001b[39m-\u001b[39m\u001b[39mself\u001b[39m\u001b[39m.\u001b[39mdf\u001b[39m.\u001b[39mshape[\u001b[39m0\u001b[39m]\u001b[39m*\u001b[39m\u001b[39mself\u001b[39;49m\u001b[39m.\u001b[39;49mopt\u001b[39m.\u001b[39;49mnlog_likelihood(\u001b[39mself\u001b[39;49m\u001b[39m.\u001b[39;49mcoefficients, model)\n\u001b[0;32m     55\u001b[0m \u001b[39mreturn\u001b[39;00m total\n",
      "Cell \u001b[1;32mIn[37], line 57\u001b[0m, in \u001b[0;36mCoxPHOptimizer.nlog_likelihood\u001b[1;34m(self, w, model)\u001b[0m\n\u001b[0;32m     53\u001b[0m \u001b[39mif\u001b[39;00m model \u001b[39mis\u001b[39;00m \u001b[39mnot\u001b[39;00m \u001b[39mNone\u001b[39;00m:\n\u001b[0;32m     54\u001b[0m     \u001b[39mfor\u001b[39;00m i \u001b[39min\u001b[39;00m \u001b[39mrange\u001b[39m(n_samples):\n\u001b[0;32m     55\u001b[0m         \u001b[39m# Computes risk score for each sample using the NN model\u001b[39;00m\n\u001b[0;32m     56\u001b[0m         \u001b[39m# and appends it to the list xw, containing the risk scores for all samples.\u001b[39;00m\n\u001b[1;32m---> 57\u001b[0m         xw\u001b[39m.\u001b[39mappend(model\u001b[39m.\u001b[39;49mforward(\u001b[39mself\u001b[39;49m\u001b[39m.\u001b[39;49mx[i]))\n\u001b[0;32m     58\u001b[0m \u001b[39melse\u001b[39;00m:\n\u001b[0;32m     59\u001b[0m     \u001b[39m# This is the critical line of code for our project. \u001b[39;00m\n\u001b[0;32m     60\u001b[0m     \u001b[39m# It is the matrix-vector product of the matrix of features x\u001b[39;00m\n\u001b[0;32m     61\u001b[0m     \u001b[39m# and the vector of weights w.\u001b[39;00m\n\u001b[0;32m     62\u001b[0m     \u001b[39m# This is what we will be replacing with our NNs.\u001b[39;00m\n\u001b[0;32m     63\u001b[0m     \u001b[39m# As seen above, when the model is not None, we use the NN model.\u001b[39;00m\n\u001b[0;32m     64\u001b[0m     xw \u001b[39m=\u001b[39m \u001b[39mself\u001b[39m\u001b[39m.\u001b[39mx\u001b[39m@w\u001b[39m\n",
      "Cell \u001b[1;32mIn[70], line 33\u001b[0m, in \u001b[0;36mGNN.forward\u001b[1;34m(self, x)\u001b[0m\n\u001b[0;32m     24\u001b[0m \u001b[39m\u001b[39m\u001b[39m\"\"\"Predicts the risk for a single individual.\u001b[39;00m\n\u001b[0;32m     25\u001b[0m \n\u001b[0;32m     26\u001b[0m \u001b[39mArgs:\u001b[39;00m\n\u001b[1;32m   (...)\u001b[0m\n\u001b[0;32m     30\u001b[0m \u001b[39m    float: Predicted risk.\u001b[39;00m\n\u001b[0;32m     31\u001b[0m \u001b[39m\"\"\"\u001b[39;00m\n\u001b[0;32m     32\u001b[0m \u001b[39mfor\u001b[39;00m layer \u001b[39min\u001b[39;00m \u001b[39mself\u001b[39m\u001b[39m.\u001b[39mlayers:\n\u001b[1;32m---> 33\u001b[0m     x \u001b[39m=\u001b[39m layer(x)\n\u001b[0;32m     34\u001b[0m \u001b[39mreturn\u001b[39;00m x\n",
      "File \u001b[1;32mc:\\Users\\omarc\\OneDrive - University of Leeds\\Year 3\\3931 Individual Project\\Code\\.venv\\lib\\site-packages\\torch\\nn\\modules\\module.py:1501\u001b[0m, in \u001b[0;36mModule._call_impl\u001b[1;34m(self, *args, **kwargs)\u001b[0m\n\u001b[0;32m   1496\u001b[0m \u001b[39m# If we don't have any hooks, we want to skip the rest of the logic in\u001b[39;00m\n\u001b[0;32m   1497\u001b[0m \u001b[39m# this function, and just call forward.\u001b[39;00m\n\u001b[0;32m   1498\u001b[0m \u001b[39mif\u001b[39;00m \u001b[39mnot\u001b[39;00m (\u001b[39mself\u001b[39m\u001b[39m.\u001b[39m_backward_hooks \u001b[39mor\u001b[39;00m \u001b[39mself\u001b[39m\u001b[39m.\u001b[39m_backward_pre_hooks \u001b[39mor\u001b[39;00m \u001b[39mself\u001b[39m\u001b[39m.\u001b[39m_forward_hooks \u001b[39mor\u001b[39;00m \u001b[39mself\u001b[39m\u001b[39m.\u001b[39m_forward_pre_hooks\n\u001b[0;32m   1499\u001b[0m         \u001b[39mor\u001b[39;00m _global_backward_pre_hooks \u001b[39mor\u001b[39;00m _global_backward_hooks\n\u001b[0;32m   1500\u001b[0m         \u001b[39mor\u001b[39;00m _global_forward_hooks \u001b[39mor\u001b[39;00m _global_forward_pre_hooks):\n\u001b[1;32m-> 1501\u001b[0m     \u001b[39mreturn\u001b[39;00m forward_call(\u001b[39m*\u001b[39margs, \u001b[39m*\u001b[39m\u001b[39m*\u001b[39mkwargs)\n\u001b[0;32m   1502\u001b[0m \u001b[39m# Do not call functions when jit is used\u001b[39;00m\n\u001b[0;32m   1503\u001b[0m full_backward_hooks, non_full_backward_hooks \u001b[39m=\u001b[39m [], []\n",
      "File \u001b[1;32mc:\\Users\\omarc\\OneDrive - University of Leeds\\Year 3\\3931 Individual Project\\Code\\.venv\\lib\\site-packages\\torch\\nn\\modules\\linear.py:114\u001b[0m, in \u001b[0;36mLinear.forward\u001b[1;34m(self, input)\u001b[0m\n\u001b[0;32m    113\u001b[0m \u001b[39mdef\u001b[39;00m \u001b[39mforward\u001b[39m(\u001b[39mself\u001b[39m, \u001b[39minput\u001b[39m: Tensor) \u001b[39m-\u001b[39m\u001b[39m>\u001b[39m Tensor:\n\u001b[1;32m--> 114\u001b[0m     \u001b[39mreturn\u001b[39;00m F\u001b[39m.\u001b[39;49mlinear(\u001b[39minput\u001b[39;49m, \u001b[39mself\u001b[39;49m\u001b[39m.\u001b[39;49mweight, \u001b[39mself\u001b[39;49m\u001b[39m.\u001b[39;49mbias)\n",
      "\u001b[1;31mKeyboardInterrupt\u001b[0m: "
     ]
    }
   ],
   "source": [
    "latent_class_analysis(chf, 'StatusDeath', 'TimeDeath', 2)"
   ]
  },
  {
   "attachments": {},
   "cell_type": "markdown",
   "metadata": {},
   "source": [
    "Now let us test this using `3` classes."
   ]
  },
  {
   "cell_type": "code",
   "execution_count": 176,
   "metadata": {},
   "outputs": [
    {
     "name": "stdout",
     "output_type": "stream",
     "text": [
      "1    1065\n",
      "2     577\n",
      "0     160\n",
      "Name: LatentClass, dtype: int64\n"
     ]
    },
    {
     "ename": "KeyboardInterrupt",
     "evalue": "",
     "output_type": "error",
     "traceback": [
      "\u001b[1;31m---------------------------------------------------------------------------\u001b[0m",
      "\u001b[1;31mKeyboardInterrupt\u001b[0m                         Traceback (most recent call last)",
      "Cell \u001b[1;32mIn[176], line 2\u001b[0m\n\u001b[0;32m      1\u001b[0m lca3 \u001b[39m=\u001b[39m latent_class_analysis(chf, \u001b[39m'\u001b[39m\u001b[39mStatusDeath\u001b[39m\u001b[39m'\u001b[39m, \u001b[39m'\u001b[39m\u001b[39mTimeDeath\u001b[39m\u001b[39m'\u001b[39m, \u001b[39m3\u001b[39m)\n\u001b[1;32m----> 2\u001b[0m lca3\u001b[39m.\u001b[39;49mpredict()\n",
      "Cell \u001b[1;32mIn[173], line 42\u001b[0m, in \u001b[0;36mLCA.predict\u001b[1;34m(self)\u001b[0m\n\u001b[0;32m     40\u001b[0m temp_df \u001b[39m=\u001b[39m \u001b[39mself\u001b[39m\u001b[39m.\u001b[39mdf\u001b[39m.\u001b[39mloc[\u001b[39mself\u001b[39m\u001b[39m.\u001b[39mdf[\u001b[39m'\u001b[39m\u001b[39mLatentClass\u001b[39m\u001b[39m'\u001b[39m] \u001b[39m==\u001b[39m i]\u001b[39m.\u001b[39mdrop(\u001b[39m'\u001b[39m\u001b[39mLatentClass\u001b[39m\u001b[39m'\u001b[39m, axis\u001b[39m=\u001b[39m\u001b[39m1\u001b[39m)\n\u001b[0;32m     41\u001b[0m \u001b[39m# Train the model of the latent class\u001b[39;00m\n\u001b[1;32m---> 42\u001b[0m loss, score \u001b[39m=\u001b[39m test_nn(temp_df, \u001b[39mself\u001b[39;49m\u001b[39m.\u001b[39;49mevent, \u001b[39mself\u001b[39;49m\u001b[39m.\u001b[39;49mtime, model, \u001b[39m0.0001\u001b[39;49m, \u001b[39m1000\u001b[39;49m, \u001b[39mFalse\u001b[39;49;00m)\n\u001b[0;32m     43\u001b[0m \u001b[39m# Add the loss to the total loss (remember the loss is negative)\u001b[39;00m\n\u001b[0;32m     44\u001b[0m \u001b[39m# and add the c-statistic to the total c-statistic\u001b[39;00m\n\u001b[0;32m     45\u001b[0m total_loss \u001b[39m+\u001b[39m\u001b[39m=\u001b[39m \u001b[39m-\u001b[39mloss\n",
      "Cell \u001b[1;32mIn[62], line 14\u001b[0m, in \u001b[0;36mtest_nn\u001b[1;34m(dataset, event, time, model, lr, n_epoch, output)\u001b[0m\n\u001b[0;32m      2\u001b[0m \u001b[39mdef\u001b[39;00m \u001b[39mtest_nn\u001b[39m(dataset, event, time, model, lr, n_epoch, output\u001b[39m=\u001b[39m\u001b[39mFalse\u001b[39;00m):\n\u001b[0;32m      3\u001b[0m \u001b[39m    \u001b[39m\u001b[39m\"\"\"Trains the model and prints the c-statistic.\u001b[39;00m\n\u001b[0;32m      4\u001b[0m \n\u001b[0;32m      5\u001b[0m \u001b[39m    Args:\u001b[39;00m\n\u001b[1;32m   (...)\u001b[0m\n\u001b[0;32m     12\u001b[0m \u001b[39m        output (bool, optional): Whether to print the output. Defaults to False.\u001b[39;00m\n\u001b[0;32m     13\u001b[0m \u001b[39m    \"\"\"\u001b[39;00m\n\u001b[1;32m---> 14\u001b[0m     loss \u001b[39m=\u001b[39m train_model(dataset, event, time, model, lr, n_epoch, output)\n\u001b[0;32m     15\u001b[0m     score \u001b[39m=\u001b[39m get_concordance_statistic_nn(dataset, event, time, model)\n\u001b[0;32m     16\u001b[0m     \u001b[39mif\u001b[39;00m output:\n\u001b[0;32m     17\u001b[0m         \u001b[39m# Print format string with loss and score\u001b[39;00m\n",
      "Cell \u001b[1;32mIn[50], line 28\u001b[0m, in \u001b[0;36mtrain_model\u001b[1;34m(df, event, time, model, lr, n_epoch, output)\u001b[0m\n\u001b[0;32m     25\u001b[0m \u001b[39mfor\u001b[39;00m _ \u001b[39min\u001b[39;00m \u001b[39mrange\u001b[39m(n_epoch):\n\u001b[0;32m     26\u001b[0m     \u001b[39m# Compute the loss using the CoxNNet class and the NN model\u001b[39;00m\n\u001b[0;32m     27\u001b[0m     loss \u001b[39m=\u001b[39m net\u001b[39m.\u001b[39mforward(model)\n\u001b[1;32m---> 28\u001b[0m     loss\u001b[39m.\u001b[39;49mbackward()        \n\u001b[0;32m     29\u001b[0m     losses\u001b[39m.\u001b[39mappend(loss)\n\u001b[0;32m     31\u001b[0m     \u001b[39m# Update the weights using gradient descent\u001b[39;00m\n",
      "File \u001b[1;32mc:\\Users\\omarc\\OneDrive - University of Leeds\\Year 3\\3931 Individual Project\\Code\\.venv\\lib\\site-packages\\torch\\_tensor.py:487\u001b[0m, in \u001b[0;36mTensor.backward\u001b[1;34m(self, gradient, retain_graph, create_graph, inputs)\u001b[0m\n\u001b[0;32m    477\u001b[0m \u001b[39mif\u001b[39;00m has_torch_function_unary(\u001b[39mself\u001b[39m):\n\u001b[0;32m    478\u001b[0m     \u001b[39mreturn\u001b[39;00m handle_torch_function(\n\u001b[0;32m    479\u001b[0m         Tensor\u001b[39m.\u001b[39mbackward,\n\u001b[0;32m    480\u001b[0m         (\u001b[39mself\u001b[39m,),\n\u001b[1;32m   (...)\u001b[0m\n\u001b[0;32m    485\u001b[0m         inputs\u001b[39m=\u001b[39minputs,\n\u001b[0;32m    486\u001b[0m     )\n\u001b[1;32m--> 487\u001b[0m torch\u001b[39m.\u001b[39;49mautograd\u001b[39m.\u001b[39;49mbackward(\n\u001b[0;32m    488\u001b[0m     \u001b[39mself\u001b[39;49m, gradient, retain_graph, create_graph, inputs\u001b[39m=\u001b[39;49minputs\n\u001b[0;32m    489\u001b[0m )\n",
      "File \u001b[1;32mc:\\Users\\omarc\\OneDrive - University of Leeds\\Year 3\\3931 Individual Project\\Code\\.venv\\lib\\site-packages\\torch\\autograd\\__init__.py:200\u001b[0m, in \u001b[0;36mbackward\u001b[1;34m(tensors, grad_tensors, retain_graph, create_graph, grad_variables, inputs)\u001b[0m\n\u001b[0;32m    195\u001b[0m     retain_graph \u001b[39m=\u001b[39m create_graph\n\u001b[0;32m    197\u001b[0m \u001b[39m# The reason we repeat same the comment below is that\u001b[39;00m\n\u001b[0;32m    198\u001b[0m \u001b[39m# some Python versions print out the first line of a multi-line function\u001b[39;00m\n\u001b[0;32m    199\u001b[0m \u001b[39m# calls in the traceback and some print out the last line\u001b[39;00m\n\u001b[1;32m--> 200\u001b[0m Variable\u001b[39m.\u001b[39;49m_execution_engine\u001b[39m.\u001b[39;49mrun_backward(  \u001b[39m# Calls into the C++ engine to run the backward pass\u001b[39;49;00m\n\u001b[0;32m    201\u001b[0m     tensors, grad_tensors_, retain_graph, create_graph, inputs,\n\u001b[0;32m    202\u001b[0m     allow_unreachable\u001b[39m=\u001b[39;49m\u001b[39mTrue\u001b[39;49;00m, accumulate_grad\u001b[39m=\u001b[39;49m\u001b[39mTrue\u001b[39;49;00m)\n",
      "\u001b[1;31mKeyboardInterrupt\u001b[0m: "
     ]
    }
   ],
   "source": [
    "latent_class_analysis(chf, 'StatusDeath', 'TimeDeath', 3)"
   ]
  },
  {
   "attachments": {},
   "cell_type": "markdown",
   "metadata": {},
   "source": [
    "Now let us test this using `4` classes."
   ]
  },
  {
   "cell_type": "code",
   "execution_count": 177,
   "metadata": {},
   "outputs": [
    {
     "name": "stdout",
     "output_type": "stream",
     "text": [
      "3    737\n",
      "1    624\n",
      "0    295\n",
      "2    146\n",
      "Name: LatentClass, dtype: int64\n"
     ]
    },
    {
     "ename": "AttributeError",
     "evalue": "'int' object has no attribute 'backward'",
     "output_type": "error",
     "traceback": [
      "\u001b[1;31m---------------------------------------------------------------------------\u001b[0m",
      "\u001b[1;31mAttributeError\u001b[0m                            Traceback (most recent call last)",
      "Cell \u001b[1;32mIn[177], line 2\u001b[0m\n\u001b[0;32m      1\u001b[0m lca4 \u001b[39m=\u001b[39m latent_class_analysis(chf, \u001b[39m'\u001b[39m\u001b[39mStatusDeath\u001b[39m\u001b[39m'\u001b[39m, \u001b[39m'\u001b[39m\u001b[39mTimeDeath\u001b[39m\u001b[39m'\u001b[39m, \u001b[39m4\u001b[39m)\n\u001b[1;32m----> 2\u001b[0m lca4\u001b[39m.\u001b[39;49mpredict()\n",
      "Cell \u001b[1;32mIn[173], line 42\u001b[0m, in \u001b[0;36mLCA.predict\u001b[1;34m(self)\u001b[0m\n\u001b[0;32m     40\u001b[0m temp_df \u001b[39m=\u001b[39m \u001b[39mself\u001b[39m\u001b[39m.\u001b[39mdf\u001b[39m.\u001b[39mloc[\u001b[39mself\u001b[39m\u001b[39m.\u001b[39mdf[\u001b[39m'\u001b[39m\u001b[39mLatentClass\u001b[39m\u001b[39m'\u001b[39m] \u001b[39m==\u001b[39m i]\u001b[39m.\u001b[39mdrop(\u001b[39m'\u001b[39m\u001b[39mLatentClass\u001b[39m\u001b[39m'\u001b[39m, axis\u001b[39m=\u001b[39m\u001b[39m1\u001b[39m)\n\u001b[0;32m     41\u001b[0m \u001b[39m# Train the model of the latent class\u001b[39;00m\n\u001b[1;32m---> 42\u001b[0m loss, score \u001b[39m=\u001b[39m test_nn(temp_df, \u001b[39mself\u001b[39;49m\u001b[39m.\u001b[39;49mevent, \u001b[39mself\u001b[39;49m\u001b[39m.\u001b[39;49mtime, model, \u001b[39m0.0001\u001b[39;49m, \u001b[39m1000\u001b[39;49m, \u001b[39mFalse\u001b[39;49;00m)\n\u001b[0;32m     43\u001b[0m \u001b[39m# Add the loss to the total loss (remember the loss is negative)\u001b[39;00m\n\u001b[0;32m     44\u001b[0m \u001b[39m# and add the c-statistic to the total c-statistic\u001b[39;00m\n\u001b[0;32m     45\u001b[0m total_loss \u001b[39m+\u001b[39m\u001b[39m=\u001b[39m \u001b[39m-\u001b[39mloss\n",
      "Cell \u001b[1;32mIn[62], line 14\u001b[0m, in \u001b[0;36mtest_nn\u001b[1;34m(dataset, event, time, model, lr, n_epoch, output)\u001b[0m\n\u001b[0;32m      2\u001b[0m \u001b[39mdef\u001b[39;00m \u001b[39mtest_nn\u001b[39m(dataset, event, time, model, lr, n_epoch, output\u001b[39m=\u001b[39m\u001b[39mFalse\u001b[39;00m):\n\u001b[0;32m      3\u001b[0m \u001b[39m    \u001b[39m\u001b[39m\"\"\"Trains the model and prints the c-statistic.\u001b[39;00m\n\u001b[0;32m      4\u001b[0m \n\u001b[0;32m      5\u001b[0m \u001b[39m    Args:\u001b[39;00m\n\u001b[1;32m   (...)\u001b[0m\n\u001b[0;32m     12\u001b[0m \u001b[39m        output (bool, optional): Whether to print the output. Defaults to False.\u001b[39;00m\n\u001b[0;32m     13\u001b[0m \u001b[39m    \"\"\"\u001b[39;00m\n\u001b[1;32m---> 14\u001b[0m     loss \u001b[39m=\u001b[39m train_model(dataset, event, time, model, lr, n_epoch, output)\n\u001b[0;32m     15\u001b[0m     score \u001b[39m=\u001b[39m get_concordance_statistic_nn(dataset, event, time, model)\n\u001b[0;32m     16\u001b[0m     \u001b[39mif\u001b[39;00m output:\n\u001b[0;32m     17\u001b[0m         \u001b[39m# Print format string with loss and score\u001b[39;00m\n",
      "Cell \u001b[1;32mIn[50], line 28\u001b[0m, in \u001b[0;36mtrain_model\u001b[1;34m(df, event, time, model, lr, n_epoch, output)\u001b[0m\n\u001b[0;32m     25\u001b[0m \u001b[39mfor\u001b[39;00m _ \u001b[39min\u001b[39;00m \u001b[39mrange\u001b[39m(n_epoch):\n\u001b[0;32m     26\u001b[0m     \u001b[39m# Compute the loss using the CoxNNet class and the NN model\u001b[39;00m\n\u001b[0;32m     27\u001b[0m     loss \u001b[39m=\u001b[39m net\u001b[39m.\u001b[39mforward(model)\n\u001b[1;32m---> 28\u001b[0m     loss\u001b[39m.\u001b[39;49mbackward()        \n\u001b[0;32m     29\u001b[0m     losses\u001b[39m.\u001b[39mappend(loss)\n\u001b[0;32m     31\u001b[0m     \u001b[39m# Update the weights using gradient descent\u001b[39;00m\n",
      "\u001b[1;31mAttributeError\u001b[0m: 'int' object has no attribute 'backward'"
     ]
    }
   ],
   "source": [
    "latent_class_analysis(chf, 'StatusDeath', 'TimeDeath', 4)"
   ]
  },
  {
   "attachments": {},
   "cell_type": "markdown",
   "metadata": {},
   "source": [
    "We will not use `5` values as we have not outperformed results from `Mbotwa et al. (2021)`. Likewise, we will not test on the entire dataset."
   ]
  },
  {
   "cell_type": "markdown",
   "metadata": {},
   "source": [
    "## Visualising the data\n",
    "\n",
    "We can also visualise the data."
   ]
  },
  {
   "cell_type": "code",
   "execution_count": null,
   "metadata": {},
   "outputs": [
    {
     "data": {
      "image/png": "[encoded data removed]",
      "text/plain": [
       "<Figure size 600x500 with 1 Axes>"
      ]
     },
     "metadata": {},
     "output_type": "display_data"
    }
   ],
   "source": [
    "# Calculates number of bins for the histograms by taking the square root of the number of data points (comes out as 50)\n",
    "n_bins = int(np.ceil(np.sqrt(data_x_numeric4oh.shape[0])))\n",
    "\n",
    "# Plot histogram for ClinicAge\n",
    "# Set figure size\n",
    "plt.figure(figsize=(6, 5))\n",
    "plt.hist(data_x_numeric4oh['ClinicAge'], bins=n_bins, color=\"black\")\n",
    "plt.xlabel('Clinic Age (years)')\n",
    "plt.ylabel('Frequency')\n",
    "plt.savefig('ClinicAgeDistribution.png')\n",
    "plt.show()"
   ]
  },
  {
   "cell_type": "code",
   "execution_count": null,
   "metadata": {},
   "outputs": [
    {
     "data": {
      "image/png": "[encoded data removed]",
      "text/plain": [
       "<Figure size 600x500 with 1 Axes>"
      ]
     },
     "metadata": {},
     "output_type": "display_data"
    }
   ],
   "source": [
    "# Plot histogram for ClinicAge\n",
    "plt.figure(figsize=(6, 5))\n",
    "plt.hist(data_x_numeric4oh['Haemoglobin'], bins=n_bins, color=\"black\")\n",
    "plt.xlabel('Haemoglobin (g/dl)')\n",
    "plt.ylabel('Frequency')\n",
    "plt.savefig('HaemoglobinDistribution.png')\n",
    "plt.show()"
   ]
  },
  {
   "cell_type": "code",
   "execution_count": null,
   "metadata": {},
   "outputs": [
    {
     "data": {
      "image/png": "[encoded data removed]",
      "text/plain": [
       "<Figure size 300x300 with 1 Axes>"
      ]
     },
     "metadata": {},
     "output_type": "display_data"
    }
   ],
   "source": [
    "# Create pie chart for each categorical feature of interest\n",
    "diabetes = data_x_numeric4oh['Diabetes'].copy()\n",
    "# Replace 0 with 'No Diabetes' and 1 with 'Diabetes'\n",
    "diabetes.replace({0: 'No Diabetes', 1: 'Diabetes'}, inplace=True)\n",
    "diabetes.value_counts().plot(kind='pie', autopct='%1.0f%%', figsize=(3, 3))\n",
    "plt.ylabel('')\n",
    "plt.show()"
   ]
  },
  {
   "cell_type": "code",
   "execution_count": null,
   "metadata": {},
   "outputs": [
    {
     "data": {
      "image/png": "[encoded data removed]",
      "text/plain": [
       "<Figure size 300x300 with 1 Axes>"
      ]
     },
     "metadata": {},
     "output_type": "display_data"
    }
   ],
   "source": [
    "# Create pie chart for each categorical feature of interest\n",
    "sex = data_x_numeric4oh['MaleSex=Male'].copy()\n",
    "# Replace 0 with 'Female' and 1 with 'Male'\n",
    "sex.replace({0: 'Female', 1: 'Male'}, inplace=True)\n",
    "sex.value_counts().plot(kind='pie', autopct='%1.0f%%', figsize=(3, 3))\n",
    "plt.ylabel('')\n",
    "plt.show()"
   ]
  },
  {
   "cell_type": "code",
   "execution_count": null,
   "metadata": {},
   "outputs": [
    {
     "data": {
      "image/png": "[encoded data removed]",
      "text/plain": [
       "<Figure size 500x500 with 1 Axes>"
      ]
     },
     "metadata": {},
     "output_type": "display_data"
    }
   ],
   "source": [
    "# Calculate standard deviation of each feature\n",
    "std = data_x_numeric4oh.std()\n",
    "outlier_upper_threshold = data_x_numeric4oh.mean() + 3*std\n",
    "outlier_lower_threshold = data_x_numeric4oh.mean() - 3*std\n",
    "# Calculate and plot the ratio of number of outliers to number of data in each feature\n",
    "outlier_ratio = ((data_x_numeric4oh > outlier_upper_threshold).sum() + (data_x_numeric4oh < outlier_lower_threshold).sum())/data_x_numeric4oh.shape[0] * 100\n",
    "# Sort x axis by outlier ratio\n",
    "outlier_ratio.sort_values(ascending=False, inplace=True)\n",
    "outlier_ratio.plot(kind='barh', figsize=(5, 5))\n",
    "# Horizontal black bars\n",
    "plt.barh(outlier_ratio.index, outlier_ratio, color='black')\n",
    "plt.xlabel('Ratio of anomalies (%)')\n",
    "plt.ylabel('Feature')\n",
    "plt.show()"
   ]
  },
  {
   "cell_type": "code",
   "execution_count": null,
   "metadata": {},
   "outputs": [
    {
     "data": {
      "text/html": [
       "<div>\n",
       "<style scoped>\n",
       "    .dataframe tbody tr th:only-of-type {\n",
       "        vertical-align: middle;\n",
       "    }\n",
       "\n",
       "    .dataframe tbody tr th {\n",
       "        vertical-align: top;\n",
       "    }\n",
       "\n",
       "    .dataframe thead th {\n",
       "        text-align: right;\n",
       "    }\n",
       "</style>\n",
       "<table border=\"1\" class=\"dataframe\">\n",
       "  <thead>\n",
       "    <tr style=\"text-align: right;\">\n",
       "      <th></th>\n",
       "      <th>Correlation</th>\n",
       "    </tr>\n",
       "  </thead>\n",
       "  <tbody>\n",
       "    <tr>\n",
       "      <th>ClinicAge</th>\n",
       "      <td>0.256941</td>\n",
       "    </tr>\n",
       "    <tr>\n",
       "      <th>Haemoglobin</th>\n",
       "      <td>-0.202872</td>\n",
       "    </tr>\n",
       "    <tr>\n",
       "      <th>MaleSex=Male</th>\n",
       "      <td>0.095669</td>\n",
       "    </tr>\n",
       "    <tr>\n",
       "      <th>Diabetes</th>\n",
       "      <td>0.090201</td>\n",
       "    </tr>\n",
       "  </tbody>\n",
       "</table>\n",
       "</div>"
      ],
      "text/plain": [
       "              Correlation\n",
       "ClinicAge        0.256941\n",
       "Haemoglobin     -0.202872\n",
       "MaleSex=Male     0.095669\n",
       "Diabetes         0.090201"
      ]
     },
     "metadata": {},
     "output_type": "display_data"
    }
   ],
   "source": [
    "# Compute direct correlations of selected features with the target variable\n",
    "correlations_original = data_x_numeric4oh.corrwith(target)\n",
    "# Sort them according the strength of correlations.\n",
    "correlations_index = correlations_original.abs().sort_values(kind=\"quicksort\", ascending=False).index\n",
    "# Use index to sort correlations\n",
    "correlations = correlations_original[correlations_index]\n",
    "# Display correlation value from original dataframe\n",
    "correlations_df = pd.DataFrame(correlations, index=correlations.index, columns=['Correlation'])\n",
    "# Print correlations\n",
    "display(correlations_df)"
   ]
  },
  {
   "cell_type": "code",
   "execution_count": null,
   "metadata": {},
   "outputs": [
    {
     "data": {
      "image/png": "[encoded data removed]",
      "text/plain": [
       "<Figure size 1200x800 with 2 Axes>"
      ]
     },
     "metadata": {},
     "output_type": "display_data"
    }
   ],
   "source": [
    "import seaborn as sns\n",
    "\n",
    "# Combine target variable to the dataframe (new dataframe)\n",
    "correlations_df_with_target = pd.concat([data_x_numeric4oh, target], axis=1)\n",
    "\n",
    "# Create heatmap of all correlations\n",
    "correlation=correlations_df_with_target.corr().abs()\n",
    "heatmap = sns.heatmap(correlation, vmin=0, vmax=1, annot=True, cmap='Blues')\n",
    "plt.show()"
   ]
  },
  {
   "cell_type": "markdown",
   "metadata": {},
   "source": [
    "## External Packages"
   ]
  },
  {
   "cell_type": "code",
   "execution_count": null,
   "metadata": {},
   "outputs": [
    {
     "name": "stdout",
     "output_type": "stream",
     "text": [
      "matplotlib==3.6.2\n",
      "torch==2.0.0+cu118\n",
      "numpy==1.23.5\n",
      "pandas==1.5.2\n",
      "lifelines==0.27.4\n",
      "scikit-survival==0.20.0\n",
      "seaborn==0.12.1\n"
     ]
    }
   ],
   "source": [
    "import pkg_resources\n",
    "import types\n",
    "\n",
    "def get_imports():\n",
    "    for name, val in globals().items():\n",
    "        if isinstance(val, types.ModuleType):\n",
    "            # Split ensures you get root package, \n",
    "            # not just imported function\n",
    "            name = val.__name__.split(\".\")[0]\n",
    "\n",
    "        elif isinstance(val, type):\n",
    "            name = val.__module__.split(\".\")[0]\n",
    "            \n",
    "        # Some packages are weird and have different\n",
    "        # imported names vs. system/pip names. Unfortunately,\n",
    "        # there is no systematic way to get pip names from\n",
    "        # a package's imported name. You'll have to add\n",
    "        # exceptions to this list manually!\n",
    "        poorly_named_packages = {\n",
    "            \"PIL\": \"Pillow\",\n",
    "            \"sklearn\": \"scikit-learn\",\n",
    "            \"sksurv\": \"scikit-survival\"\n",
    "        }\n",
    "        if name in poorly_named_packages.keys():\n",
    "            name = poorly_named_packages[name]\n",
    "            \n",
    "        yield name\n",
    "\n",
    "imports = list(set(get_imports()))\n",
    "\n",
    "# The only way I found to get the version of the root package\n",
    "# from only the name of the package is to cross-check the names \n",
    "# of installed packages vs. imported packages\n",
    "requirements = []\n",
    "for m in pkg_resources.working_set:\n",
    "    if m.project_name in imports and m.project_name!=\"pip\":\n",
    "        requirements.append((m.project_name, m.version))\n",
    "\n",
    "for r in requirements:\n",
    "    print(\"{}=={}\".format(*r))"
   ]
  }
 ],
 "metadata": {
  "kernelspec": {
   "display_name": "Python 3 (ipykernel)",
   "language": "python",
   "name": "python3"
  },
  "language_info": {
   "codemirror_mode": {
    "name": "ipython",
    "version": 3
   },
   "file_extension": ".py",
   "mimetype": "text/x-python",
   "name": "python",
   "nbconvert_exporter": "python",
   "pygments_lexer": "ipython3",
   "version": "3.10.7"
  },
  "vscode": {
   "interpreter": {
    "hash": "c0b10db86501ab32915d4431e7cf763e726bc22f61f5bd74457809bef5b4811e"
   }
  }
 },
 "nbformat": 4,
 "nbformat_minor": 2
}
